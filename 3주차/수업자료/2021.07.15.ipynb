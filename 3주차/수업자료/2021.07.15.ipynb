{
 "cells": [
  {
   "cell_type": "markdown",
   "id": "2c52b22c",
   "metadata": {},
   "source": [
    "# 데이터 구조의 이해 (1) - 차원과 배열-1"
   ]
  },
  {
   "cell_type": "code",
   "execution_count": 76,
   "id": "dbb9f482",
   "metadata": {},
   "outputs": [],
   "source": [
    "# 라이브러리를 임포트합니다.\n",
    "import numpy as np"
   ]
  },
  {
   "cell_type": "markdown",
   "id": "c6737cc2",
   "metadata": {},
   "source": [
    "### 2-1D 배열"
   ]
  },
  {
   "cell_type": "code",
   "execution_count": 77,
   "id": "bd00fbcf",
   "metadata": {},
   "outputs": [],
   "source": [
    "# 하나의 행으로 벡터를 만듭니다.\n",
    "vector_row = np.array([1, 2, 3])"
   ]
  },
  {
   "cell_type": "code",
   "execution_count": 78,
   "id": "796bdfec",
   "metadata": {},
   "outputs": [
    {
     "data": {
      "text/plain": [
       "array([1, 2, 3])"
      ]
     },
     "execution_count": 78,
     "metadata": {},
     "output_type": "execute_result"
    }
   ],
   "source": [
    "vector_row"
   ]
  },
  {
   "cell_type": "code",
   "execution_count": 79,
   "id": "c569c3ed",
   "metadata": {},
   "outputs": [],
   "source": [
    "# 하나의 열로 벡터를 만듭니다.\n",
    "vector_column = np.array([[1],\n",
    "                          [2],\n",
    "                          [3]])"
   ]
  },
  {
   "cell_type": "code",
   "execution_count": 80,
   "id": "7e91efd0",
   "metadata": {},
   "outputs": [
    {
     "data": {
      "text/plain": [
       "array([[1],\n",
       "       [2],\n",
       "       [3]])"
      ]
     },
     "execution_count": 80,
     "metadata": {},
     "output_type": "execute_result"
    }
   ],
   "source": [
    "vector_column"
   ]
  },
  {
   "cell_type": "code",
   "execution_count": 81,
   "id": "38d846ee",
   "metadata": {},
   "outputs": [
    {
     "name": "stdout",
     "output_type": "stream",
     "text": [
      "<class 'numpy.ndarray'>\n"
     ]
    }
   ],
   "source": [
    "# 넘파이 배열의 클래스를 출력합니다.\n",
    "print(type(vector_row))"
   ]
  },
  {
   "cell_type": "markdown",
   "id": "08eb9eaa",
   "metadata": {},
   "source": [
    "### 3- 2D 배열"
   ]
  },
  {
   "cell_type": "code",
   "execution_count": 82,
   "id": "6bfbd630",
   "metadata": {},
   "outputs": [
    {
     "data": {
      "text/plain": [
       "array([[1, 2],\n",
       "       [1, 2],\n",
       "       [1, 2]])"
      ]
     },
     "execution_count": 82,
     "metadata": {},
     "output_type": "execute_result"
    }
   ],
   "source": [
    "matrix = np.array([[1, 2],\n",
    "                   [1, 2],\n",
    "                   [1, 2]])\n",
    "matrix"
   ]
  },
  {
   "cell_type": "code",
   "execution_count": 83,
   "id": "b9a8d852",
   "metadata": {},
   "outputs": [
    {
     "data": {
      "text/plain": [
       "matrix([[1, 2],\n",
       "        [1, 2],\n",
       "        [1, 2]])"
      ]
     },
     "execution_count": 83,
     "metadata": {},
     "output_type": "execute_result"
    }
   ],
   "source": [
    "matrix_object = np.mat([[1, 2],\n",
    "                        [1, 2],\n",
    "                        [1, 2]])\n",
    "matrix_object"
   ]
  },
  {
   "cell_type": "code",
   "execution_count": 84,
   "id": "2a2688fa",
   "metadata": {},
   "outputs": [
    {
     "data": {
      "text/plain": [
       "array([[0., 0.],\n",
       "       [0., 0.],\n",
       "       [0., 0.]])"
      ]
     },
     "execution_count": 84,
     "metadata": {},
     "output_type": "execute_result"
    }
   ],
   "source": [
    "# 모두 0으로 채워줌\n",
    "\n",
    "zero_matrix = np.zeros((3, 2))\n",
    "zero_matrix"
   ]
  },
  {
   "cell_type": "code",
   "execution_count": 85,
   "id": "648893c7",
   "metadata": {},
   "outputs": [
    {
     "data": {
      "text/plain": [
       "array([[1., 1.],\n",
       "       [1., 1.],\n",
       "       [1., 1.]])"
      ]
     },
     "execution_count": 85,
     "metadata": {},
     "output_type": "execute_result"
    }
   ],
   "source": [
    "# 모두 1으로 채워줌\n",
    "\n",
    "one_matrix = np.ones((3, 2))\n",
    "one_matrix"
   ]
  },
  {
   "cell_type": "markdown",
   "id": "f246b3ee",
   "metadata": {},
   "source": [
    "### 4- 배열 정보 확인"
   ]
  },
  {
   "cell_type": "code",
   "execution_count": 86,
   "id": "4d1b306e",
   "metadata": {},
   "outputs": [
    {
     "data": {
      "text/plain": [
       "(3, 4)"
      ]
     },
     "execution_count": 86,
     "metadata": {},
     "output_type": "execute_result"
    }
   ],
   "source": [
    "# 행렬을 만듭니다.\n",
    "matrix = np.array([[1, 2, 3, 4],\n",
    "                   [5, 6, 7, 8],\n",
    "                   [9, 10, 11, 12]])\n",
    "\n",
    "# 행렬의 크기를 확인합니다.\n",
    "matrix.shape"
   ]
  },
  {
   "cell_type": "code",
   "execution_count": 87,
   "id": "4b76deb0",
   "metadata": {},
   "outputs": [
    {
     "data": {
      "text/plain": [
       "12"
      ]
     },
     "execution_count": 87,
     "metadata": {},
     "output_type": "execute_result"
    }
   ],
   "source": [
    "# 행렬의 원소 개수를 확인합니다(행 * 열).\n",
    "matrix.size"
   ]
  },
  {
   "cell_type": "code",
   "execution_count": 88,
   "id": "b7dfaed6",
   "metadata": {},
   "outputs": [
    {
     "data": {
      "text/plain": [
       "2"
      ]
     },
     "execution_count": 88,
     "metadata": {},
     "output_type": "execute_result"
    }
   ],
   "source": [
    "# 차원 수를 확인합니다.\n",
    "matrix.ndim"
   ]
  },
  {
   "cell_type": "code",
   "execution_count": 89,
   "id": "a38b9cfb",
   "metadata": {},
   "outputs": [
    {
     "name": "stdout",
     "output_type": "stream",
     "text": [
      "int32\n"
     ]
    }
   ],
   "source": [
    "# 원소의 데이터 타입을 확인합니다.\n",
    "print(matrix.dtype)"
   ]
  },
  {
   "cell_type": "code",
   "execution_count": 90,
   "id": "ccf3f891",
   "metadata": {},
   "outputs": [
    {
     "data": {
      "text/plain": [
       "array([[101, 102, 103, 104],\n",
       "       [105, 106, 107, 108],\n",
       "       [109, 110, 111, 112]])"
      ]
     },
     "execution_count": 90,
     "metadata": {},
     "output_type": "execute_result"
    }
   ],
   "source": [
    "# 모든 원소에 100을 더합니다.\n",
    "matrix + 100"
   ]
  },
  {
   "cell_type": "markdown",
   "id": "e336fb97",
   "metadata": {},
   "source": [
    "### 5- 배열 크기 변경"
   ]
  },
  {
   "cell_type": "code",
   "execution_count": 91,
   "id": "14aa862a",
   "metadata": {},
   "outputs": [
    {
     "data": {
      "text/plain": [
       "array([[ 1,  2,  3,  4,  5,  6],\n",
       "       [ 7,  8,  9, 10, 11, 12]])"
      ]
     },
     "execution_count": 91,
     "metadata": {},
     "output_type": "execute_result"
    }
   ],
   "source": [
    "# 라이브러리를 임포트합니다.\n",
    "import numpy as np\n",
    "\n",
    "# 4x3 행렬을 만듭니다.\n",
    "matrix = np.array([[1, 2, 3],\n",
    "                   [4, 5, 6],\n",
    "                   [7, 8, 9],\n",
    "                   [10, 11, 12]])\n",
    "\n",
    "# 2x6 행렬로 크기를 바꿉니다.\n",
    "matrix.reshape(2, 6)"
   ]
  },
  {
   "cell_type": "code",
   "execution_count": 92,
   "id": "03e0e256",
   "metadata": {},
   "outputs": [
    {
     "data": {
      "text/plain": [
       "12"
      ]
     },
     "execution_count": 92,
     "metadata": {},
     "output_type": "execute_result"
    }
   ],
   "source": [
    "matrix.size"
   ]
  },
  {
   "cell_type": "code",
   "execution_count": 93,
   "id": "d94eabbe",
   "metadata": {},
   "outputs": [
    {
     "data": {
      "text/plain": [
       "array([[ 1,  2,  3,  4,  5,  6,  7,  8,  9, 10, 11, 12]])"
      ]
     },
     "execution_count": 93,
     "metadata": {},
     "output_type": "execute_result"
    }
   ],
   "source": [
    "matrix.reshape(1, -1)"
   ]
  },
  {
   "cell_type": "code",
   "execution_count": 94,
   "id": "b8eb37f3",
   "metadata": {},
   "outputs": [
    {
     "data": {
      "text/plain": [
       "array([ 1,  2,  3,  4,  5,  6,  7,  8,  9, 10, 11, 12])"
      ]
     },
     "execution_count": 94,
     "metadata": {},
     "output_type": "execute_result"
    }
   ],
   "source": [
    "matrix.reshape(12)"
   ]
  },
  {
   "cell_type": "code",
   "execution_count": 95,
   "id": "012e9e4e",
   "metadata": {},
   "outputs": [
    {
     "data": {
      "text/plain": [
       "array([ 1,  2,  3,  4,  5,  6,  7,  8,  9, 10, 11, 12])"
      ]
     },
     "execution_count": 95,
     "metadata": {},
     "output_type": "execute_result"
    }
   ],
   "source": [
    "matrix.reshape(-1)"
   ]
  },
  {
   "cell_type": "code",
   "execution_count": 96,
   "id": "630fd62c",
   "metadata": {},
   "outputs": [
    {
     "data": {
      "text/plain": [
       "array([ 1,  2,  3,  4,  5,  6,  7,  8,  9, 10, 11, 12])"
      ]
     },
     "execution_count": 96,
     "metadata": {},
     "output_type": "execute_result"
    }
   ],
   "source": [
    "matrix.ravel()"
   ]
  },
  {
   "cell_type": "markdown",
   "id": "0ee036f2",
   "metadata": {},
   "source": [
    "### 6- 배열 전치"
   ]
  },
  {
   "cell_type": "code",
   "execution_count": 97,
   "id": "cb289cae",
   "metadata": {},
   "outputs": [
    {
     "data": {
      "text/plain": [
       "array([[1, 4, 7],\n",
       "       [2, 5, 8],\n",
       "       [3, 6, 9]])"
      ]
     },
     "execution_count": 97,
     "metadata": {},
     "output_type": "execute_result"
    }
   ],
   "source": [
    "# 행렬을 만듭니다.\n",
    "matrix = np.array([[1, 2, 3],\n",
    "                   [4, 5, 6],\n",
    "                   [7, 8, 9]])\n",
    "\n",
    "# 행렬을 전치합니다.\n",
    "matrix.T"
   ]
  },
  {
   "cell_type": "code",
   "execution_count": 98,
   "id": "93906e86",
   "metadata": {},
   "outputs": [
    {
     "data": {
      "text/plain": [
       "array([1, 2, 3, 4, 5, 6])"
      ]
     },
     "execution_count": 98,
     "metadata": {},
     "output_type": "execute_result"
    }
   ],
   "source": [
    "# 벡터를 전치합니다.\n",
    "np.array([1, 2, 3, 4, 5, 6]).T"
   ]
  },
  {
   "cell_type": "code",
   "execution_count": 99,
   "id": "3229e58b",
   "metadata": {},
   "outputs": [
    {
     "data": {
      "text/plain": [
       "array([[1],\n",
       "       [2],\n",
       "       [3],\n",
       "       [4],\n",
       "       [5],\n",
       "       [6]])"
      ]
     },
     "execution_count": 99,
     "metadata": {},
     "output_type": "execute_result"
    }
   ],
   "source": [
    "# 행 벡터를 전치합니다.\n",
    "np.array([[1, 2, 3, 4, 5, 6]]).T"
   ]
  },
  {
   "cell_type": "markdown",
   "id": "96c4f480",
   "metadata": {},
   "source": [
    "## 7- 행렬 펼치기"
   ]
  },
  {
   "cell_type": "code",
   "execution_count": 100,
   "id": "b6cf2f9e",
   "metadata": {},
   "outputs": [
    {
     "data": {
      "text/plain": [
       "array([1, 2, 3, 4, 5, 6, 7, 8, 9])"
      ]
     },
     "execution_count": 100,
     "metadata": {},
     "output_type": "execute_result"
    }
   ],
   "source": [
    "# 라이브러리를 임포트합니다.\n",
    "import numpy as np\n",
    "\n",
    "# 행렬을 만듭니다.\n",
    "matrix = np.array([[1, 2, 3],\n",
    "                   [4, 5, 6],\n",
    "                   [7, 8, 9]])\n",
    "\n",
    "# 행렬을 펼칩니다.\n",
    "matrix.flatten()"
   ]
  },
  {
   "cell_type": "code",
   "execution_count": 101,
   "id": "3cc23efe",
   "metadata": {
    "scrolled": true
   },
   "outputs": [
    {
     "data": {
      "text/plain": [
       "array([[1, 2, 3, 4, 5, 6, 7, 8, 9]])"
      ]
     },
     "execution_count": 101,
     "metadata": {},
     "output_type": "execute_result"
    }
   ],
   "source": [
    "matrix.reshape(1, -1)"
   ]
  },
  {
   "cell_type": "markdown",
   "id": "8d854933",
   "metadata": {},
   "source": [
    "-------------------------"
   ]
  },
  {
   "cell_type": "markdown",
   "id": "fc0d97b2",
   "metadata": {},
   "source": [
    "# 데이터 구조의 이해 (1): 차원과 배열-2"
   ]
  },
  {
   "cell_type": "code",
   "execution_count": 102,
   "id": "5b50cc11",
   "metadata": {},
   "outputs": [],
   "source": [
    "import numpy as np\n",
    "from IPython.display import Image"
   ]
  },
  {
   "cell_type": "code",
   "execution_count": 103,
   "id": "64b97350",
   "metadata": {},
   "outputs": [
    {
     "data": {
      "text/plain": [
       "array([1, 2, 3])"
      ]
     },
     "execution_count": 103,
     "metadata": {},
     "output_type": "execute_result"
    }
   ],
   "source": [
    "# 하나의 행으로 벡터를 만듭니다.\n",
    "a = np.array([1, 2, 3])\n",
    "a"
   ]
  },
  {
   "cell_type": "code",
   "execution_count": 104,
   "id": "4c9fe56e",
   "metadata": {},
   "outputs": [
    {
     "data": {
      "text/plain": [
       "array([[1],\n",
       "       [2],\n",
       "       [3]])"
      ]
     },
     "execution_count": 104,
     "metadata": {},
     "output_type": "execute_result"
    }
   ],
   "source": [
    "# 하나의 열로 벡터를 만듭니다.\n",
    "b = np.array([[1],[2],[3]])\n",
    "b"
   ]
  },
  {
   "cell_type": "code",
   "execution_count": 105,
   "id": "41ec8b33",
   "metadata": {},
   "outputs": [
    {
     "data": {
      "text/plain": [
       "(numpy.ndarray, numpy.ndarray)"
      ]
     },
     "execution_count": 105,
     "metadata": {},
     "output_type": "execute_result"
    }
   ],
   "source": [
    "type(a), type(b)"
   ]
  },
  {
   "cell_type": "code",
   "execution_count": 106,
   "id": "c6f7c3e1",
   "metadata": {},
   "outputs": [
    {
     "data": {
      "text/plain": [
       "(3,)"
      ]
     },
     "execution_count": 106,
     "metadata": {},
     "output_type": "execute_result"
    }
   ],
   "source": [
    "a.shape"
   ]
  },
  {
   "cell_type": "code",
   "execution_count": 107,
   "id": "32dbdc8b",
   "metadata": {},
   "outputs": [
    {
     "data": {
      "text/plain": [
       "(3, 1)"
      ]
     },
     "execution_count": 107,
     "metadata": {},
     "output_type": "execute_result"
    }
   ],
   "source": [
    "b.shape"
   ]
  },
  {
   "cell_type": "code",
   "execution_count": 108,
   "id": "c3f59672",
   "metadata": {},
   "outputs": [
    {
     "data": {
      "text/plain": [
       "(12,)"
      ]
     },
     "execution_count": 108,
     "metadata": {},
     "output_type": "execute_result"
    }
   ],
   "source": [
    "a1 = np.arange(1, 13)  # numbers 1 to 12\n",
    "a1.shape"
   ]
  },
  {
   "cell_type": "markdown",
   "id": "1c5ce7da",
   "metadata": {},
   "source": [
    "## 2- 2D 배열"
   ]
  },
  {
   "cell_type": "code",
   "execution_count": 109,
   "id": "bccc3a8e",
   "metadata": {},
   "outputs": [
    {
     "data": {
      "text/plain": [
       "array([[1, 2],\n",
       "       [1, 2],\n",
       "       [1, 2]])"
      ]
     },
     "execution_count": 109,
     "metadata": {},
     "output_type": "execute_result"
    }
   ],
   "source": [
    "a = np.array([[1, 2],\n",
    "            [1, 2],\n",
    "            [1, 2]])\n",
    "a"
   ]
  },
  {
   "cell_type": "code",
   "execution_count": 110,
   "id": "5aa1f1d4",
   "metadata": {},
   "outputs": [
    {
     "data": {
      "text/plain": [
       "array([[0., 0.],\n",
       "       [0., 0.],\n",
       "       [0., 0.]])"
      ]
     },
     "execution_count": 110,
     "metadata": {},
     "output_type": "execute_result"
    }
   ],
   "source": [
    "a_0 = np.zeros((3, 2))\n",
    "a_0"
   ]
  },
  {
   "cell_type": "code",
   "execution_count": 111,
   "id": "51eaf2f7",
   "metadata": {},
   "outputs": [
    {
     "data": {
      "text/plain": [
       "array([[1., 1.],\n",
       "       [1., 1.],\n",
       "       [1., 1.]])"
      ]
     },
     "execution_count": 111,
     "metadata": {},
     "output_type": "execute_result"
    }
   ],
   "source": [
    "a_1 = np.ones((3, 2))\n",
    "a_1"
   ]
  },
  {
   "cell_type": "markdown",
   "id": "b1dbfcc9",
   "metadata": {},
   "source": [
    "## 3- 배열 정보 확인"
   ]
  },
  {
   "cell_type": "code",
   "execution_count": 112,
   "id": "df04958f",
   "metadata": {},
   "outputs": [
    {
     "data": {
      "text/plain": [
       "(3, 2)"
      ]
     },
     "execution_count": 112,
     "metadata": {},
     "output_type": "execute_result"
    }
   ],
   "source": [
    "a.shape"
   ]
  },
  {
   "cell_type": "code",
   "execution_count": 113,
   "id": "beeee229",
   "metadata": {},
   "outputs": [
    {
     "data": {
      "text/plain": [
       "(3, 2)"
      ]
     },
     "execution_count": 113,
     "metadata": {},
     "output_type": "execute_result"
    }
   ],
   "source": [
    "a_0.shape"
   ]
  },
  {
   "cell_type": "code",
   "execution_count": 114,
   "id": "1aa156b2",
   "metadata": {},
   "outputs": [
    {
     "data": {
      "text/plain": [
       "(3, 2)"
      ]
     },
     "execution_count": 114,
     "metadata": {},
     "output_type": "execute_result"
    }
   ],
   "source": [
    "a_1.shape"
   ]
  },
  {
   "cell_type": "code",
   "execution_count": 115,
   "id": "d2800e2e",
   "metadata": {},
   "outputs": [
    {
     "data": {
      "text/plain": [
       "2"
      ]
     },
     "execution_count": 115,
     "metadata": {},
     "output_type": "execute_result"
    }
   ],
   "source": [
    "a.ndim"
   ]
  },
  {
   "cell_type": "code",
   "execution_count": 116,
   "id": "11b69c7d",
   "metadata": {},
   "outputs": [
    {
     "data": {
      "text/plain": [
       "2"
      ]
     },
     "execution_count": 116,
     "metadata": {},
     "output_type": "execute_result"
    }
   ],
   "source": [
    "a_0.ndim"
   ]
  },
  {
   "cell_type": "code",
   "execution_count": 117,
   "id": "62f3dd5c",
   "metadata": {},
   "outputs": [
    {
     "data": {
      "text/plain": [
       "dtype('int32')"
      ]
     },
     "execution_count": 117,
     "metadata": {},
     "output_type": "execute_result"
    }
   ],
   "source": [
    "a.dtype"
   ]
  },
  {
   "cell_type": "code",
   "execution_count": 118,
   "id": "6ca2398f",
   "metadata": {},
   "outputs": [
    {
     "data": {
      "text/plain": [
       "dtype('float64')"
      ]
     },
     "execution_count": 118,
     "metadata": {},
     "output_type": "execute_result"
    }
   ],
   "source": [
    "a_1.dtype"
   ]
  },
  {
   "cell_type": "code",
   "execution_count": 119,
   "id": "34317d25",
   "metadata": {},
   "outputs": [
    {
     "data": {
      "text/plain": [
       "dtype('float64')"
      ]
     },
     "execution_count": 119,
     "metadata": {},
     "output_type": "execute_result"
    }
   ],
   "source": [
    "a_0.dtype"
   ]
  },
  {
   "cell_type": "markdown",
   "id": "b5ce940b",
   "metadata": {},
   "source": [
    "## 4- reshape( ) 배열 바꾸기"
   ]
  },
  {
   "cell_type": "code",
   "execution_count": 120,
   "id": "1447617b",
   "metadata": {},
   "outputs": [
    {
     "data": {
      "text/plain": [
       "(3, 4)"
      ]
     },
     "execution_count": 120,
     "metadata": {},
     "output_type": "execute_result"
    }
   ],
   "source": [
    "a1_2d = a1.reshape(3, 4)  # 3_4\n",
    "a1_2d.shape"
   ]
  },
  {
   "cell_type": "code",
   "execution_count": 121,
   "id": "e78dd314",
   "metadata": {},
   "outputs": [
    {
     "data": {
      "text/plain": [
       "array([[ 1,  2,  3,  4],\n",
       "       [ 5,  6,  7,  8],\n",
       "       [ 9, 10, 11, 12]])"
      ]
     },
     "execution_count": 121,
     "metadata": {},
     "output_type": "execute_result"
    }
   ],
   "source": [
    "a1.reshape(3, 4)"
   ]
  },
  {
   "cell_type": "code",
   "execution_count": 122,
   "id": "6289cf00",
   "metadata": {},
   "outputs": [
    {
     "data": {
      "text/plain": [
       "array([[ 1,  2,  3,  4],\n",
       "       [ 5,  6,  7,  8],\n",
       "       [ 9, 10, 11, 12]])"
      ]
     },
     "execution_count": 122,
     "metadata": {},
     "output_type": "execute_result"
    }
   ],
   "source": [
    "a1.reshape(-1, 4)"
   ]
  },
  {
   "cell_type": "code",
   "execution_count": 123,
   "id": "44655385",
   "metadata": {},
   "outputs": [
    {
     "data": {
      "text/plain": [
       "array([[ 1,  2,  3,  4],\n",
       "       [ 5,  6,  7,  8],\n",
       "       [ 9, 10, 11, 12]])"
      ]
     },
     "execution_count": 123,
     "metadata": {},
     "output_type": "execute_result"
    }
   ],
   "source": [
    "  # same as above: a1.reshape(3, 4)\n",
    "a1.reshape(3, 4)"
   ]
  },
  {
   "cell_type": "code",
   "execution_count": 124,
   "id": "6065db28",
   "metadata": {},
   "outputs": [
    {
     "data": {
      "text/plain": [
       "array([[ 1,  2,  3,  4],\n",
       "       [ 5,  6,  7,  8],\n",
       "       [ 9, 10, 11, 12]])"
      ]
     },
     "execution_count": 124,
     "metadata": {},
     "output_type": "execute_result"
    }
   ],
   "source": [
    "a1.reshape(3, -1)"
   ]
  },
  {
   "cell_type": "code",
   "execution_count": 125,
   "id": "a3404c71",
   "metadata": {},
   "outputs": [
    {
     "data": {
      "text/plain": [
       "array([[ 1,  2,  3,  4,  5,  6],\n",
       "       [ 7,  8,  9, 10, 11, 12]])"
      ]
     },
     "execution_count": 125,
     "metadata": {},
     "output_type": "execute_result"
    }
   ],
   "source": [
    "  # same as above: a1.reshape(3, 4)\n",
    "a1.reshape(2, 6)"
   ]
  },
  {
   "cell_type": "code",
   "execution_count": 126,
   "id": "e69f5dae",
   "metadata": {},
   "outputs": [
    {
     "data": {
      "text/plain": [
       "array([[ 1,  2,  3,  4,  5,  6],\n",
       "       [ 7,  8,  9, 10, 11, 12]])"
      ]
     },
     "execution_count": 126,
     "metadata": {},
     "output_type": "execute_result"
    }
   ],
   "source": [
    "a1.reshape(2, -1)  # same as above: a1.reshape(2, 6)"
   ]
  },
  {
   "cell_type": "markdown",
   "id": "df8cb651",
   "metadata": {},
   "source": [
    "## 5- reshape( ) 다른 방향으로"
   ]
  },
  {
   "cell_type": "code",
   "execution_count": 127,
   "id": "f3767c64",
   "metadata": {},
   "outputs": [
    {
     "data": {
      "text/plain": [
       "array([[ 1,  2,  3,  4],\n",
       "       [ 5,  6,  7,  8],\n",
       "       [ 9, 10, 11, 12]])"
      ]
     },
     "execution_count": 127,
     "metadata": {},
     "output_type": "execute_result"
    }
   ],
   "source": [
    "a1.reshape(3, 4) # reshapes or ‘fills in’ row by row"
   ]
  },
  {
   "cell_type": "code",
   "execution_count": 128,
   "id": "6a19291e",
   "metadata": {},
   "outputs": [
    {
     "data": {
      "text/plain": [
       "array([[ 1,  2,  3,  4],\n",
       "       [ 5,  6,  7,  8],\n",
       "       [ 9, 10, 11, 12]])"
      ]
     },
     "execution_count": 128,
     "metadata": {},
     "output_type": "execute_result"
    }
   ],
   "source": [
    "a1.reshape(3, 4, order='C') # same results as above"
   ]
  },
  {
   "cell_type": "code",
   "execution_count": 129,
   "id": "39aff25c",
   "metadata": {},
   "outputs": [
    {
     "data": {
      "text/plain": [
       "array([[ 1,  4,  7, 10],\n",
       "       [ 2,  5,  8, 11],\n",
       "       [ 3,  6,  9, 12]])"
      ]
     },
     "execution_count": 129,
     "metadata": {},
     "output_type": "execute_result"
    }
   ],
   "source": [
    "a1.reshape(3, 4, order='F')  # reshapes column by column"
   ]
  },
  {
   "cell_type": "code",
   "execution_count": 130,
   "id": "dbcbaac6",
   "metadata": {},
   "outputs": [
    {
     "data": {
      "text/plain": [
       "array([ 1,  2,  3,  4,  5,  6,  7,  8,  9, 10, 11, 12])"
      ]
     },
     "execution_count": 130,
     "metadata": {},
     "output_type": "execute_result"
    }
   ],
   "source": [
    "a1  # what's the shape?"
   ]
  },
  {
   "cell_type": "code",
   "execution_count": 131,
   "id": "186a16e8",
   "metadata": {},
   "outputs": [
    {
     "data": {
      "text/plain": [
       "(12,)"
      ]
     },
     "execution_count": 131,
     "metadata": {},
     "output_type": "execute_result"
    }
   ],
   "source": [
    "a1.shape"
   ]
  },
  {
   "cell_type": "code",
   "execution_count": 132,
   "id": "4c0a9e6d",
   "metadata": {},
   "outputs": [
    {
     "data": {
      "text/plain": [
       "array([[ 1,  2,  3,  4,  5,  6,  7,  8,  9, 10, 11, 12]])"
      ]
     },
     "execution_count": 132,
     "metadata": {},
     "output_type": "execute_result"
    }
   ],
   "source": [
    "a1_1_by_12 = a1.reshape(1, -1)  # reshape to 1_12\n",
    "a1_1_by_12"
   ]
  },
  {
   "cell_type": "code",
   "execution_count": 133,
   "id": "23e85190",
   "metadata": {},
   "outputs": [
    {
     "data": {
      "text/plain": [
       "(1, 12)"
      ]
     },
     "execution_count": 133,
     "metadata": {},
     "output_type": "execute_result"
    }
   ],
   "source": [
    "a1_1_by_12.shape  # 1_12 array"
   ]
  },
  {
   "cell_type": "markdown",
   "id": "65557a1f",
   "metadata": {},
   "source": [
    "## 6- Flatten( ), ravel( )로 1D arrays 사용"
   ]
  },
  {
   "cell_type": "code",
   "execution_count": 134,
   "id": "a1144fb0",
   "metadata": {},
   "outputs": [
    {
     "data": {
      "text/plain": [
       "array([[ 1,  2,  3,  4],\n",
       "       [ 5,  6,  7,  8],\n",
       "       [ 9, 10, 11, 12]])"
      ]
     },
     "execution_count": 134,
     "metadata": {},
     "output_type": "execute_result"
    }
   ],
   "source": [
    "a1_2d  # 3_4"
   ]
  },
  {
   "cell_type": "code",
   "execution_count": 135,
   "id": "b11bf3e5",
   "metadata": {},
   "outputs": [
    {
     "data": {
      "text/plain": [
       "array([ 1,  2,  3,  4,  5,  6,  7,  8,  9, 10, 11, 12])"
      ]
     },
     "execution_count": 135,
     "metadata": {},
     "output_type": "execute_result"
    }
   ],
   "source": [
    "a1_2d.ravel()  # ravel by row (default order='C')"
   ]
  },
  {
   "cell_type": "code",
   "execution_count": 136,
   "id": "1e675fcf",
   "metadata": {},
   "outputs": [
    {
     "data": {
      "text/plain": [
       "array([ 1,  5,  9,  2,  6, 10,  3,  7, 11,  4,  8, 12])"
      ]
     },
     "execution_count": 136,
     "metadata": {},
     "output_type": "execute_result"
    }
   ],
   "source": [
    "a1_2d.ravel(order='F')  # ravel by column"
   ]
  },
  {
   "cell_type": "markdown",
   "id": "0e2a2974",
   "metadata": {},
   "source": [
    "## 7- Concatenate/stack을 위한 np.stack( ) & np.hstack( )"
   ]
  },
  {
   "cell_type": "code",
   "execution_count": 137,
   "id": "cf8f7496",
   "metadata": {},
   "outputs": [],
   "source": [
    "a1 = np.arange(1, 13)\n",
    "a2 = np.arange(13, 25)"
   ]
  },
  {
   "cell_type": "code",
   "execution_count": 138,
   "id": "f45788c7",
   "metadata": {},
   "outputs": [
    {
     "data": {
      "text/plain": [
       "array([ 1,  2,  3,  4,  5,  6,  7,  8,  9, 10, 11, 12])"
      ]
     },
     "execution_count": 138,
     "metadata": {},
     "output_type": "execute_result"
    }
   ],
   "source": [
    "a1"
   ]
  },
  {
   "cell_type": "code",
   "execution_count": 139,
   "id": "81b75882",
   "metadata": {},
   "outputs": [
    {
     "data": {
      "text/plain": [
       "array([13, 14, 15, 16, 17, 18, 19, 20, 21, 22, 23, 24])"
      ]
     },
     "execution_count": 139,
     "metadata": {},
     "output_type": "execute_result"
    }
   ],
   "source": [
    "a2"
   ]
  },
  {
   "cell_type": "code",
   "execution_count": 140,
   "id": "0cb48a4c",
   "metadata": {},
   "outputs": [
    {
     "data": {
      "text/plain": [
       "(4, 12)"
      ]
     },
     "execution_count": 140,
     "metadata": {},
     "output_type": "execute_result"
    }
   ],
   "source": [
    "stack0 = np.stack((a1, a1, a2, a2))  # default stack along 0th axis\n",
    "stack0.shape"
   ]
  },
  {
   "cell_type": "code",
   "execution_count": 141,
   "id": "13f7dbbd",
   "metadata": {},
   "outputs": [
    {
     "data": {
      "text/plain": [
       "(12, 4)"
      ]
     },
     "execution_count": 141,
     "metadata": {},
     "output_type": "execute_result"
    }
   ],
   "source": [
    "stack1 = np.stack((a1, a1, a2, a2), axis=1)\n",
    "stack1.shape"
   ]
  },
  {
   "cell_type": "code",
   "execution_count": 142,
   "id": "546fb891",
   "metadata": {},
   "outputs": [
    {
     "data": {
      "text/plain": [
       "(24,)"
      ]
     },
     "execution_count": 142,
     "metadata": {},
     "output_type": "execute_result"
    }
   ],
   "source": [
    "stack_long = np.hstack((a1, a2))\n",
    "stack_long.shape"
   ]
  },
  {
   "cell_type": "markdown",
   "id": "f44cad4b",
   "metadata": {},
   "source": [
    "## 8- 3차원 배열 만들기"
   ]
  },
  {
   "cell_type": "code",
   "execution_count": 143,
   "id": "fb740ea7",
   "metadata": {},
   "outputs": [],
   "source": [
    "a1 = np.arange(1, 13).reshape(3, -1)  # 3_4\n",
    "a2 = np.arange(13, 25).reshape(3, -1)  # 3_4"
   ]
  },
  {
   "cell_type": "code",
   "execution_count": 144,
   "id": "069568ec",
   "metadata": {},
   "outputs": [
    {
     "data": {
      "text/plain": [
       "array([[ 1,  2,  3,  4],\n",
       "       [ 5,  6,  7,  8],\n",
       "       [ 9, 10, 11, 12]])"
      ]
     },
     "execution_count": 144,
     "metadata": {},
     "output_type": "execute_result"
    }
   ],
   "source": [
    "a1"
   ]
  },
  {
   "cell_type": "code",
   "execution_count": 145,
   "id": "ebeb43ad",
   "metadata": {},
   "outputs": [
    {
     "data": {
      "text/plain": [
       "array([[13, 14, 15, 16],\n",
       "       [17, 18, 19, 20],\n",
       "       [21, 22, 23, 24]])"
      ]
     },
     "execution_count": 145,
     "metadata": {},
     "output_type": "execute_result"
    }
   ],
   "source": [
    "a2"
   ]
  },
  {
   "cell_type": "code",
   "execution_count": 146,
   "id": "ce4be83f",
   "metadata": {},
   "outputs": [],
   "source": [
    "a3_0 = np.stack((a1, a2))  # default axis=0 (dimension 0)\n",
    "a3_1 = np.stack((a1, a2), axis=1)  # along dimension 1\n",
    "a3_2 = np.stack((a1, a2), axis=2)  # along dimension 2"
   ]
  },
  {
   "cell_type": "code",
   "execution_count": 147,
   "id": "fdd79e62",
   "metadata": {},
   "outputs": [
    {
     "data": {
      "text/plain": [
       "array([[[ 1,  2,  3,  4],\n",
       "        [ 5,  6,  7,  8],\n",
       "        [ 9, 10, 11, 12]],\n",
       "\n",
       "       [[13, 14, 15, 16],\n",
       "        [17, 18, 19, 20],\n",
       "        [21, 22, 23, 24]]])"
      ]
     },
     "execution_count": 147,
     "metadata": {},
     "output_type": "execute_result"
    }
   ],
   "source": [
    "a3_0"
   ]
  },
  {
   "cell_type": "code",
   "execution_count": 148,
   "id": "44254052",
   "metadata": {},
   "outputs": [
    {
     "data": {
      "text/plain": [
       "array([[[ 1,  2,  3,  4],\n",
       "        [13, 14, 15, 16]],\n",
       "\n",
       "       [[ 5,  6,  7,  8],\n",
       "        [17, 18, 19, 20]],\n",
       "\n",
       "       [[ 9, 10, 11, 12],\n",
       "        [21, 22, 23, 24]]])"
      ]
     },
     "execution_count": 148,
     "metadata": {},
     "output_type": "execute_result"
    }
   ],
   "source": [
    "a3_1"
   ]
  },
  {
   "cell_type": "code",
   "execution_count": 149,
   "id": "d9b551b8",
   "metadata": {},
   "outputs": [
    {
     "data": {
      "text/plain": [
       "array([[[ 1, 13],\n",
       "        [ 2, 14],\n",
       "        [ 3, 15],\n",
       "        [ 4, 16]],\n",
       "\n",
       "       [[ 5, 17],\n",
       "        [ 6, 18],\n",
       "        [ 7, 19],\n",
       "        [ 8, 20]],\n",
       "\n",
       "       [[ 9, 21],\n",
       "        [10, 22],\n",
       "        [11, 23],\n",
       "        [12, 24]]])"
      ]
     },
     "execution_count": 149,
     "metadata": {},
     "output_type": "execute_result"
    }
   ],
   "source": [
    "a3_2"
   ]
  },
  {
   "cell_type": "markdown",
   "id": "eb9d6eb7",
   "metadata": {},
   "source": [
    "## 9- 배열의 차원 인덱싱"
   ]
  },
  {
   "cell_type": "code",
   "execution_count": 150,
   "id": "2ad604e1",
   "metadata": {},
   "outputs": [
    {
     "data": {
      "text/plain": [
       "array([[ 1,  2,  3,  4],\n",
       "       [ 5,  6,  7,  8],\n",
       "       [ 9, 10, 11, 12]])"
      ]
     },
     "execution_count": 150,
     "metadata": {},
     "output_type": "execute_result"
    }
   ],
   "source": [
    "# solutions\n",
    "a3_0[0, :, :]"
   ]
  },
  {
   "cell_type": "code",
   "execution_count": 151,
   "id": "da378273",
   "metadata": {},
   "outputs": [
    {
     "data": {
      "text/plain": [
       "array([[ 1,  2,  3,  4],\n",
       "       [ 5,  6,  7,  8],\n",
       "       [ 9, 10, 11, 12]])"
      ]
     },
     "execution_count": 151,
     "metadata": {},
     "output_type": "execute_result"
    }
   ],
   "source": [
    "a3_0[0]  # same as above"
   ]
  },
  {
   "cell_type": "code",
   "execution_count": 152,
   "id": "0fab898f",
   "metadata": {},
   "outputs": [
    {
     "data": {
      "text/plain": [
       "array([[ 1,  2,  3,  4],\n",
       "       [ 5,  6,  7,  8],\n",
       "       [ 9, 10, 11, 12]])"
      ]
     },
     "execution_count": 152,
     "metadata": {},
     "output_type": "execute_result"
    }
   ],
   "source": [
    "a3_1[:, 0, :]"
   ]
  },
  {
   "cell_type": "code",
   "execution_count": 153,
   "id": "3f21894a",
   "metadata": {},
   "outputs": [
    {
     "data": {
      "text/plain": [
       "array([[ 1,  2,  3,  4],\n",
       "       [ 5,  6,  7,  8],\n",
       "       [ 9, 10, 11, 12]])"
      ]
     },
     "execution_count": 153,
     "metadata": {},
     "output_type": "execute_result"
    }
   ],
   "source": [
    "a3_2[:, :, 0]"
   ]
  },
  {
   "cell_type": "markdown",
   "id": "b6f9a4f9",
   "metadata": {},
   "source": [
    "## 10- flatten( ), ravel( ) 배열 펼치기"
   ]
  },
  {
   "cell_type": "code",
   "execution_count": 154,
   "id": "444ceef0",
   "metadata": {},
   "outputs": [
    {
     "data": {
      "text/plain": [
       "array([[[ 1,  2,  3,  4],\n",
       "        [ 5,  6,  7,  8],\n",
       "        [ 9, 10, 11, 12]],\n",
       "\n",
       "       [[13, 14, 15, 16],\n",
       "        [17, 18, 19, 20],\n",
       "        [21, 22, 23, 24]]])"
      ]
     },
     "execution_count": 154,
     "metadata": {},
     "output_type": "execute_result"
    }
   ],
   "source": [
    "a3_0"
   ]
  },
  {
   "cell_type": "code",
   "execution_count": 155,
   "id": "8a613642",
   "metadata": {},
   "outputs": [
    {
     "data": {
      "text/plain": [
       "array([ 1,  2,  3,  4,  5,  6,  7,  8,  9, 10, 11, 12, 13, 14, 15, 16, 17,\n",
       "       18, 19, 20, 21, 22, 23, 24])"
      ]
     },
     "execution_count": 155,
     "metadata": {},
     "output_type": "execute_result"
    }
   ],
   "source": [
    "a3_0.ravel()"
   ]
  },
  {
   "cell_type": "code",
   "execution_count": 156,
   "id": "c16481b7",
   "metadata": {},
   "outputs": [
    {
     "data": {
      "text/plain": [
       "array([ 1, 13,  5, 17,  9, 21,  2, 14,  6, 18, 10, 22,  3, 15,  7, 19, 11,\n",
       "       23,  4, 16,  8, 20, 12, 24])"
      ]
     },
     "execution_count": 156,
     "metadata": {},
     "output_type": "execute_result"
    }
   ],
   "source": [
    "a3_0.ravel(order='F')"
   ]
  },
  {
   "cell_type": "code",
   "execution_count": 157,
   "id": "771772b2",
   "metadata": {},
   "outputs": [
    {
     "data": {
      "text/plain": [
       "array([ 1,  2,  3,  4,  5,  6,  7,  8,  9, 10, 11, 12, 13, 14, 15, 16, 17,\n",
       "       18, 19, 20, 21, 22, 23, 24])"
      ]
     },
     "execution_count": 157,
     "metadata": {},
     "output_type": "execute_result"
    }
   ],
   "source": [
    "a3_0.flatten()"
   ]
  },
  {
   "cell_type": "code",
   "execution_count": 158,
   "id": "029e32f3",
   "metadata": {},
   "outputs": [
    {
     "data": {
      "text/plain": [
       "array([ 1, 13,  5, 17,  9, 21,  2, 14,  6, 18, 10, 22,  3, 15,  7, 19, 11,\n",
       "       23,  4, 16,  8, 20, 12, 24])"
      ]
     },
     "execution_count": 158,
     "metadata": {},
     "output_type": "execute_result"
    }
   ],
   "source": [
    "a3_0.flatten(order='F')"
   ]
  },
  {
   "cell_type": "markdown",
   "id": "d798f654",
   "metadata": {},
   "source": [
    "## 11- reshape( )로 3차원 바꾸기"
   ]
  },
  {
   "cell_type": "code",
   "execution_count": 159,
   "id": "e0678a53",
   "metadata": {},
   "outputs": [
    {
     "data": {
      "text/plain": [
       "array([[ 1,  2,  3,  4,  5,  6],\n",
       "       [ 7,  8,  9, 10, 11, 12],\n",
       "       [13, 14, 15, 16, 17, 18],\n",
       "       [19, 20, 21, 22, 23, 24]])"
      ]
     },
     "execution_count": 159,
     "metadata": {},
     "output_type": "execute_result"
    }
   ],
   "source": [
    "a3_0.reshape(4, -1)  # reshape to 4_6 (row by row)"
   ]
  },
  {
   "cell_type": "code",
   "execution_count": 160,
   "id": "3eb83872",
   "metadata": {},
   "outputs": [
    {
     "data": {
      "text/plain": [
       "array([[ 1,  9,  6,  3, 11,  8],\n",
       "       [13, 21, 18, 15, 23, 20],\n",
       "       [ 5,  2, 10,  7,  4, 12],\n",
       "       [17, 14, 22, 19, 16, 24]])"
      ]
     },
     "execution_count": 160,
     "metadata": {},
     "output_type": "execute_result"
    }
   ],
   "source": [
    "a3_0.reshape(4, -1, order='F')  # reshape (column by column)"
   ]
  },
  {
   "cell_type": "code",
   "execution_count": 161,
   "id": "f01519a7",
   "metadata": {},
   "outputs": [
    {
     "data": {
      "text/plain": [
       "array([[[ 1,  2,  3],\n",
       "        [ 4,  5,  6]],\n",
       "\n",
       "       [[ 7,  8,  9],\n",
       "        [10, 11, 12]],\n",
       "\n",
       "       [[13, 14, 15],\n",
       "        [16, 17, 18]],\n",
       "\n",
       "       [[19, 20, 21],\n",
       "        [22, 23, 24]]])"
      ]
     },
     "execution_count": 161,
     "metadata": {},
     "output_type": "execute_result"
    }
   ],
   "source": [
    "a3_0.reshape(4, 2, 3)  # reshape to 4_2_3 (row by row)"
   ]
  },
  {
   "cell_type": "markdown",
   "id": "8cc9cec4",
   "metadata": {},
   "source": [
    "## 12- 배열의 전치(transpose)"
   ]
  },
  {
   "cell_type": "code",
   "execution_count": 162,
   "id": "224f9e71",
   "metadata": {},
   "outputs": [
    {
     "data": {
      "text/plain": [
       "array([[1, 2, 3],\n",
       "       [4, 5, 6],\n",
       "       [7, 8, 9]])"
      ]
     },
     "execution_count": 162,
     "metadata": {},
     "output_type": "execute_result"
    }
   ],
   "source": [
    "# 행렬을 만듭니다.\n",
    "matrix = np.array([[1, 2, 3],\n",
    "                   [4, 5, 6],\n",
    "                   [7, 8, 9]])\n",
    "matrix"
   ]
  },
  {
   "cell_type": "code",
   "execution_count": 163,
   "id": "253a15dd",
   "metadata": {},
   "outputs": [
    {
     "data": {
      "text/plain": [
       "array([[1, 4, 7],\n",
       "       [2, 5, 8],\n",
       "       [3, 6, 9]])"
      ]
     },
     "execution_count": 163,
     "metadata": {},
     "output_type": "execute_result"
    }
   ],
   "source": [
    "# 행렬을 전치합니다.\n",
    "matrix.T"
   ]
  },
  {
   "cell_type": "markdown",
   "id": "46363a7c",
   "metadata": {},
   "source": [
    "-----------------------------------------------------------------------------------"
   ]
  },
  {
   "cell_type": "markdown",
   "id": "783e2c57",
   "metadata": {},
   "source": [
    "# 데이터 구조의 이해 - (2) 데이터프레임"
   ]
  },
  {
   "cell_type": "markdown",
   "id": "17e08dfc",
   "metadata": {},
   "source": [
    "## 1- Titanic Features 변수명 설명\n",
    "- survival:\tSurvival (0 = No; 1 = Yes)\n",
    "- pclass: Passenger Class (1 = 1st; 2 = 2nd; 3 = 3rd)\n",
    "- name: Name\n",
    "- sex: Sex\n",
    "- age: Age\n",
    "- sibsp: Number of Siblings/Spouses Aboard\n",
    "- parch: Number of Parents/Children Aboard\n",
    "- ticket: Ticket Number\n",
    "- fare: Passenger Fare\n",
    "- cabin: Cabin\n",
    "- embarked: Port of Embarkation (C = Cherbourg; Q = Queenstown; S = Southampton)"
   ]
  },
  {
   "cell_type": "code",
   "execution_count": null,
   "id": "208acb8c",
   "metadata": {},
   "outputs": [],
   "source": []
  }
 ],
 "metadata": {
  "kernelspec": {
   "display_name": "Python 3",
   "language": "python",
   "name": "python3"
  },
  "language_info": {
   "codemirror_mode": {
    "name": "ipython",
    "version": 3
   },
   "file_extension": ".py",
   "mimetype": "text/x-python",
   "name": "python",
   "nbconvert_exporter": "python",
   "pygments_lexer": "ipython3",
   "version": "3.6.13"
  }
 },
 "nbformat": 4,
 "nbformat_minor": 5
}
