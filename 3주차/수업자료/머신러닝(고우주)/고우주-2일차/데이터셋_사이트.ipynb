{
 "cells": [
  {
   "cell_type": "markdown",
   "id": "309bdd6e-009c-405f-9d09-4cd9de52c377",
   "metadata": {},
   "source": [
    "# 국내외 데이터셋 구할 수 있는 사이트\n",
    "### 작성: 고우주 | kubwa 쿱와"
   ]
  },
  {
   "cell_type": "markdown",
   "id": "9814251a-b9f1-4e88-8ef0-1ed1e92bb1de",
   "metadata": {},
   "source": [
    "## 국내"
   ]
  },
  {
   "cell_type": "markdown",
   "id": "db58a31c-9671-4cbd-bd77-fc511e23a9b7",
   "metadata": {},
   "source": [
    "1. 공공데이터포털\n",
    "https://www.data.go.kr\n",
    "\n",
    "1. AI 오픈이노베이션 허브\n",
    "https://www.aihub.or.kr/\n",
    "\n",
    "1. 데이콘\n",
    "https://dacon.io\n",
    "\n",
    "1. 로컬데이터\n",
    "https://www.localdata.go.kr\n",
    "\n",
    "1. 마이크로데이터\n",
    "https://mdis.kostat.go.kr/index.do\n",
    "\n",
    "1. 통합데이터 지도\n",
    "https://www.bigdata-map.kr\n",
    "\n",
    "1. 국토부 실거래가 공개시스템\n",
    "http://rt.molit.go.kr\n",
    "\n",
    "1. 영화진흥위원회\n",
    "http://www.kofic.or.kr/kofic/business/main/main.do\n",
    " ",
    "\n",
    "1. 한국소비자원 참가격\n",
    "http://www.price.go.kr/tprice/portal/main/main.do\n",
    " ",
    "\n",
    "1. SK telecom Big Data Hub\n",
    "http://www.bigdatahub.co.kr\n",
    "\n",
    "1. 네이버 데이터랩\n",
    "http://datalab.naver.com/\n",
    "\n",
    "1. 서울연구데이터 서비스\n",
    "http://data.si.re.kr/\n",
    "\n",
    "1. 서울 열린데이터광장\n",
    "http://data.seoul.go.kr/\n",
    "\n",
    "1. 서울특별시 빅데이터 캠퍼스\n",
    "https://bigdata.seoul.go.kr/data/selectPageListDataSet.do?r_id=P210\n",
    "\n",
    "1. 빅데이터 분석 최신 동향 및 실습 데이터\n",
    "https://kbig.kr/#none\n",
    " ",
    "\n",
    "1. 금융통계정보시스템\n",
    "http://fisis.fss.or.kr/\n",
    "\n",
    "1. 금융위원회\n",
    "http://www.fsc.go.kr/\n",
    "\n",
    "1. 한국금융연구원\n",
    "http://www.kif.re.kr/\n",
    "\n",
    "1. 한국거래소\n",
    "http://www.krx.co.kr/sns/sta/sta_l_002.jsp\n",
    " ",
    "\n",
    "1. 통계사이트\n",
    "http://www.kosis.kr/\n",
    "\n",
    "1. 경제 통계\n",
    "http://ecos.bok.or.kr/\n",
    "\n",
    "1. 보건 통계\n",
    "http://stat.mw.go.kr/\n",
    "\n",
    "1. 국민건강보험공단\n",
    "https://nhiss.nhis.or.kr/\n",
    "\n",
    "1. 심평원\n",
    "http://opendata.hira.or.kr/home.do#none\n",
    " ",
    "\n",
    "1. 교육 통계\n",
    "http://cesi.kedi.re.kr/\n",
    " ",
    "\n",
    "1. 의료 통계\n",
    "https://www.hira.or.kr/\n",
    "\n",
    "1. 키프리스\n",
    "http://www.kipris.or.kr\n",
    "\n",
    "1. 윕스온\n",
    "http://www.wipson.com\n",
    "\n",
    "1. 위즈도메인\n",
    "http://www.wisdomain.com\n",
    "\n",
    "1. 공동주택 관리 정보 시스템\n",
    "http://www.k-apt.go.kr/"
   ]
  },
  {
   "cell_type": "markdown",
   "id": "44ee0332-7c92-44f5-8219-36139d7e5864",
   "metadata": {},
   "source": [
    "## 해외"
   ]
  },
  {
   "cell_type": "markdown",
   "id": "818db0bd-d8d2-4b56-940c-993d6ed2dbd6",
   "metadata": {},
   "source": [
    "1. Kaggle\n",
    "https://www.kaggle.com/datasets\n",
    "\n",
    "1. Quandl\n",
    "https://www.kaggle.com/datasets\n",
    " ",
    "\n",
    "1. KDnuggets\n",
    "http://www.kdnuggets.com/datasets/index.html\n",
    " ",
    "\n",
    "1. Data Science Central\n",
    "http://www.datasciencecentral.com/profiles/blogs/big-data-sets-available-for-free\n",
    " ",
    "\n",
    "1. UCI Machine Learning Repository\n",
    "http://www.ics.uci.edu/~mlearn/MLRepository.html\n",
    " ",
    "\n",
    "1. OECD Health Data http://titania.sourceoecd.org/vl=3705678/cl=20/nw=1/rpsv/statistic/s37_about.htm?jnlissn=99991012\n",
    " ",
    "\n",
    "1. 구글 Data Search\n",
    "https://datasetsearch.research.google.com\n",
    "\n",
    "1. US Gov. Data Center\n",
    "https://www.data.gov\n",
    "\n",
    "1. UK ov. Data Center\n",
    "https://data.gov.uk"
   ]
  },
  {
   "cell_type": "code",
   "execution_count": null,
   "id": "2ab11c71-93ed-4c43-9086-793eead1ee39",
   "metadata": {},
   "outputs": [],
   "source": []
  }
 ],
 "metadata": {
  "kernelspec": {
   "display_name": "Python 3",
   "language": "python",
   "name": "python3"
  },
  "language_info": {
   "codemirror_mode": {
    "name": "ipython",
    "version": 3
   },
   "file_extension": ".py",
   "mimetype": "text/x-python",
   "name": "python",
   "nbconvert_exporter": "python",
   "pygments_lexer": "ipython3",
   "version": "3.8.8"
  }
 },
 "nbformat": 4,
 "nbformat_minor": 5
}
