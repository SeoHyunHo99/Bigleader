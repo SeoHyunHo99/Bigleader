{
 "cells": [
  {
   "cell_type": "code",
   "execution_count": 1,
   "metadata": {
    "collapsed": true
   },
   "outputs": [],
   "source": [
    "import numpy as np\n",
    "import matplotlib\n",
    "import matplotlib.pyplot as plt\n",
    "%matplotlib inline"
   ]
  },
  {
   "cell_type": "markdown",
   "metadata": {},
   "source": [
    "## 0. Making the artificial data"
   ]
  },
  {
   "cell_type": "code",
   "execution_count": 2,
   "metadata": {
    "collapsed": true
   },
   "outputs": [],
   "source": [
    "from sklearn.datasets import make_blobs"
   ]
  },
  {
   "cell_type": "code",
   "execution_count": 3,
   "metadata": {
    "collapsed": true
   },
   "outputs": [],
   "source": [
    "np.random.seed(1234)"
   ]
  },
  {
   "cell_type": "code",
   "execution_count": 4,
   "metadata": {
    "collapsed": true
   },
   "outputs": [],
   "source": [
    "n_dim = 2\n",
    "centers = [[1,1],[-1,-1],[3,0]]\n",
    "\n",
    "x_train, y_train = make_blobs(n_samples=120, n_features=n_dim, centers=centers, shuffle=True)\n",
    "x_test, y_test = make_blobs(n_samples=30, n_features=n_dim, centers=centers, shuffle=True)"
   ]
  },
  {
   "cell_type": "code",
   "execution_count": 5,
   "metadata": {},
   "outputs": [
    {
     "name": "stdout",
     "output_type": "stream",
     "text": [
      "[[ 3.39932544  0.66848817]\n",
      " [ 0.21456479  1.46205974]\n",
      " [-0.95292836 -0.60515579]\n",
      " [ 2.32115819 -0.54690555]\n",
      " [ 1.03614194 -1.0749776 ]\n",
      " [-3.12362025 -1.33350244]\n",
      " [-0.29743778 -1.85034627]\n",
      " [-1.682884   -0.5637424 ]\n",
      " [-1.34476601 -0.47171185]\n",
      " [ 3.53678382 -0.74383037]]\n",
      "[2 0 1 0 0 1 1 1 1 2]\n"
     ]
    }
   ],
   "source": [
    "print(x_train[:10,:])\n",
    "print(y_train[:10])"
   ]
  },
  {
   "cell_type": "code",
   "execution_count": 6,
   "metadata": {},
   "outputs": [
    {
     "data": {
      "image/png": "[encoded data removed]",
      "text/plain": [
       "<matplotlib.figure.Figure at 0x11108a7b8>"
      ]
     },
     "metadata": {},
     "output_type": "display_data"
    }
   ],
   "source": [
    "# Train set\n",
    "plt.figure()\n",
    "c0_train = plt.scatter(x_train[(y_train==0),0], x_train[(y_train==0),1], c='blue', marker='o')\n",
    "c1_train = plt.scatter(x_train[(y_train==1),0], x_train[(y_train==1),1], c='red', marker='o')\n",
    "c2_train = plt.scatter(x_train[(y_train==2),0], x_train[(y_train==2),1], c='green', marker='o')\n",
    "plt.legend((c0_train, c1_train, c2_train), ('class=0 (train)', 'class=1 (train)', 'class=2 (train)'), loc='lower right')\n",
    "plt.show()"
   ]
  },
  {
   "cell_type": "code",
   "execution_count": 7,
   "metadata": {},
   "outputs": [
    {
     "data": {
      "text/plain": [
       "<matplotlib.legend.Legend at 0x114591cc0>"
      ]
     },
     "execution_count": 7,
     "metadata": {},
     "output_type": "execute_result"
    },
    {
     "data": {
      "image/png": "[encoded data removed]",
      "text/plain": [
       "<matplotlib.figure.Figure at 0x11445cba8>"
      ]
     },
     "metadata": {},
     "output_type": "display_data"
    }
   ],
   "source": [
    "# Test set\n",
    "plt.figure()\n",
    "c0_test = plt.scatter(x_test[(y_test==0),0], x_test[(y_test==0),1], c='blue', marker='+')\n",
    "c1_test = plt.scatter(x_test[(y_test==1),0], x_test[(y_test==1),1], c='red', marker='+')\n",
    "c2_test = plt.scatter(x_test[(y_test==2),0], x_test[(y_test==2),1], c='green', marker='+')\n",
    "plt.legend((c0_test, c1_test, c2_test), ('class=0 (test)', 'class=1 (test)', 'class=2 (test)'), loc='lower right')"
   ]
  },
  {
   "cell_type": "markdown",
   "metadata": {},
   "source": [
    "## 1. Euclidean distance between two points"
   ]
  },
  {
   "cell_type": "markdown",
   "metadata": {},
   "source": [
    "- Eclidean distance using numpy"
   ]
  },
  {
   "cell_type": "code",
   "execution_count": 8,
   "metadata": {},
   "outputs": [
    {
     "name": "stdout",
     "output_type": "stream",
     "text": [
      "Two points:  [1 1 1] [3 3 3]\n"
     ]
    }
   ],
   "source": [
    "# Two points (or vectors)\n",
    "a = np.array([1, 1, 1])\n",
    "b = np.array([3, 3, 3])\n",
    "\n",
    "print('Two points: ', a, b)"
   ]
  },
  {
   "cell_type": "code",
   "execution_count": 9,
   "metadata": {},
   "outputs": [
    {
     "name": "stdout",
     "output_type": "stream",
     "text": [
      "[-2 -2 -2]\n",
      "[4 4 4]\n",
      "12\n",
      "3.46410161514\n"
     ]
    }
   ],
   "source": [
    "print(a - b)\n",
    "print(np.power(a - b, 2))\n",
    "print(np.sum(np.power(a - b, 2)))\n",
    "print(np.sqrt(np.sum(np.power(a - b, 2))))"
   ]
  },
  {
   "cell_type": "code",
   "execution_count": 10,
   "metadata": {
    "collapsed": true
   },
   "outputs": [],
   "source": [
    "# Function for calculating euclidean distance between two vectors v1, v2\n",
    "def euclidean_distance(v1, v2):\n",
    "    return np.sqrt(np.sum(np.power(v1 - v2, 2)))"
   ]
  },
  {
   "cell_type": "code",
   "execution_count": 11,
   "metadata": {},
   "outputs": [
    {
     "name": "stdout",
     "output_type": "stream",
     "text": [
      "3.46410161514\n"
     ]
    }
   ],
   "source": [
    "print(euclidean_distance(a, b))"
   ]
  },
  {
   "cell_type": "markdown",
   "metadata": {},
   "source": [
    "## 2. Euclidean distances between a query point and train points"
   ]
  },
  {
   "cell_type": "code",
   "execution_count": 12,
   "metadata": {
    "scrolled": true
   },
   "outputs": [
    {
     "name": "stdout",
     "output_type": "stream",
     "text": [
      "[ 3.39932544  0.66848817]\n",
      "[ 0.21456479  1.46205974]\n",
      "[-0.95292836 -0.60515579]\n",
      "[ 2.32115819 -0.54690555]\n",
      "[ 1.03614194 -1.0749776 ]\n",
      "[-3.12362025 -1.33350244]\n",
      "[-0.29743778 -1.85034627]\n",
      "[-1.682884  -0.5637424]\n",
      "[-1.34476601 -0.47171185]\n",
      "[ 3.53678382 -0.74383037]\n",
      "[ 2.03380073 -1.40045363]\n",
      "[ 4.91075943  0.78796468]\n",
      "[ 3.58107332  2.76384408]\n",
      "[ 1.75234708  0.24945522]\n",
      "[ 1.59056826  1.42298595]\n",
      "[ 0.35779726 -1.80483372]\n",
      "[-3.08526564  0.93024677]\n",
      "[ 1.63197945  1.03951269]\n",
      "[ 2.84290086 -0.74046902]\n",
      "[ 0.85214496 -1.34753251]\n",
      "[ 1.12471295  0.67720519]\n",
      "[ 1.70422823  1.52350797]\n",
      "[ 4.27239508 -1.44956661]\n",
      "[ 3.51308214 -0.54641628]\n",
      "[-2.06898878 -1.51188131]\n",
      "[-1.20393287 -1.18217541]\n",
      "[ 2.04757857  2.04593826]\n",
      "[ 2.83886309  0.88915749]\n",
      "[ 1.21188339  1.70472062]\n",
      "[ 1.19342138  1.55343891]\n",
      "[ 1.80447626 -0.59186297]\n",
      "[ 0.17681245 -1.5243361 ]\n",
      "[-2.73534887  0.2103837 ]\n",
      "[ 1.22696254 -0.15265911]\n",
      "[ 1.30796886  0.79150124]\n",
      "[ 1.47143516 -0.19097569]\n",
      "[-0.319344   -2.81849899]\n",
      "[-2.70301277 -0.6062894 ]\n",
      "[ 3.44026639  0.68897186]\n",
      "[ 1.07619959  0.43355407]\n",
      "[ 0.66592263  1.00211836]\n",
      "[ 3.95247835  0.98813758]\n",
      "[ 3.28837685 -1.05153894]\n",
      "[ 2.06184739 -1.23907156]\n",
      "[-0.49640824 -0.71470432]\n",
      "[ 3.20939479 -0.592886  ]\n",
      "[-0.23263126 -0.01508016]\n",
      "[ 0.45175755  0.85538049]\n",
      "[ 1.52688359 -0.89658062]\n",
      "[ 3.03060362 -0.14263129]\n",
      "[ 1.35402033  0.96448697]\n",
      "[ 1.01569637 -1.24268495]\n",
      "[-0.51571189  0.36348151]\n",
      "[ 0.81689146  2.05896919]\n",
      "[ 1.40545341  1.28909194]\n",
      "[ 2.6804386  -0.61999309]\n",
      "[ 3.22636323 -2.07861789]\n",
      "[ 0.32110562 -0.84736945]\n",
      "[ 2.1403317   0.22598549]\n",
      "[ 1.56573831  2.5456588 ]\n",
      "[-0.18387277  0.89353447]\n",
      "[ 1.84167471  3.39096052]\n",
      "[ 1.86371729  0.87790843]\n",
      "[ 2.31815155  0.53069472]\n",
      "[-0.30589671 -0.32137033]\n",
      "[-0.18340607 -1.08194705]\n",
      "[ 4.12638582  0.24711172]\n",
      "[ 2.61211377 -0.08710697]\n",
      "[ 1.2477922   0.10284322]\n",
      "[ 2.47537265  0.07187804]\n",
      "[ 1.85958841  0.3634765 ]\n",
      "[ 3.15699838 -0.57145535]\n",
      "[ 2.43270697  0.6873481 ]\n",
      "[ 1.75541398  1.21526858]\n",
      "[-0.53560767 -4.56351666]\n",
      "[-1.479324   -1.29901629]\n",
      "[-0.36036724 -1.96202883]\n",
      "[ 0.27941127  1.88716294]\n",
      "[ 2.15003572  1.99194602]\n",
      "[ 2.67979612 -0.91619886]\n",
      "[-2.02785056 -1.58471821]\n",
      "[-0.760444   -0.84877337]\n",
      "[ 4.05763318 -0.79148881]\n",
      "[ 4.04394466  2.10778515]\n",
      "[-0.29909227 -0.01581193]\n",
      "[-1.78110528 -1.46801767]\n",
      "[ 1.95332413 -1.02125482]\n",
      "[-1.4507651  -0.25083619]\n",
      "[-1.88671935 -0.66580207]\n",
      "[ 4.45992748  1.01540546]\n",
      "[ 3.7491846  -0.67552148]\n",
      "[ 0.07374569  3.00784295]\n",
      "[-0.20256458 -1.37981078]\n",
      "[ 0.02576367  0.92965512]\n",
      "[ 0.60215977  1.33743765]\n",
      "[ 3.62877583  0.18649435]\n",
      "[-1.24843205 -1.61770665]\n",
      "[-0.1245245  -2.71071532]\n",
      "[ 3.13968327 -0.22301898]\n",
      "[ 0.79735368  0.34403066]\n",
      "[ 0.86320517  1.01828919]\n",
      "[-1.47402089 -1.05669572]\n",
      "[-1.12172841  1.36576863]\n",
      "[ 5.12369189  0.12227343]\n",
      "[ 3.41120402  0.89076496]\n",
      "[ 3.12117181  0.29898394]\n",
      "[-0.70879464 -0.4334663 ]\n",
      "[-0.50385707 -0.20340513]\n",
      "[ 0.22457436 -2.28110828]\n",
      "[-0.92015769 -1.39996458]\n",
      "[ 1.67555409 -0.81702723]\n",
      "[-0.72916415  0.39198619]\n",
      "[ 1.84100879 -0.44581008]\n",
      "[ 2.72335387  1.92453332]\n",
      "[ 2.92739169 -0.55060292]\n",
      "[ 2.58549516 -1.42579473]\n",
      "[ 4.10435157 -0.43154952]\n",
      "[ 3.36356456 -0.01475211]\n",
      "[-0.40197328  0.8990818 ]\n",
      "[-0.83547046 -1.43009569]\n"
     ]
    }
   ],
   "source": [
    "# You can train points in x_train.\n",
    "for point in x_train:\n",
    "    print(point)"
   ]
  },
  {
   "cell_type": "code",
   "execution_count": 13,
   "metadata": {},
   "outputs": [
    {
     "name": "stdout",
     "output_type": "stream",
     "text": [
      "0 \t [ 3.39932544  0.66848817]\n",
      "1 \t [ 0.21456479  1.46205974]\n",
      "2 \t [-0.95292836 -0.60515579]\n",
      "3 \t [ 2.32115819 -0.54690555]\n",
      "4 \t [ 1.03614194 -1.0749776 ]\n",
      "5 \t [-3.12362025 -1.33350244]\n",
      "6 \t [-0.29743778 -1.85034627]\n",
      "7 \t [-1.682884  -0.5637424]\n",
      "8 \t [-1.34476601 -0.47171185]\n",
      "9 \t [ 3.53678382 -0.74383037]\n",
      "10 \t [ 2.03380073 -1.40045363]\n",
      "11 \t [ 4.91075943  0.78796468]\n",
      "12 \t [ 3.58107332  2.76384408]\n",
      "13 \t [ 1.75234708  0.24945522]\n",
      "14 \t [ 1.59056826  1.42298595]\n",
      "15 \t [ 0.35779726 -1.80483372]\n",
      "16 \t [-3.08526564  0.93024677]\n",
      "17 \t [ 1.63197945  1.03951269]\n",
      "18 \t [ 2.84290086 -0.74046902]\n",
      "19 \t [ 0.85214496 -1.34753251]\n",
      "20 \t [ 1.12471295  0.67720519]\n",
      "21 \t [ 1.70422823  1.52350797]\n",
      "22 \t [ 4.27239508 -1.44956661]\n",
      "23 \t [ 3.51308214 -0.54641628]\n",
      "24 \t [-2.06898878 -1.51188131]\n",
      "25 \t [-1.20393287 -1.18217541]\n",
      "26 \t [ 2.04757857  2.04593826]\n",
      "27 \t [ 2.83886309  0.88915749]\n",
      "28 \t [ 1.21188339  1.70472062]\n",
      "29 \t [ 1.19342138  1.55343891]\n",
      "30 \t [ 1.80447626 -0.59186297]\n",
      "31 \t [ 0.17681245 -1.5243361 ]\n",
      "32 \t [-2.73534887  0.2103837 ]\n",
      "33 \t [ 1.22696254 -0.15265911]\n",
      "34 \t [ 1.30796886  0.79150124]\n",
      "35 \t [ 1.47143516 -0.19097569]\n",
      "36 \t [-0.319344   -2.81849899]\n",
      "37 \t [-2.70301277 -0.6062894 ]\n",
      "38 \t [ 3.44026639  0.68897186]\n",
      "39 \t [ 1.07619959  0.43355407]\n",
      "40 \t [ 0.66592263  1.00211836]\n",
      "41 \t [ 3.95247835  0.98813758]\n",
      "42 \t [ 3.28837685 -1.05153894]\n",
      "43 \t [ 2.06184739 -1.23907156]\n",
      "44 \t [-0.49640824 -0.71470432]\n",
      "45 \t [ 3.20939479 -0.592886  ]\n",
      "46 \t [-0.23263126 -0.01508016]\n",
      "47 \t [ 0.45175755  0.85538049]\n",
      "48 \t [ 1.52688359 -0.89658062]\n",
      "49 \t [ 3.03060362 -0.14263129]\n",
      "50 \t [ 1.35402033  0.96448697]\n",
      "51 \t [ 1.01569637 -1.24268495]\n",
      "52 \t [-0.51571189  0.36348151]\n",
      "53 \t [ 0.81689146  2.05896919]\n",
      "54 \t [ 1.40545341  1.28909194]\n",
      "55 \t [ 2.6804386  -0.61999309]\n",
      "56 \t [ 3.22636323 -2.07861789]\n",
      "57 \t [ 0.32110562 -0.84736945]\n",
      "58 \t [ 2.1403317   0.22598549]\n",
      "59 \t [ 1.56573831  2.5456588 ]\n",
      "60 \t [-0.18387277  0.89353447]\n",
      "61 \t [ 1.84167471  3.39096052]\n",
      "62 \t [ 1.86371729  0.87790843]\n",
      "63 \t [ 2.31815155  0.53069472]\n",
      "64 \t [-0.30589671 -0.32137033]\n",
      "65 \t [-0.18340607 -1.08194705]\n",
      "66 \t [ 4.12638582  0.24711172]\n",
      "67 \t [ 2.61211377 -0.08710697]\n",
      "68 \t [ 1.2477922   0.10284322]\n",
      "69 \t [ 2.47537265  0.07187804]\n",
      "70 \t [ 1.85958841  0.3634765 ]\n",
      "71 \t [ 3.15699838 -0.57145535]\n",
      "72 \t [ 2.43270697  0.6873481 ]\n",
      "73 \t [ 1.75541398  1.21526858]\n",
      "74 \t [-0.53560767 -4.56351666]\n",
      "75 \t [-1.479324   -1.29901629]\n",
      "76 \t [-0.36036724 -1.96202883]\n",
      "77 \t [ 0.27941127  1.88716294]\n",
      "78 \t [ 2.15003572  1.99194602]\n",
      "79 \t [ 2.67979612 -0.91619886]\n",
      "80 \t [-2.02785056 -1.58471821]\n",
      "81 \t [-0.760444   -0.84877337]\n",
      "82 \t [ 4.05763318 -0.79148881]\n",
      "83 \t [ 4.04394466  2.10778515]\n",
      "84 \t [-0.29909227 -0.01581193]\n",
      "85 \t [-1.78110528 -1.46801767]\n",
      "86 \t [ 1.95332413 -1.02125482]\n",
      "87 \t [-1.4507651  -0.25083619]\n",
      "88 \t [-1.88671935 -0.66580207]\n",
      "89 \t [ 4.45992748  1.01540546]\n",
      "90 \t [ 3.7491846  -0.67552148]\n",
      "91 \t [ 0.07374569  3.00784295]\n",
      "92 \t [-0.20256458 -1.37981078]\n",
      "93 \t [ 0.02576367  0.92965512]\n",
      "94 \t [ 0.60215977  1.33743765]\n",
      "95 \t [ 3.62877583  0.18649435]\n",
      "96 \t [-1.24843205 -1.61770665]\n",
      "97 \t [-0.1245245  -2.71071532]\n",
      "98 \t [ 3.13968327 -0.22301898]\n",
      "99 \t [ 0.79735368  0.34403066]\n",
      "100 \t [ 0.86320517  1.01828919]\n",
      "101 \t [-1.47402089 -1.05669572]\n",
      "102 \t [-1.12172841  1.36576863]\n",
      "103 \t [ 5.12369189  0.12227343]\n",
      "104 \t [ 3.41120402  0.89076496]\n",
      "105 \t [ 3.12117181  0.29898394]\n",
      "106 \t [-0.70879464 -0.4334663 ]\n",
      "107 \t [-0.50385707 -0.20340513]\n",
      "108 \t [ 0.22457436 -2.28110828]\n",
      "109 \t [-0.92015769 -1.39996458]\n",
      "110 \t [ 1.67555409 -0.81702723]\n",
      "111 \t [-0.72916415  0.39198619]\n",
      "112 \t [ 1.84100879 -0.44581008]\n",
      "113 \t [ 2.72335387  1.92453332]\n",
      "114 \t [ 2.92739169 -0.55060292]\n",
      "115 \t [ 2.58549516 -1.42579473]\n",
      "116 \t [ 4.10435157 -0.43154952]\n",
      "117 \t [ 3.36356456 -0.01475211]\n",
      "118 \t [-0.40197328  0.8990818 ]\n",
      "119 \t [-0.83547046 -1.43009569]\n"
     ]
    }
   ],
   "source": [
    "# Using 'enumerate', you can get points' indices.\n",
    "for i, point in enumerate(x_train):\n",
    "    print(i, '\\t', point)"
   ]
  },
  {
   "cell_type": "code",
   "execution_count": 14,
   "metadata": {
    "collapsed": true
   },
   "outputs": [],
   "source": [
    "def query_distance(query, data):\n",
    "    return [(i, euclidean_distance(query, point)) for i, point in enumerate(x_train)]"
   ]
  },
  {
   "cell_type": "code",
   "execution_count": 15,
   "metadata": {},
   "outputs": [],
   "source": [
    "# Set a query point\n",
    "query = np.array([0, 0])"
   ]
  },
  {
   "cell_type": "code",
   "execution_count": 16,
   "metadata": {
    "scrolled": false
   },
   "outputs": [
    {
     "name": "stdout",
     "output_type": "stream",
     "text": [
      "[(0, 3.4644321120299812),\n",
      " (1, 1.4777201099604294),\n",
      " (2, 1.1288427699133441),\n",
      " (3, 2.3847182301148999),\n",
      " (4, 1.4930395021367362),\n",
      " (5, 3.3963557262431752),\n",
      " (6, 1.8740999321324512),\n",
      " (7, 1.7747968994137679),\n",
      " (8, 1.4250991919727183),\n",
      " (9, 3.6141559789745976)]\n",
      "========================================\n",
      "Number of distances:  120\n"
     ]
    }
   ],
   "source": [
    "# pprint: Pretty print\n",
    "from pprint import pprint\n",
    "\n",
    "# Calculate euclidean distances between a query point and train points\n",
    "distances = query_distance(query, x_train)\n",
    "\n",
    "# Print distances\n",
    "pprint(distances[:10])\n",
    "print('='*40)\n",
    "print('Number of distances: ', len(distances))"
   ]
  },
  {
   "cell_type": "markdown",
   "metadata": {},
   "source": [
    "## 3. Finding k-nearest neighbors (nearest neighbor search)"
   ]
  },
  {
   "cell_type": "code",
   "execution_count": 17,
   "metadata": {
    "scrolled": true
   },
   "outputs": [],
   "source": [
    "# Sort tuples in ascending order\n",
    "sorted_distances = sorted(distances, key=lambda x: x[1], reverse=False)"
   ]
  },
  {
   "cell_type": "code",
   "execution_count": 18,
   "metadata": {},
   "outputs": [
    {
     "name": "stdout",
     "output_type": "stream",
     "text": [
      "[(0, 3.4644321120299812),\n",
      " (1, 1.4777201099604294),\n",
      " (2, 1.1288427699133441),\n",
      " (3, 2.3847182301148999),\n",
      " (4, 1.4930395021367362),\n",
      " (5, 3.3963557262431752),\n",
      " (6, 1.8740999321324512),\n",
      " (7, 1.7747968994137679),\n",
      " (8, 1.4250991919727183),\n",
      " (9, 3.6141559789745976)]\n",
      "========================================\n",
      "[(46, 0.23311953215776204),\n",
      " (84, 0.29950993728678132),\n",
      " (64, 0.44367971018379254),\n",
      " (107, 0.54336506976192844),\n",
      " (52, 0.63093387967901426),\n",
      " (111, 0.82784873932907077),\n",
      " (106, 0.83083264166368487),\n",
      " (99, 0.86840657286754075),\n",
      " (44, 0.8701858421129044),\n",
      " (57, 0.90616985016259066)]\n"
     ]
    }
   ],
   "source": [
    "# Print distances and sorted_distances\n",
    "pprint(distances[:10])\n",
    "print('='*40)\n",
    "pprint(sorted_distances[:10])"
   ]
  },
  {
   "cell_type": "code",
   "execution_count": 19,
   "metadata": {},
   "outputs": [
    {
     "name": "stdout",
     "output_type": "stream",
     "text": [
      "k-nearest neigbbor points of  [0 0] :  [46, 84, 64, 107, 52, 111, 106, 99, 44, 57]\n"
     ]
    }
   ],
   "source": [
    "# Set k\n",
    "k = 10\n",
    "\n",
    "# Get indices of k-nearest neighbors\n",
    "knn_indices = [row[0] for row in sorted_distances[:k]]\n",
    "print('k-nearest neigbbor points of ', query, ': ', knn_indices)"
   ]
  },
  {
   "cell_type": "code",
   "execution_count": 20,
   "metadata": {
    "scrolled": true
   },
   "outputs": [
    {
     "data": {
      "image/png": "[encoded data removed]",
      "text/plain": [
       "<matplotlib.figure.Figure at 0x11107fba8>"
      ]
     },
     "metadata": {},
     "output_type": "display_data"
    }
   ],
   "source": [
    "# Plot whole train points, the query point and its nearest neighbors\n",
    "plt.figure()\n",
    "plt.scatter(x_train[:,0], x_train[:,1], c='black', marker='o', alpha=0.3)\n",
    "q = plt.scatter(query[0], query[1], c='black', marker='x', s=50) # query point\n",
    "q_knn = plt.scatter(x_train[knn_indices, 0], x_train[knn_indices, 1], c='blue', marker='+') # k-nearest neighbor points\n",
    "plt.legend((q, q_knn), ('query point', 'k-nearest neighbors'), loc='lower right')\n",
    "plt.show()"
   ]
  },
  {
   "cell_type": "markdown",
   "metadata": {},
   "source": [
    "## 4. Predict the class of the query point"
   ]
  },
  {
   "cell_type": "code",
   "execution_count": 21,
   "metadata": {
    "collapsed": true
   },
   "outputs": [],
   "source": [
    "# Get points of k-nearest neighborsL x_train_knn\n",
    "# Get labels of k-nearest neighbors: y_train_knn\n",
    "x_train_knn = x_train[knn_indices, :]\n",
    "y_train_knn = y_train[knn_indices]"
   ]
  },
  {
   "cell_type": "code",
   "execution_count": 22,
   "metadata": {},
   "outputs": [
    {
     "data": {
      "text/plain": [
       "<matplotlib.legend.Legend at 0x1146f8278>"
      ]
     },
     "execution_count": 22,
     "metadata": {},
     "output_type": "execute_result"
    },
    {
     "data": {
      "image/png": "[encoded data removed]",
      "text/plain": [
       "<matplotlib.figure.Figure at 0x1145f11d0>"
      ]
     },
     "metadata": {},
     "output_type": "display_data"
    }
   ],
   "source": [
    "# Plot the query point and its nearest neighbors\n",
    "plt.figure()\n",
    "q = plt.scatter(query[0], query[1], c='black', marker='x', s=50) # query point\n",
    "c0_q_knn = plt.scatter(x_train_knn[y_train_knn==0, 0], x_train_knn[y_train_knn==0, 1], c='blue', marker='+')\n",
    "c1_q_knn = plt.scatter(x_train_knn[y_train_knn==1, 0], x_train_knn[y_train_knn==1, 1], c='red', marker='+')\n",
    "c2_q_knn = plt.scatter(x_train_knn[y_train_knn==2, 0], x_train_knn[y_train_knn==2, 1], c='green', marker='+')\n",
    "plt.legend((q, c0_q_knn, c1_q_knn, c2_q_knn), ('query point', 'class=0', 'class=1', 'class=2'), loc = 'lower right')"
   ]
  },
  {
   "cell_type": "code",
   "execution_count": 23,
   "metadata": {},
   "outputs": [
    {
     "data": {
      "text/plain": [
       "array([1, 9])"
      ]
     },
     "execution_count": 23,
     "metadata": {},
     "output_type": "execute_result"
    }
   ],
   "source": [
    "# Number of points in y_train_knn\n",
    "np.bincount(y_train_knn)"
   ]
  },
  {
   "cell_type": "code",
   "execution_count": 25,
   "metadata": {
    "scrolled": false
   },
   "outputs": [
    {
     "data": {
      "text/plain": [
       "1"
      ]
     },
     "execution_count": 25,
     "metadata": {},
     "output_type": "execute_result"
    }
   ],
   "source": [
    "np.bincount(y_train_knn).argmax()"
   ]
  },
  {
   "cell_type": "code",
   "execution_count": 26,
   "metadata": {
    "scrolled": true
   },
   "outputs": [],
   "source": [
    "# test = np.bincount(np.array([3, 3, 3, 3, 4, 4]))\n",
    "# print(test)\n",
    "# print(test.argmax())"
   ]
  },
  {
   "cell_type": "code",
   "execution_count": 27,
   "metadata": {},
   "outputs": [
    {
     "name": "stdout",
     "output_type": "stream",
     "text": [
      "Predicted class of the query point  [0 0] :  1\n"
     ]
    }
   ],
   "source": [
    "# Predict the class\n",
    "y_hat = np.bincount(y_train_knn).argmax()\n",
    "print(\"Predicted class of the query point \", query, \": \", y_hat)"
   ]
  },
  {
   "cell_type": "markdown",
   "metadata": {},
   "source": [
    "## 5. Make a function"
   ]
  },
  {
   "cell_type": "markdown",
   "metadata": {},
   "source": [
    "- For a single query point"
   ]
  },
  {
   "cell_type": "code",
   "execution_count": 28,
   "metadata": {
    "collapsed": true
   },
   "outputs": [],
   "source": [
    "def knn_query(x_train, y_train, query, k=5):\n",
    "    distances = query_distance(query, x_train)\n",
    "    sorted_distances = sorted(distances, key=lambda x: x[1], reverse=False)\n",
    "    \n",
    "    knn_indices = [row[0] for row in sorted_distances[:k]]\n",
    "    x_train_knn = x_train[knn_indices, :]\n",
    "    y_train_knn = y_train[knn_indices]\n",
    "    \n",
    "    return np.bincount(y_train_knn).argmax()"
   ]
  },
  {
   "cell_type": "code",
   "execution_count": 29,
   "metadata": {},
   "outputs": [
    {
     "name": "stdout",
     "output_type": "stream",
     "text": [
      "Predicted class of the query point  [0 0] :  1\n"
     ]
    }
   ],
   "source": [
    "query = np.array([0, 0])\n",
    "y_hat = knn_query(x_train=x_train, y_train=y_train, query=query, k=10)\n",
    "\n",
    "print(\"Predicted class of the query point \", query, \": \", y_hat)"
   ]
  },
  {
   "cell_type": "markdown",
   "metadata": {},
   "source": [
    "- For some query points"
   ]
  },
  {
   "cell_type": "code",
   "execution_count": 30,
   "metadata": {
    "collapsed": true
   },
   "outputs": [],
   "source": [
    "def knn_queries(x_train, y_train, queries, k=5):\n",
    "    y_hat = [knn_query(x_train=x_train, y_train=y_train, query=q, k=k) for q in queries]\n",
    "    return np.asarray(y_hat)"
   ]
  },
  {
   "cell_type": "code",
   "execution_count": 31,
   "metadata": {
    "collapsed": true
   },
   "outputs": [],
   "source": [
    "y_test_hat = knn_queries(x_train=x_train, y_train=y_train, queries=x_test, k=10)"
   ]
  },
  {
   "cell_type": "code",
   "execution_count": 32,
   "metadata": {},
   "outputs": [
    {
     "name": "stdout",
     "output_type": "stream",
     "text": [
      "1 \t 1\n",
      "2 \t 2\n",
      "2 \t 2\n",
      "0 \t 0\n",
      "0 \t 0\n",
      "2 \t 0\n",
      "1 \t 1\n",
      "2 \t 2\n",
      "2 \t 2\n",
      "1 \t 1\n",
      "0 \t 0\n",
      "1 \t 1\n",
      "2 \t 0\n",
      "0 \t 0\n",
      "0 \t 0\n",
      "1 \t 1\n",
      "1 \t 1\n",
      "0 \t 0\n",
      "0 \t 1\n",
      "0 \t 1\n",
      "2 \t 2\n",
      "1 \t 1\n",
      "2 \t 2\n",
      "1 \t 1\n",
      "2 \t 2\n",
      "2 \t 2\n",
      "1 \t 1\n",
      "0 \t 0\n",
      "1 \t 1\n",
      "0 \t 0\n"
     ]
    }
   ],
   "source": [
    "for i, j in zip(y_test, y_test_hat):\n",
    "    print(i, '\\t', j)"
   ]
  },
  {
   "cell_type": "markdown",
   "metadata": {},
   "source": [
    "To evaluate knn classification, let's make the confusion matrix using `y_test` and `y_test_hat`.\n",
    "- Note: https://stackoverflow.com/questions/2148543/how-to-write-a-confusion-matrix-in-python"
   ]
  },
  {
   "cell_type": "code",
   "execution_count": 33,
   "metadata": {
    "collapsed": true
   },
   "outputs": [],
   "source": [
    "import pandas as pd\n",
    "actual = pd.Series(y_test, name='Actual')\n",
    "predicted = pd.Series(y_test_hat, name='Predicted')\n",
    "df_confusion = pd.crosstab(actual, predicted)"
   ]
  },
  {
   "cell_type": "code",
   "execution_count": 34,
   "metadata": {},
   "outputs": [
    {
     "data": {
      "text/html": [
       "<div>\n",
       "<style>\n",
       "    .dataframe thead tr:only-child th {\n",
       "        text-align: right;\n",
       "    }\n",
       "\n",
       "    .dataframe thead th {\n",
       "        text-align: left;\n",
       "    }\n",
       "\n",
       "    .dataframe tbody tr th {\n",
       "        vertical-align: top;\n",
       "    }\n",
       "</style>\n",
       "<table border=\"1\" class=\"dataframe\">\n",
       "  <thead>\n",
       "    <tr style=\"text-align: right;\">\n",
       "      <th>Predicted</th>\n",
       "      <th>0</th>\n",
       "      <th>1</th>\n",
       "      <th>2</th>\n",
       "    </tr>\n",
       "    <tr>\n",
       "      <th>Actual</th>\n",
       "      <th></th>\n",
       "      <th></th>\n",
       "      <th></th>\n",
       "    </tr>\n",
       "  </thead>\n",
       "  <tbody>\n",
       "    <tr>\n",
       "      <th>0</th>\n",
       "      <td>8</td>\n",
       "      <td>2</td>\n",
       "      <td>0</td>\n",
       "    </tr>\n",
       "    <tr>\n",
       "      <th>1</th>\n",
       "      <td>0</td>\n",
       "      <td>10</td>\n",
       "      <td>0</td>\n",
       "    </tr>\n",
       "    <tr>\n",
       "      <th>2</th>\n",
       "      <td>2</td>\n",
       "      <td>0</td>\n",
       "      <td>8</td>\n",
       "    </tr>\n",
       "  </tbody>\n",
       "</table>\n",
       "</div>"
      ],
      "text/plain": [
       "Predicted  0   1  2\n",
       "Actual             \n",
       "0          8   2  0\n",
       "1          0  10  0\n",
       "2          2   0  8"
      ]
     },
     "execution_count": 34,
     "metadata": {},
     "output_type": "execute_result"
    }
   ],
   "source": [
    "df_confusion"
   ]
  },
  {
   "cell_type": "code",
   "execution_count": 40,
   "metadata": {},
   "outputs": [],
   "source": [
    "from sklearn.metrics import confusion_matrix\n",
    "sk_confusion = confusion_matrix(y_true=y_test, y_pred=y_test_hat, labels=[0, 1, 2])"
   ]
  },
  {
   "cell_type": "code",
   "execution_count": 41,
   "metadata": {
    "scrolled": true
   },
   "outputs": [
    {
     "data": {
      "text/plain": [
       "array([[ 8,  2,  0],\n",
       "       [ 0, 10,  0],\n",
       "       [ 2,  0,  8]])"
      ]
     },
     "execution_count": 41,
     "metadata": {},
     "output_type": "execute_result"
    }
   ],
   "source": [
    "sk_confusion"
   ]
  }
 ],
 "metadata": {
  "kernelspec": {
   "display_name": "Python 3",
   "language": "python",
   "name": "python3"
  },
  "language_info": {
   "codemirror_mode": {
    "name": "ipython",
    "version": 3
   },
   "file_extension": ".py",
   "mimetype": "text/x-python",
   "name": "python",
   "nbconvert_exporter": "python",
   "pygments_lexer": "ipython3",
   "version": "3.6.6"
  }
 },
 "nbformat": 4,
 "nbformat_minor": 2
}
