{
 "cells": [
  {
   "cell_type": "markdown",
   "metadata": {
    "colab_type": "text",
    "id": "-IZv05z7nnlY"
   },
   "source": [
    "# 데이터 구조의 이해 - (5) 딥러닝 텐서"
   ]
  },
  {
   "cell_type": "markdown",
   "metadata": {},
   "source": [
    "#### 작성자 - 고우주 | kubwa 쿱와"
   ]
  },
  {
   "cell_type": "markdown",
   "metadata": {},
   "source": [
    "## 벡터, 행렬\n",
    "- 2D Tensor(Typical Simple Setting)\n",
    "\n",
    "|t| = (Batch size, dim)\n",
    "\n",
    "- 3D Tensor(Typical Computer Vision) - 비전 분야에서의 3차원 텐서\n",
    "\n",
    "|t| = (batch size, width, height)\n",
    "\n",
    "- 3D Tensor(Typical Natural Language Processing) - NLP 분야에서의 3차원 텐서\n",
    "\n",
    "|t| = (batch size, length, dim)"
   ]
  },
  {
   "cell_type": "markdown",
   "metadata": {
    "colab_type": "text",
    "id": "6s7UKDFroyHT"
   },
   "source": [
    "### Install TensorFlow"
   ]
  },
  {
   "cell_type": "code",
   "execution_count": null,
   "metadata": {
    "colab": {
     "base_uri": "https://localhost:8080/",
     "height": 649
    },
    "colab_type": "code",
    "executionInfo": {
     "elapsed": 4735,
     "status": "ok",
     "timestamp": 1574938614813,
     "user": {
      "displayName": "Ko Josh",
      "photoUrl": "https://lh3.googleusercontent.com/a-/AAuE7mAnDhyHo82loDgFYU0lVdD56xm0Z1bfEy0qGCy9ig=s64",
      "userId": "11200974230491697182"
     },
     "user_tz": -540
    },
    "id": "aF3NnwXZnhQl",
    "outputId": "4f9fd6cd-b1f3-4be0-ad57-e00bf6e2c2eb"
   },
   "outputs": [],
   "source": [
    "# install tensorflow\n",
    "#!pip install tensorflow==2.3.0"
   ]
  },
  {
   "cell_type": "markdown",
   "metadata": {
    "colab_type": "text",
    "id": "QagzUi2Go1qy"
   },
   "source": [
    "### Import TensorFlow"
   ]
  },
  {
   "cell_type": "code",
   "execution_count": 1,
   "metadata": {
    "colab": {
     "base_uri": "https://localhost:8080/",
     "height": 81
    },
    "colab_type": "code",
    "executionInfo": {
     "elapsed": 3811,
     "status": "ok",
     "timestamp": 1574936932935,
     "user": {
      "displayName": "Ko Josh",
      "photoUrl": "https://lh3.googleusercontent.com/a-/AAuE7mAnDhyHo82loDgFYU0lVdD56xm0Z1bfEy0qGCy9ig=s64",
      "userId": "11200974230491697182"
     },
     "user_tz": -540
    },
    "id": "ysoJEX7yorKg",
    "outputId": "0a014d18-f181-49df-b5c5-409bad4a6baf"
   },
   "outputs": [
    {
     "name": "stdout",
     "output_type": "stream",
     "text": [
      "2.0.0-dev20191002\n"
     ]
    }
   ],
   "source": [
    "import tensorflow as tf\n",
    "print(tf.__version__)"
   ]
  },
  {
   "cell_type": "code",
   "execution_count": 3,
   "metadata": {
    "colab": {},
    "colab_type": "code",
    "id": "ACsjU3hYgFeA"
   },
   "outputs": [],
   "source": [
    "import tensorflow as tf\n",
    "import numpy as np\n",
    "\n",
    "import IPython.display as display"
   ]
  },
  {
   "cell_type": "markdown",
   "metadata": {
    "colab_type": "text",
    "id": "3JnmkeTKgFeC"
   },
   "source": [
    "### 1- 1D Tensor"
   ]
  },
  {
   "cell_type": "code",
   "execution_count": 2,
   "metadata": {
    "colab": {},
    "colab_type": "code",
    "id": "QUVzYFhfgFeE",
    "outputId": "21b103fc-27d1-470f-f2bf-0e0b8085ee0d"
   },
   "outputs": [
    {
     "name": "stdout",
     "output_type": "stream",
     "text": [
      "tf.Tensor([1. 1. 1. 1. 1.], shape=(5,), dtype=float64)\n",
      "(5,)\n"
     ]
    }
   ],
   "source": [
    "a = np.ones(5)\n",
    "a = tf.multiply(a, 1)\n",
    "print(a)\n",
    "print(a.shape)"
   ]
  },
  {
   "cell_type": "markdown",
   "metadata": {
    "colab_type": "text",
    "id": "48MOmzvXgFeG"
   },
   "source": [
    "### 2- 2D Tensor"
   ]
  },
  {
   "cell_type": "code",
   "execution_count": 3,
   "metadata": {
    "colab": {},
    "colab_type": "code",
    "id": "Qjq0cGaygFeH",
    "outputId": "7dbad19c-bbc3-4f3e-ef9f-36357708005f"
   },
   "outputs": [
    {
     "name": "stdout",
     "output_type": "stream",
     "text": [
      "tf.Tensor(\n",
      "[[1. 1. 1. 1. 1.]\n",
      " [1. 1. 1. 1. 1.]], shape=(2, 5), dtype=float64)\n",
      "(2, 5)\n"
     ]
    }
   ],
   "source": [
    "b = np.ones([2, 5])\n",
    "b = tf.multiply(b, 1)\n",
    "print(b)\n",
    "print(b.shape)"
   ]
  },
  {
   "cell_type": "markdown",
   "metadata": {
    "colab_type": "text",
    "id": "YnWdZTKjgFeJ"
   },
   "source": [
    "### 3D- Tensor"
   ]
  },
  {
   "cell_type": "code",
   "execution_count": 5,
   "metadata": {
    "colab": {},
    "colab_type": "code",
    "id": "fUYTtVLIgFeJ"
   },
   "outputs": [],
   "source": [
    "file_path = tf.keras.utils.get_file('cat.jpg', \n",
    "                                 'https://www.petmd.com/sites/default/files/what-does-it-mean-when-cat-wags-tail.jpg')"
   ]
  },
  {
   "cell_type": "code",
   "execution_count": 6,
   "metadata": {
    "colab": {},
    "colab_type": "code",
    "id": "IKWtj2K5gFeL",
    "outputId": "5be861ee-df4f-4dec-fc45-2c631ccc1c0b"
   },
   "outputs": [
    {
     "name": "stdout",
     "output_type": "stream",
     "text": [
      "<tf.Tensor: shape=(), dtype=string, numpy=b'\\xff\\xd8\\xff\\xe0\\x00\\x10JFIF\\x00\\x01\\x01\\x00\\x00\\x01\\x00...\n"
     ]
    }
   ],
   "source": [
    "img_raw = tf.io.read_file(file_path)\n",
    "print(repr(img_raw)[:100]+\"...\")"
   ]
  },
  {
   "cell_type": "code",
   "execution_count": 7,
   "metadata": {
    "colab": {},
    "colab_type": "code",
    "id": "ME_j4tNAgFeN",
    "outputId": "09b3097a-b233-4dea-d9c7-c6a216682ffa"
   },
   "outputs": [
    {
     "name": "stdout",
     "output_type": "stream",
     "text": [
      "(428, 590, 3)\n",
      "<dtype: 'uint8'>\n"
     ]
    }
   ],
   "source": [
    "img_tensor = tf.image.decode_image(img_raw)\n",
    "\n",
    "print(img_tensor.shape)\n",
    "print(img_tensor.dtype)"
   ]
  },
  {
   "cell_type": "code",
   "execution_count": 8,
   "metadata": {},
   "outputs": [
    {
     "data": {
      "text/plain": [
       "<tf.Tensor: shape=(428, 590, 3), dtype=uint8, numpy=\n",
       "array([[[253, 253, 253],\n",
       "        [253, 253, 253],\n",
       "        [253, 253, 253],\n",
       "        ...,\n",
       "        [253, 253, 253],\n",
       "        [253, 253, 253],\n",
       "        [253, 253, 253]],\n",
       "\n",
       "       [[253, 253, 253],\n",
       "        [253, 253, 253],\n",
       "        [254, 254, 254],\n",
       "        ...,\n",
       "        [254, 254, 254],\n",
       "        [254, 254, 254],\n",
       "        [254, 254, 254]],\n",
       "\n",
       "       [[254, 254, 254],\n",
       "        [254, 254, 254],\n",
       "        [255, 255, 255],\n",
       "        ...,\n",
       "        [255, 255, 255],\n",
       "        [255, 255, 255],\n",
       "        [255, 255, 255]],\n",
       "\n",
       "       ...,\n",
       "\n",
       "       [[254, 254, 254],\n",
       "        [254, 254, 254],\n",
       "        [255, 255, 255],\n",
       "        ...,\n",
       "        [255, 255, 255],\n",
       "        [255, 255, 255],\n",
       "        [255, 255, 255]],\n",
       "\n",
       "       [[254, 254, 254],\n",
       "        [254, 254, 254],\n",
       "        [254, 254, 254],\n",
       "        ...,\n",
       "        [254, 254, 254],\n",
       "        [254, 254, 254],\n",
       "        [254, 254, 254]],\n",
       "\n",
       "       [[253, 253, 253],\n",
       "        [253, 253, 253],\n",
       "        [254, 254, 254],\n",
       "        ...,\n",
       "        [254, 254, 254],\n",
       "        [254, 254, 254],\n",
       "        [255, 255, 255]]], dtype=uint8)>"
      ]
     },
     "execution_count": 8,
     "metadata": {},
     "output_type": "execute_result"
    }
   ],
   "source": [
    "img_tensor"
   ]
  },
  {
   "cell_type": "code",
   "execution_count": 10,
   "metadata": {},
   "outputs": [
    {
     "data": {
      "text/plain": [
       "<matplotlib.image.AxesImage at 0x63d72f860>"
      ]
     },
     "execution_count": 10,
     "metadata": {},
     "output_type": "execute_result"
    },
    {
     "data": {
      "image/png": "[encoded data removed]",
      "text/plain": [
       "<Figure size 432x288 with 1 Axes>"
      ]
     },
     "metadata": {
      "needs_background": "light"
     },
     "output_type": "display_data"
    }
   ],
   "source": [
    "import matplotlib.pyplot as plt\n",
    "\n",
    "plt.imshow(img_tensor)"
   ]
  },
  {
   "cell_type": "code",
   "execution_count": 11,
   "metadata": {
    "colab": {},
    "colab_type": "code",
    "id": "ZlgDJWTjgFeP",
    "outputId": "4daa744a-05e3-4210-9731-2b2e305034d7"
   },
   "outputs": [
    {
     "name": "stdout",
     "output_type": "stream",
     "text": [
      "(192, 192, 3)\n",
      "0.0\n",
      "1.0\n"
     ]
    }
   ],
   "source": [
    "img_final = tf.image.resize(img_tensor, [192, 192])\n",
    "img_final = img_final/255.0\n",
    "print(img_final.shape)\n",
    "print(img_final.numpy().min())\n",
    "print(img_final.numpy().max())"
   ]
  },
  {
   "cell_type": "code",
   "execution_count": 12,
   "metadata": {},
   "outputs": [
    {
     "data": {
      "text/plain": [
       "<tf.Tensor: shape=(192, 192, 3), dtype=float32, numpy=\n",
       "array([[[0.9922447 , 0.9922447 , 0.9922447 ],\n",
       "        [0.99607843, 0.99607843, 0.99607843],\n",
       "        [0.994567  , 0.994567  , 0.994567  ],\n",
       "        ...,\n",
       "        [0.994567  , 0.994567  , 0.994567  ],\n",
       "        [0.994567  , 0.994567  , 0.994567  ],\n",
       "        [0.994567  , 0.994567  , 0.994567  ]],\n",
       "\n",
       "       [[0.99622136, 0.99622136, 0.99622136],\n",
       "        [1.        , 1.        , 1.        ],\n",
       "        [1.        , 1.        , 1.        ],\n",
       "        ...,\n",
       "        [1.        , 1.        , 1.        ],\n",
       "        [1.        , 1.        , 1.        ],\n",
       "        [1.        , 1.        , 1.        ]],\n",
       "\n",
       "       [[0.99607843, 0.99607843, 0.99607843],\n",
       "        [1.        , 1.        , 1.        ],\n",
       "        [0.99607843, 0.99607843, 0.99607843],\n",
       "        ...,\n",
       "        [0.99607843, 0.99607843, 0.99607843],\n",
       "        [0.99607843, 0.99607843, 0.99607843],\n",
       "        [0.99607843, 0.99607843, 0.99607843]],\n",
       "\n",
       "       ...,\n",
       "\n",
       "       [[0.99607843, 0.99607843, 0.99607843],\n",
       "        [1.        , 1.        , 1.        ],\n",
       "        [0.9967933 , 0.9967933 , 0.9967933 ],\n",
       "        ...,\n",
       "        [1.        , 1.        , 1.        ],\n",
       "        [1.        , 1.        , 1.        ],\n",
       "        [1.        , 1.        , 1.        ]],\n",
       "\n",
       "       [[0.99622136, 0.99622136, 0.99622136],\n",
       "        [1.        , 1.        , 1.        ],\n",
       "        [1.        , 1.        , 1.        ],\n",
       "        ...,\n",
       "        [1.        , 1.        , 1.        ],\n",
       "        [1.        , 1.        , 1.        ],\n",
       "        [1.        , 1.        , 1.        ]],\n",
       "\n",
       "       [[0.99462205, 0.99462205, 0.99462205],\n",
       "        [0.9984885 , 0.9984885 , 0.9984885 ],\n",
       "        [0.99607843, 0.99607843, 0.99607843],\n",
       "        ...,\n",
       "        [0.99607843, 0.99607843, 0.99607843],\n",
       "        [0.99607843, 0.99607843, 0.99607843],\n",
       "        [0.99607843, 0.99607843, 0.99607843]]], dtype=float32)>"
      ]
     },
     "execution_count": 12,
     "metadata": {},
     "output_type": "execute_result"
    }
   ],
   "source": [
    "img_final"
   ]
  },
  {
   "cell_type": "markdown",
   "metadata": {
    "colab_type": "text",
    "id": "yaKQQpnwgFeR"
   },
   "source": [
    "### 4- Slicing"
   ]
  },
  {
   "cell_type": "code",
   "execution_count": 18,
   "metadata": {
    "colab": {},
    "colab_type": "code",
    "id": "EmAkxvlIgFeR",
    "outputId": "b7c1815e-6e13-456b-dc0f-d15dbe98f77a"
   },
   "outputs": [
    {
     "name": "stdout",
     "output_type": "stream",
     "text": [
      "tf.Tensor(\n",
      "[[[0.9922447  0.9922447  0.9922447 ]\n",
      "  [0.99607843 0.99607843 0.99607843]\n",
      "  [0.994567   0.994567   0.994567  ]]\n",
      "\n",
      " [[0.99622136 0.99622136 0.99622136]\n",
      "  [1.         1.         1.        ]\n",
      "  [1.         1.         1.        ]]\n",
      "\n",
      " [[0.99607843 0.99607843 0.99607843]\n",
      "  [1.         1.         1.        ]\n",
      "  [0.99607843 0.99607843 0.99607843]]\n",
      "\n",
      " ...\n",
      "\n",
      " [[0.99607843 0.99607843 0.99607843]\n",
      "  [1.         1.         1.        ]\n",
      "  [0.9967933  0.9967933  0.9967933 ]]\n",
      "\n",
      " [[0.99622136 0.99622136 0.99622136]\n",
      "  [1.         1.         1.        ]\n",
      "  [1.         1.         1.        ]]\n",
      "\n",
      " [[0.99462205 0.99462205 0.99462205]\n",
      "  [0.9984885  0.9984885  0.9984885 ]\n",
      "  [0.99607843 0.99607843 0.99607843]]], shape=(192, 3, 3), dtype=float32)\n"
     ]
    }
   ],
   "source": [
    "print(img_final[:, :3])"
   ]
  },
  {
   "cell_type": "markdown",
   "metadata": {
    "colab_type": "text",
    "id": "cQAAXgfAgFeU"
   },
   "source": [
    "### 5- Reshape"
   ]
  },
  {
   "cell_type": "code",
   "execution_count": 19,
   "metadata": {
    "colab": {},
    "colab_type": "code",
    "id": "0LfPX8P0gFeU",
    "outputId": "6ea42c5f-4ea1-4bcb-a686-367bb64aedc8"
   },
   "outputs": [
    {
     "data": {
      "text/plain": [
       "<tf.Tensor: shape=(110592,), dtype=float32, numpy=\n",
       "array([0.9922447 , 0.9922447 , 0.9922447 , ..., 0.99607843, 0.99607843,\n",
       "       0.99607843], dtype=float32)>"
      ]
     },
     "execution_count": 19,
     "metadata": {},
     "output_type": "execute_result"
    }
   ],
   "source": [
    "tf.reshape(img_final, [-1])"
   ]
  },
  {
   "cell_type": "code",
   "execution_count": 20,
   "metadata": {
    "colab": {},
    "colab_type": "code",
    "id": "MozDULlUgFeZ",
    "outputId": "c0c11b6e-a70d-4e68-d567-adb44719f812"
   },
   "outputs": [
    {
     "ename": "NameError",
     "evalue": "name 'b' is not defined",
     "output_type": "error",
     "traceback": [
      "\u001b[0;31m---------------------------------------------------------------------------\u001b[0m",
      "\u001b[0;31mNameError\u001b[0m                                 Traceback (most recent call last)",
      "\u001b[0;32m<ipython-input-20-63fc9d6e8cb9>\u001b[0m in \u001b[0;36m<module>\u001b[0;34m\u001b[0m\n\u001b[0;32m----> 1\u001b[0;31m \u001b[0mprint\u001b[0m\u001b[0;34m(\u001b[0m\u001b[0mtf\u001b[0m\u001b[0;34m.\u001b[0m\u001b[0mreshape\u001b[0m\u001b[0;34m(\u001b[0m\u001b[0mb\u001b[0m\u001b[0;34m,\u001b[0m \u001b[0;34m[\u001b[0m\u001b[0;36m2\u001b[0m\u001b[0;34m,\u001b[0m \u001b[0;36m5\u001b[0m\u001b[0;34m,\u001b[0m \u001b[0;36m1\u001b[0m\u001b[0;34m]\u001b[0m\u001b[0;34m)\u001b[0m\u001b[0;34m.\u001b[0m\u001b[0mshape\u001b[0m\u001b[0;34m)\u001b[0m\u001b[0;34m\u001b[0m\u001b[0;34m\u001b[0m\u001b[0m\n\u001b[0m",
      "\u001b[0;31mNameError\u001b[0m: name 'b' is not defined"
     ]
    }
   ],
   "source": [
    "print(tf.reshape(b, [2, 5, 1]).shape)"
   ]
  },
  {
   "cell_type": "code",
   "execution_count": null,
   "metadata": {},
   "outputs": [],
   "source": []
  }
 ],
 "metadata": {
  "colab": {
   "collapsed_sections": [],
   "name": "01_TensorFlow2.0_Basic.ipynb",
   "provenance": []
  },
  "kernelspec": {
   "display_name": "Python 3",
   "language": "python",
   "name": "python3"
  },
  "language_info": {
   "codemirror_mode": {
    "name": "ipython",
    "version": 3
   },
   "file_extension": ".py",
   "mimetype": "text/x-python",
   "name": "python",
   "nbconvert_exporter": "python",
   "pygments_lexer": "ipython3",
   "version": "3.8.8"
  }
 },
 "nbformat": 4,
 "nbformat_minor": 4
}
