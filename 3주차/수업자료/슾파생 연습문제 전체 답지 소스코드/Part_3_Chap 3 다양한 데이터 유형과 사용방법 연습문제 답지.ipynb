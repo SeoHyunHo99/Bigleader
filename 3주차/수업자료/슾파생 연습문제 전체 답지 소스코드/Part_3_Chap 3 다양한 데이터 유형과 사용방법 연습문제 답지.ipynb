{
 "cells": [
  {
   "cell_type": "code",
   "execution_count": 5,
   "metadata": {},
   "outputs": [
    {
     "name": "stdout",
     "output_type": "stream",
     "text": [
      "현재 이 과목의 수강 신청자는 ['홍길동', '일지매']입니다\n",
      "\n",
      "\n",
      "목록에 추가할 첫번째 학생의 이름을 입력하세요:전우치\n",
      "전우치 학생의 신청이 완료되었습니다.\n",
      "\n",
      "\n",
      "목록에 추가할 두번째 학생의 이름을 입력하세요:유관순\n",
      "유관순 학생의 신청이 완료되었습니다.\n",
      "\n",
      "\n",
      "현재 이 과목의 최종 수강 신청자는 ['홍길동', '일지매', '전우치', '유관순']입니다\n"
     ]
    }
   ],
   "source": [
    "# 연습문제 1\n",
    "student=['홍길동','일지매']\n",
    "print('현재 이 과목의 수강 신청자는 %s입니다' %student)\n",
    "print(\"\\n\")\n",
    "s1 = input('목록에 추가할 첫번째 학생의 이름을 입력하세요:')\n",
    "student.append(s1)\n",
    "print(\"%s 학생의 신청이 완료되었습니다.\" %s1)\n",
    "print(\"\\n\")\n",
    "s2 = input('목록에 추가할 두번째 학생의 이름을 입력하세요:')\n",
    "student.append(s2)\n",
    "print(\"%s 학생의 신청이 완료되었습니다.\" %s2)\n",
    "print(\"\\n\")\n",
    "print('현재 이 과목의 최종 수강 신청자는 %s입니다' %student)\n"
   ]
  },
  {
   "cell_type": "code",
   "execution_count": 6,
   "metadata": {},
   "outputs": [
    {
     "name": "stdout",
     "output_type": "stream",
     "text": [
      "현재 수강 신청자는 ['홍길동', '일지매', '전우치', '유관순']입니다\n",
      "\n",
      "\n",
      "수강 철회하는 학생의 이름을 쓰세요:전우치\n",
      "\n",
      "\n",
      "전우치 학생의 수강 신청 철회가 완료되었습니다\n",
      "\n",
      "\n",
      "현재 이 과목의 최종 수강 신청자는 ['유관순', '일지매', '홍길동']입니다\n"
     ]
    }
   ],
   "source": [
    "# 연습문제 2\n",
    "print('현재 수강 신청자는 %s입니다' %student)\n",
    "print(\"\\n\")\n",
    "re_stu = input('수강 철회하는 학생의 이름을 쓰세요:')\n",
    "student.remove(re_stu)\n",
    "print('\\n')\n",
    "print('%s 학생의 수강 신청 철회가 완료되었습니다' %re_stu)\n",
    "print('\\n')\n",
    "\n",
    "student.sort( )\n",
    "print('현재 이 과목의 최종 수강 신청자는 %s입니다' %student)"
   ]
  },
  {
   "cell_type": "code",
   "execution_count": 4,
   "metadata": {},
   "outputs": [
    {
     "name": "stdout",
     "output_type": "stream",
     "text": [
      "현재 이 과목의 최종 수강 신청자는 ['홍길동', '일지매', '유관순 '] 입니다\n",
      "\n",
      "\n",
      "변경 전 이름을 입력하세요: 홍길동\n",
      "변경 후 이름을 입력하세요: 전우치\n",
      "\n",
      "\n",
      "요청하신대로 홍길동 을  전우치(으)로 변경하였습니다.\n"
     ]
    }
   ],
   "source": [
    "# 연습문제 3\n",
    "stu2 = ['홍길동' , '일지매' , '유관순 ']\n",
    "print('현재 이 과목의 최종 수강 신청자는 %s 입니다' %stu2)\n",
    "print('\\n')\n",
    "old_name = input('변경 전 이름을 입력하세요: ')\n",
    "new_name = input('변경 후 이름을 입력하세요: ')\n",
    "stu3 = stu2[0].replace(old_name,new_name)\n",
    "print('\\n')\n",
    "print('요청하신대로 %s 을  %s(으)로 변경하였습니다.' %(old_name , new_name))"
   ]
  },
  {
   "cell_type": "code",
   "execution_count": 5,
   "metadata": {},
   "outputs": [
    {
     "name": "stdout",
     "output_type": "stream",
     "text": [
      "현재 이 과목의 최종 수강 신청자는 ['홍길동', '일지매', '유관순 '] 입니다\n",
      "\n",
      "\n",
      "변경 전 이름을 입력하세요: 홍길동\n",
      "변경 후 이름을 입력하세요: 전우치\n",
      "\n",
      "\n",
      "요청하신대로 홍길동 을  전우치(으)로 변경하였습니다.\n"
     ]
    }
   ],
   "source": [
    "# 연습문제 3-2\n",
    "stu2 = ['홍길동' , '일지매' , '유관순 ']\n",
    "print('현재 이 과목의 최종 수강 신청자는 %s 입니다' %stu2)\n",
    "print('\\n')\n",
    "old_name = input('변경 전 이름을 입력하세요: ')\n",
    "new_name = input('변경 후 이름을 입력하세요: ')\n",
    "\n",
    "i_stu = stu2.index(old_name)\n",
    "stu3 = stu2[i_stu].replace(old_name,new_name)\n",
    "\n",
    "print('\\n')\n",
    "print('요청하신대로 %s 을  %s(으)로 변경하였습니다.' %(old_name , new_name))"
   ]
  },
  {
   "cell_type": "code",
   "execution_count": 2,
   "metadata": {},
   "outputs": [
    {
     "name": "stdout",
     "output_type": "stream",
     "text": [
      "0\n"
     ]
    }
   ],
   "source": [
    "print(i_stu)"
   ]
  },
  {
   "cell_type": "code",
   "execution_count": null,
   "metadata": {},
   "outputs": [],
   "source": []
  }
 ],
 "metadata": {
  "kernelspec": {
   "display_name": "Python 3",
   "language": "python",
   "name": "python3"
  },
  "language_info": {
   "codemirror_mode": {
    "name": "ipython",
    "version": 3
   },
   "file_extension": ".py",
   "mimetype": "text/x-python",
   "name": "python",
   "nbconvert_exporter": "python",
   "pygments_lexer": "ipython3",
   "version": "3.7.5"
  }
 },
 "nbformat": 4,
 "nbformat_minor": 2
}
