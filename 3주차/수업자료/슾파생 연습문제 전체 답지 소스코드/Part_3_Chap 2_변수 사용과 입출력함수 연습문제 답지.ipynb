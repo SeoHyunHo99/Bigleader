{
 "cells": [
  {
   "cell_type": "code",
   "execution_count": 1,
   "metadata": {},
   "outputs": [
    {
     "name": "stdout",
     "output_type": "stream",
     "text": [
      "1. 이름을 입력하세요: 서진수\n",
      "2. 취미를 입력하세요: 낚시\n",
      "\n",
      "\n",
      "서진수님의 취미는 낚시입니다\n"
     ]
    }
   ],
   "source": [
    "# 연습문제 1 )\n",
    "name = input('1. 이름을 입력하세요: ')\n",
    "hobby = input('2. 취미를 입력하세요: ')\n",
    "print(\"\\n\")\n",
    "print('%s님의 취미는 %s입니다' %(name, hobby))"
   ]
  },
  {
   "cell_type": "code",
   "execution_count": 4,
   "metadata": {},
   "outputs": [
    {
     "name": "stdout",
     "output_type": "stream",
     "text": [
      "\n",
      "1.서울     2.부산     3.제주     4.여수     5.남해\n",
      "\n",
      "1.위 지역중 여행하고 싶은 지역번호를 입력하세요 2\n",
      "2.여행하실 총 인원수를 입력하세요: 5\n",
      "\n",
      "\n",
      "여행하실 지역의 번호는 2 이고 총 인원수는 5 명입니다\n"
     ]
    }
   ],
   "source": [
    "# 연습문제 2 )\n",
    "loc = input( '''\n",
    "1.서울     2.부산     3.제주     4.여수     5.남해\n",
    "\n",
    "1.위 지역중 여행하고 싶은 지역번호를 입력하세요 ''')\n",
    "\n",
    "qty = input(\"2.여행하실 총 인원수를 입력하세요: \")\n",
    "print(\"\\n\")\n",
    "print(\"여행하실 지역의 번호는 %s 이고 총 인원수는 %s 명입니다\" %(loc,qty))"
   ]
  },
  {
   "cell_type": "code",
   "execution_count": null,
   "metadata": {},
   "outputs": [],
   "source": []
  }
 ],
 "metadata": {
  "kernelspec": {
   "display_name": "Python 3",
   "language": "python",
   "name": "python3"
  },
  "language_info": {
   "codemirror_mode": {
    "name": "ipython",
    "version": 3
   },
   "file_extension": ".py",
   "mimetype": "text/x-python",
   "name": "python",
   "nbconvert_exporter": "python",
   "pygments_lexer": "ipython3",
   "version": "3.5.4"
  }
 },
 "nbformat": 4,
 "nbformat_minor": 2
}
