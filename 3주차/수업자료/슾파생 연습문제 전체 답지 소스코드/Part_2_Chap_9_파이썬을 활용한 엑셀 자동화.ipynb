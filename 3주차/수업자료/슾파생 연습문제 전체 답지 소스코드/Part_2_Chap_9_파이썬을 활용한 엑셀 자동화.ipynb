{
 "cells": [
  {
   "cell_type": "code",
   "execution_count": null,
   "metadata": {},
   "outputs": [],
   "source": [
    "# 연습문제 9-1: 여러 셀을 선택하여 색상 지정하기\n",
    "# F5 : F9 까지 초록색으로 지정하기\n",
    "import pyautogui\n",
    "excel.DataItemControl(Name='\"F\" 5').Click()\n",
    "excel.DataItemControl(Name='\"F\" 5').Click()\n",
    "time.sleep(0.5)\n",
    "pyautogui.keyDown('shift')\n",
    "excel.DataItemControl(Name='\"F\" 9').Click()\n",
    "pyautogui.keyUp('shift')\n",
    "\n",
    "excel.ButtonControl(Name='글꼴 색 RGB(255, 0, 0)').Click()"
   ]
  },
  {
   "cell_type": "code",
   "execution_count": null,
   "metadata": {},
   "outputs": [],
   "source": [
    "#연습문제 9-2 여러 셀을 선택하여 셀 설정 지정하기\n",
    "# H5 : M9 까지 숫자 형태로 , 구분기호 넣기\n",
    "# 통화 -> 원(\\) 기호 넣기\n",
    "import pyautogui\n",
    "excel.DataItemControl(Name='\"H\" 5').Click()\n",
    "excel.DataItemControl(Name='\"H\" 5').Click()\n",
    "pyautogui.keyDown('shift')\n",
    "excel.DataItemControl(Name='\"M\" 9').Click()\n",
    "pyautogui.keyUp('shift')\n",
    "excel.DataItemControl(Name='\"M\" 9').RightClick()\n",
    "excel.MenuItemControl(Name='셀 서식...').Click()\n",
    "time.sleep(0.5)\n",
    "excel.ListItemControl(Name='숫자').Click()\n",
    "time.sleep(0.1)\n",
    "excel.CheckBoxControl(Name='1000 단위 구분 기호(,) 사용(U)').Click()\n",
    "excel.ListItemControl(Name='통화').Click()\n",
    "excel.ComboBoxControl(Name='기호(S):').Click()\n",
    "excel.ListItemControl(Name='₩').Click()\n",
    "\n",
    "excel.ButtonControl(Name='확인').Click()\n"
   ]
  },
  {
   "cell_type": "code",
   "execution_count": null,
   "metadata": {},
   "outputs": [],
   "source": [
    "# 연습문제 9-3.여러 셀을 선택하여 그래프 그리기\n",
    "# B5: 9 까지 선택하여 3차원 막대 그래프 그리기\n",
    "import pyautogui\n",
    "excel.DataItemControl(Name='\"B\" 5').Click()\n",
    "excel.DataItemControl(Name='\"B\" 5').Click()\n",
    "pyautogui.keyDown('shift')\n",
    "excel.DataItemControl(Name='\"B\" 9').Click()\n",
    "pyautogui.keyUp('shift')\n",
    "\n",
    "pyautogui.keyDown('ctrl')\n",
    "excel.DataItemControl(Name='\"M\" 5').Click()\n",
    "pyautogui.keyUp('ctrl')\n",
    "pyautogui.keyDown('shift')\n",
    "excel.DataItemControl(Name='\"M\" 9').Click()\n",
    "\n",
    "#삽입 메뉴 선택\n",
    "excel.TabItemControl(Name='삽입').Click()\n",
    "excel.MenuItemControl(Name='세로 또는 가로 막대형 차트 삽입').Click()\n",
    "excel.ListItemControl(Name='3차원 묶은 세로 막대형').Click()"
   ]
  },
  {
   "cell_type": "code",
   "execution_count": null,
   "metadata": {},
   "outputs": [],
   "source": []
  }
 ],
 "metadata": {
  "kernelspec": {
   "display_name": "Python 3",
   "language": "python",
   "name": "python3"
  },
  "language_info": {
   "codemirror_mode": {
    "name": "ipython",
    "version": 3
   },
   "file_extension": ".py",
   "mimetype": "text/x-python",
   "name": "python",
   "nbconvert_exporter": "python",
   "pygments_lexer": "ipython3",
   "version": "3.5.4"
  }
 },
 "nbformat": 4,
 "nbformat_minor": 2
}
