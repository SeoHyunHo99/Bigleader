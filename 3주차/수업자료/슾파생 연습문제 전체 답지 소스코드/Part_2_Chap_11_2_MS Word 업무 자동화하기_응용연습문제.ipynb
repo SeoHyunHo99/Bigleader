{
 "cells": [
  {
   "cell_type": "code",
   "execution_count": 10,
   "metadata": {},
   "outputs": [
    {
     "name": "stdout",
     "output_type": "stream",
     "text": [
      "1.회사명: 컨시어지소프트\n",
      "2.사업자등록번호: 111-22-34567\n",
      "3.과금기간: 2020-09-01~2020-09-30\n",
      "4.금액: 440000\n",
      "\n",
      "\n",
      "워드파일저장경로: c:\\temp\\요금청구서-컨시어지소프트-111-22-34567-09월.docx\n"
     ]
    },
    {
     "data": {
      "application/vnd.jupyter.widget-view+json": {
       "model_id": "7cd8272e94f544b4bdb531b3bee196ea",
       "version_major": 2,
       "version_minor": 0
      },
      "text/plain": [
       "HBox(children=(HTML(value=''), FloatProgress(value=0.0, max=1.0), HTML(value='')))"
      ]
     },
     "metadata": {},
     "output_type": "display_data"
    },
    {
     "name": "stdout",
     "output_type": "stream",
     "text": [
      "PDF파일저장경로: c:\\temp\\요금청구서-컨시어지소프트-111-22-34567-09월.pdf\n",
      "================================================================================\n",
      "\n",
      "\n",
      "1.회사명: 데이터앤피플\n",
      "2.사업자등록번호: 111-33-45678\n",
      "3.과금기간: 2020-09-01~2020-09-30\n",
      "4.금액: 330000\n",
      "\n",
      "\n",
      "워드파일저장경로: c:\\temp\\요금청구서-데이터앤피플-111-33-45678-09월.docx\n",
      "\n"
     ]
    },
    {
     "data": {
      "application/vnd.jupyter.widget-view+json": {
       "model_id": "e5c627c8ec494668b2090df54d1de514",
       "version_major": 2,
       "version_minor": 0
      },
      "text/plain": [
       "HBox(children=(HTML(value=''), FloatProgress(value=0.0, max=1.0), HTML(value='')))"
      ]
     },
     "metadata": {},
     "output_type": "display_data"
    },
    {
     "name": "stdout",
     "output_type": "stream",
     "text": [
      "PDF파일저장경로: c:\\temp\\요금청구서-데이터앤피플-111-33-45678-09월.pdf\n",
      "================================================================================\n",
      "\n",
      "\n",
      "1.회사명: 대박증권\n",
      "2.사업자등록번호: 222-11-33456\n",
      "3.과금기간: 2020-09-01~2020-09-30\n",
      "4.금액: 550000\n",
      "\n",
      "\n",
      "워드파일저장경로: c:\\temp\\요금청구서-대박증권-222-11-33456-09월.docx\n"
     ]
    },
    {
     "data": {
      "application/vnd.jupyter.widget-view+json": {
       "model_id": "dfb93b6ab5de425380eba57dd4320026",
       "version_major": 2,
       "version_minor": 0
      },
      "text/plain": [
       "HBox(children=(HTML(value=''), FloatProgress(value=0.0, max=1.0), HTML(value='')))"
      ]
     },
     "metadata": {},
     "output_type": "display_data"
    },
    {
     "name": "stdout",
     "output_type": "stream",
     "text": [
      "PDF파일저장경로: c:\\temp\\요금청구서-대박증권-222-11-33456-09월.pdf\n",
      "================================================================================\n",
      "\n",
      "\n",
      "1.회사명: 머니은행\n",
      "2.사업자등록번호: 123-45-67890\n",
      "3.과금기간: 2020-09-01~2020-09-30\n",
      "4.금액: 220000\n",
      "\n",
      "\n",
      "워드파일저장경로: c:\\temp\\요금청구서-머니은행-123-45-67890-09월.docx\n",
      "\n"
     ]
    },
    {
     "data": {
      "application/vnd.jupyter.widget-view+json": {
       "model_id": "439c8c7a70e3434bbb87ceb2a82549f3",
       "version_major": 2,
       "version_minor": 0
      },
      "text/plain": [
       "HBox(children=(HTML(value=''), FloatProgress(value=0.0, max=1.0), HTML(value='')))"
      ]
     },
     "metadata": {},
     "output_type": "display_data"
    },
    {
     "name": "stdout",
     "output_type": "stream",
     "text": [
      "PDF파일저장경로: c:\\temp\\요금청구서-머니은행-123-45-67890-09월.pdf\n",
      "================================================================================\n",
      "\n",
      "\n",
      "1.회사명: 휴넷\n",
      "2.사업자등록번호: 333-22-56789\n",
      "3.과금기간: 2020-09-01~2020-09-30\n",
      "4.금액: 110000\n",
      "\n",
      "\n",
      "워드파일저장경로: c:\\temp\\요금청구서-휴넷-333-22-56789-09월.docx\n"
     ]
    },
    {
     "data": {
      "application/vnd.jupyter.widget-view+json": {
       "model_id": "2de0c22f79b14666831f3e648234edc6",
       "version_major": 2,
       "version_minor": 0
      },
      "text/plain": [
       "HBox(children=(HTML(value=''), FloatProgress(value=0.0, max=1.0), HTML(value='')))"
      ]
     },
     "metadata": {},
     "output_type": "display_data"
    },
    {
     "name": "stdout",
     "output_type": "stream",
     "text": [
      "PDF파일저장경로: c:\\temp\\요금청구서-휴넷-333-22-56789-09월.pdf\n",
      "================================================================================\n",
      "\n",
      "\n",
      "모든 작업이 완료되었습니다 ^^\n"
     ]
    }
   ],
   "source": [
    "# 파이썬으로 MS Word 업무 자동화하기\n",
    "\n",
    "# Step 1. 필요한 모듈 로딩하기\n",
    "import docx        \n",
    "from docx.enum.text import WD_ALIGN_PARAGRAPH\n",
    "import time\n",
    "import datetime\n",
    "from dateutil.relativedelta import relativedelta\n",
    "import openpyxl \n",
    "\n",
    "# 엑셀파일을 불러오는 모듈로 openpyxl 을 사용합니다.\n",
    "wb = openpyxl.load_workbook(\"c:\\\\temp\\\\고객과금장부.xlsx\")\n",
    "sheet = wb[\"Sheet1\"]\n",
    "\n",
    "cnt = 1\n",
    "\n",
    "for i in range(2, sheet.max_row + 1) :\n",
    "    name = sheet.cell(row=i,column=2).value\n",
    "    com_no = sheet.cell(row=i,column=3).value\n",
    "    period = sheet.cell(row=i,column=4).value\n",
    "    price = sheet.cell(row=i,column=5).value\n",
    "    \n",
    "    print('1.회사명:', name)\n",
    "    print('2.사업자등록번호:',com_no)\n",
    "    print('3.과금기간:',period)\n",
    "    print('4.금액:',price)\n",
    "    print(\"\\n\")\n",
    "\n",
    "    cdate = datetime.datetime.today()\n",
    "    year = cdate.strftime(\"%y\")\n",
    "    month =  cdate.strftime(\"%m\")\n",
    "    day = cdate.strftime(\"%d\")\n",
    "\n",
    "    # 현재 월의 1일 날짜 구하기\n",
    "    first_day = cdate.replace(day=1)\n",
    "\n",
    "    # 지난 달의 마지막 날짜 구하기\n",
    "    last_day = first_day - datetime.timedelta(days=1)\n",
    "\n",
    "    # 지난 달의 1일 구하기\n",
    "    p_first_day = first_day - relativedelta(months=1)\n",
    "\n",
    "    # 현재월의 이전 월 구하기\n",
    "    p_month = last_day.strftime(\"%m\")\n",
    "\n",
    "    # 공문제목\n",
    "    title = \"데이터수집서비스(\"+ p_month + \"월분)의 이용료 지급 요청\"\n",
    "\n",
    "    # 서비스 청구기간\n",
    "    term = period\n",
    "\n",
    "    # 공문작성일\n",
    "    report_date = year +\". \" + month + \". \" + day + \".\"\n",
    "\n",
    "    # 공문작성자\n",
    "    writer = \"서진수이사( \" + report_date + \" )\"\n",
    "\n",
    "    # 문서번호\n",
    "    doc_num = \"GC-\" + month + day +'-'+ str(cnt)\n",
    "    cnt += 1\n",
    "    \n",
    "    # 문서발신일자\n",
    "    send_date = \"발신일자 \" + report_date\n",
    "\n",
    "    # Step 3. 실제 공문에 적용하기\n",
    "    # 공문작성을 위해 원본 양식을 불러옵니다\n",
    "    doc = docx.Document('c:\\\\temp\\\\gachilabs_form_ex.docx')\n",
    "\n",
    "    # 공문 수신인 적용\n",
    "    para = doc.paragraphs\n",
    "    receiver = name +' '+ '고객님'\n",
    "    para[1].add_run(receiver).bold = True\n",
    "\n",
    "    # 공문 제목 적용\n",
    "    para = doc.paragraphs\n",
    "    para[2].add_run(title).bold = True\n",
    "\n",
    "    # '-아래-' 문구 정렬(가운데 정렬)\n",
    "    para[8].alignment = WD_ALIGN_PARAGRAPH.CENTER\n",
    "\n",
    "    # 표 안의 청구 기간 넣기\n",
    "    table = doc.tables[0]\n",
    "    for row in table.rows:\n",
    "        for cell in row.cells:\n",
    "            for para in cell.paragraphs:\n",
    "                if(para.text == \"term\"):\n",
    "                    para.text = term\n",
    "                if(para.text == \"price\"):\n",
    "                    para.text = str(price)\n",
    "\n",
    "    # 문서 하단에 기안자/문서번호/발신일자 추가하기\n",
    "    # 아래의 번호는 행 번호임(표와 줄 제외됨)\n",
    "    para = doc.paragraphs\n",
    "    para[27].text = '작성자:'+writer+' ' *10 + '문서번호:'+doc_num+' ' *10 + send_date\n",
    "\n",
    "    # Step 4. 저장하기\n",
    "    # 저장하기\n",
    "    doc_name = 'c:\\\\temp\\\\'+'요금청구서'+'-'+name+'-'+com_no+'-'+p_month+'월.docx'\n",
    "    doc.save(doc_name)\n",
    "    print('워드파일저장경로:',doc_name)\n",
    "\n",
    "    # MS Word 로 저장된 문서를 pdf 파일로 변환하기\n",
    "    from docx2pdf import convert\n",
    "    pdf_name = 'c:\\\\temp\\\\'+'요금청구서'+'-'+name+'-'+com_no+'-'+p_month+'월.pdf'\n",
    "    convert(doc_name, pdf_name)\n",
    "    print('PDF파일저장경로:',pdf_name)\n",
    "    print(\"=\" *80)\n",
    "    print(\"\\n\")\n",
    "\n",
    "print(\"모든 작업이 완료되었습니다 ^^\")    "
   ]
  },
  {
   "cell_type": "code",
   "execution_count": null,
   "metadata": {},
   "outputs": [],
   "source": [
    "# 연습문제로 엑셀 파일에 여러 고객의 정보를 넣고 해당 파일을 불러와서 고객을 바꾸면서 공문을 pdf 로 만들게 하기"
   ]
  }
 ],
 "metadata": {
  "kernelspec": {
   "display_name": "Python 3",
   "language": "python",
   "name": "python3"
  },
  "language_info": {
   "codemirror_mode": {
    "name": "ipython",
    "version": 3
   },
   "file_extension": ".py",
   "mimetype": "text/x-python",
   "name": "python",
   "nbconvert_exporter": "python",
   "pygments_lexer": "ipython3",
   "version": "3.7.5"
  }
 },
 "nbformat": 4,
 "nbformat_minor": 4
}
