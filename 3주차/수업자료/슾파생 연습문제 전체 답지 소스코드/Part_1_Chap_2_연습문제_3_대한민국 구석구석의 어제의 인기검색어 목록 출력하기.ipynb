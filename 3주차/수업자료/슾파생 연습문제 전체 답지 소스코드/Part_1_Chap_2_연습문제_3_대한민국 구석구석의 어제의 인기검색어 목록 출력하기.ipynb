{
 "cells": [
  {
   "cell_type": "code",
   "execution_count": 1,
   "metadata": {},
   "outputs": [
    {
     "name": "stdout",
     "output_type": "stream",
     "text": [
      "크롤링할 키워드는 무엇입니까?: 여름여행\n",
      "검색 결과를 저장할 파일경로와 이름을 지정하세요(예:c:\\data\\test.txt): c:\\temp\\어제의인기검색어.txt\n"
     ]
    }
   ],
   "source": [
    "#Step 1. 필요한 모듈과 라이브러리를 로딩하고 검색어를 입력 받습니다\n",
    "from bs4 import BeautifulSoup     \n",
    "from selenium import webdriver\n",
    "import time\n",
    "import sys\n",
    "\n",
    "query_txt = input('크롤링할 키워드는 무엇입니까?: ')\n",
    "f_name = input('검색 결과를 저장할 파일경로와 이름을 지정하세요(예:c:\\\\data\\\\test.txt): ')\n",
    "\n",
    "#Step 2. 크롬 드라이버를 사용해서 웹 브라우저를 실행합니다.\n",
    "path = \"c:/temp/chromedriver_85/chromedriver.exe\"\n",
    "driver = webdriver.Chrome(path)\n",
    "driver.get(\"https://korean.visitkorea.or.kr/main/main.html\")\n",
    "time.sleep(2)  #  창이 모두 열릴 때 까지 2초 기다립니다.\n",
    "driver.maximize_window()"
   ]
  },
  {
   "cell_type": "code",
   "execution_count": 2,
   "metadata": {},
   "outputs": [],
   "source": [
    "#코로나 얼럿창 있을 경우 닫기 클릭하기 \n",
    "try :\n",
    "    driver.find_element_by_xpath('//*[@id=\"safetyStay1\"]/div/div/div/button').click()\n",
    "except :\n",
    "    print('팝업창이 없습니다')\n",
    "       \n",
    "#Step 3. 검색창의 이름을 찾아서 검색어를 입력하고 검색을 실행합니다\n",
    "#driver.find_element_by_id(\"btnSearch\").click()\n",
    "element = driver.find_element_by_id(\"inp_search\")\n",
    "element.send_keys(query_txt)\n",
    "element.send_keys(\"\\n\")\n",
    "\n",
    "driver.find_element_by_link_text(\"검색\").click()"
   ]
  },
  {
   "cell_type": "code",
   "execution_count": 4,
   "metadata": {},
   "outputs": [
    {
     "name": "stdout",
     "output_type": "stream",
     "text": [
      "\n",
      "어제의 인기 검색어\n",
      "1여수2통영3부산4경주5강원도6여름여행7용인8제주도9경기도10서울\n",
      "\n"
     ]
    }
   ],
   "source": [
    "# 첫번째 방법\n",
    "\n",
    "time.sleep(1)\n",
    "full_html = driver.page_source\n",
    "soup = BeautifulSoup(full_html, 'html.parser')\n",
    "\n",
    "content_list = soup.find('div','area_sWordList').get_text()\n",
    "print(content_list)"
   ]
  },
  {
   "cell_type": "code",
   "execution_count": 6,
   "metadata": {},
   "outputs": [
    {
     "name": "stdout",
     "output_type": "stream",
     "text": [
      "1여수\n",
      "2통영\n",
      "3부산\n",
      "4경주\n",
      "5강원도\n",
      "6여름여행\n",
      "7용인\n",
      "8제주도\n",
      "9경기도\n",
      "10서울\n"
     ]
    }
   ],
   "source": [
    "# 두번째 방법\n",
    "\n",
    "time.sleep(1)\n",
    "full_html = driver.page_source\n",
    "soup = BeautifulSoup(full_html, 'html.parser')\n",
    "content_list = soup.find('div','area_sWordList').find_all('li')\n",
    "\n",
    "for i in content_list:\n",
    "    print(i.get_text())\n",
    " "
   ]
  },
  {
   "cell_type": "code",
   "execution_count": 7,
   "metadata": {},
   "outputs": [
    {
     "name": "stdout",
     "output_type": "stream",
     "text": [
      "여수\n",
      "통영\n",
      "부산\n",
      "경주\n",
      "강원도\n",
      "여름여행\n",
      "용인\n",
      "제주도\n",
      "경기도\n",
      "서울\n"
     ]
    }
   ],
   "source": [
    "# 세번째 방법\n",
    "\n",
    "time.sleep(1)\n",
    "full_html = driver.page_source\n",
    "soup = BeautifulSoup(full_html, 'html.parser')\n",
    "content_list = soup.find('div','area_sWordList').find_all('li')\n",
    "\n",
    "for i in content_list:\n",
    "    txt = i.find('em').get_text()\n",
    "    print(txt)\n",
    " "
   ]
  },
  {
   "cell_type": "code",
   "execution_count": null,
   "metadata": {},
   "outputs": [],
   "source": []
  }
 ],
 "metadata": {
  "kernelspec": {
   "display_name": "Python 3",
   "language": "python",
   "name": "python3"
  },
  "language_info": {
   "codemirror_mode": {
    "name": "ipython",
    "version": 3
   },
   "file_extension": ".py",
   "mimetype": "text/x-python",
   "name": "python",
   "nbconvert_exporter": "python",
   "pygments_lexer": "ipython3",
   "version": "3.5.4"
  }
 },
 "nbformat": 4,
 "nbformat_minor": 2
}
