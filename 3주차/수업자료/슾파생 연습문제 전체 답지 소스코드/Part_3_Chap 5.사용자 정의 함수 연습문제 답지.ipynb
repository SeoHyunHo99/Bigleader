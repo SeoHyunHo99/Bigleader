{
 "cells": [
  {
   "cell_type": "code",
   "execution_count": null,
   "metadata": {},
   "outputs": [],
   "source": [
    "#연습문제 1\n",
    "# 두 숫자를 입력 받아서 큰 수에서 작은 수 뺀 결과 값 출력하기\n",
    "def data1(a,b) :\n",
    "    if a > b :\n",
    "        print(a - b)\n",
    "    else :\n",
    "        print(b - a )"
   ]
  },
  {
   "cell_type": "code",
   "execution_count": null,
   "metadata": {},
   "outputs": [],
   "source": [
    "# 연습문제 2\n",
    "# 여러개의 숫자를 입력 받아서 가장 큰 값 출력하기\n",
    "def maxprint( *a ) :\n",
    "    max = 0\n",
    "    for i in a :\n",
    "        if i > max :\n",
    "            max = i\n",
    "    return max"
   ]
  },
  {
   "cell_type": "code",
   "execution_count": null,
   "metadata": {},
   "outputs": [],
   "source": [
    "# 사용자 정의 함수 연습문제 3\n",
    "# 임의의 갯수의 숫자를 입력받아서 총 합을 출력하는 함수\n",
    "def total_add( *a ) :\n",
    "    total = 0\n",
    "    for i in a :\n",
    "        total += i\n",
    "    return total\n"
   ]
  },
  {
   "cell_type": "code",
   "execution_count": 3,
   "metadata": {},
   "outputs": [],
   "source": [
    "# 사용자 정의 함수 연습 문제 4\n",
    "# 임의의 갯수 숫자를 입력받아서 가장 큰 값에서 가장 작은 값을 뺀 결과 출력하기\n",
    "def maxprint( *a ) :\n",
    "    m = 0\n",
    "    for i in a :\n",
    "        if i > m :\n",
    "            m = i\n",
    "\n",
    "\n",
    "    n=999999\n",
    "    for i in a :\n",
    "        if i < n :\n",
    "            n = i\n",
    "    return m - n\n"
   ]
  },
  {
   "cell_type": "code",
   "execution_count": null,
   "metadata": {},
   "outputs": [],
   "source": []
  }
 ],
 "metadata": {
  "kernelspec": {
   "display_name": "Python 3",
   "language": "python",
   "name": "python3"
  },
  "language_info": {
   "codemirror_mode": {
    "name": "ipython",
    "version": 3
   },
   "file_extension": ".py",
   "mimetype": "text/x-python",
   "name": "python",
   "nbconvert_exporter": "python",
   "pygments_lexer": "ipython3",
   "version": "3.5.4"
  }
 },
 "nbformat": 4,
 "nbformat_minor": 2
}
