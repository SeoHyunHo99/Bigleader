{
 "cells": [
  {
   "cell_type": "code",
   "execution_count": 3,
   "metadata": {},
   "outputs": [],
   "source": [
    "# 연습문제 1- 윈도용 프로그램 자동 제어하기 - 환율계산\n",
    "import subprocess\n",
    "subprocess.Popen('calc.exe')\n",
    "\n",
    "import time\n",
    "time.sleep(2)\n",
    "\n",
    "import uiautomation as auto \n",
    "calc = auto.WindowControl(searchDepth=1, Name='계산기')\n",
    "\n",
    "calc.ButtonControl(Name=\"탐색 열기\").Click()\n",
    "calc.ListItemControl(Name=\"통화 환율변환기\").Click()\n",
    "calc.ButtonControl(Name=\"1\").Click()\n",
    "calc.ButtonControl(Name=\"0\").Click()\n",
    "calc.ButtonControl(Name=\"0\").Click()"
   ]
  },
  {
   "cell_type": "code",
   "execution_count": 1,
   "metadata": {},
   "outputs": [],
   "source": [
    "# 연습문제 2 - 입력 기능 자동화 연습 - 메모장\n",
    "import subprocess\n",
    "subprocess.Popen('notepad.exe')\n",
    "\n",
    "import time\n",
    "import uiautomation as auto \n",
    "notepad = auto.WindowControl(searchDepth=1, Name='제목 없음 - Windows 메모장')\n",
    "\n",
    "txt = '나는 오늘도 파이썬 공부 완전 열심히 했다!'\n",
    "notepad.EditControl(Name=\"텍스트 편집\").SendKeys(txt)\n",
    "notepad.SendKeys('{Ctrl}{s}')\n",
    "time.sleep(0.5)\n",
    "f_name ='c:\\\\temp\\\\나의일기.txt'\n",
    "notepad.EditControl(Name=\"파일 이름:\").SendKeys('{Ctrl}{A}', waitTime = 1)\n",
    "notepad.EditControl(Name=\"파일 이름:\").SendKeys(f_name)\n",
    "notepad.EditControl(Name=\"파일 이름:\").SendKeys('{Enter}')"
   ]
  },
  {
   "cell_type": "code",
   "execution_count": 9,
   "metadata": {},
   "outputs": [],
   "source": [
    "# 연습문제 3 - 계산기를 pyautogui 를 활용하여 계산하기\n",
    "import pyautogui\n",
    "import subprocess\n",
    "import time\n",
    "import uiautomation as auto \n",
    "subprocess.Popen('calc.exe')\n",
    "calc = auto.WindowControl(searchDepth=1, Name='계산기')\n",
    "\n",
    "time.sleep(3)\n",
    "\n",
    "img_5 = pyautogui.locateOnScreen('c:\\\\data\\\\image\\\\5.jpg')\n",
    "center = pyautogui.center(img_5)\n",
    "pyautogui.click(center)\n",
    "\n",
    "img_star = pyautogui.locateOnScreen('c:\\\\data\\\\image\\\\star.jpg')\n",
    "center = pyautogui.center(img_star)\n",
    "pyautogui.click(center)\n",
    "\n",
    "img_9 = pyautogui.locateOnScreen('c:\\\\data\\\\image\\\\9.jpg')\n",
    "center = pyautogui.center(img_9)\n",
    "pyautogui.click(center)\n",
    "\n",
    "pyautogui.press('enter')\n"
   ]
  }
 ],
 "metadata": {
  "kernelspec": {
   "display_name": "Python 3",
   "language": "python",
   "name": "python3"
  },
  "language_info": {
   "codemirror_mode": {
    "name": "ipython",
    "version": 3
   },
   "file_extension": ".py",
   "mimetype": "text/x-python",
   "name": "python",
   "nbconvert_exporter": "python",
   "pygments_lexer": "ipython3",
   "version": "3.5.4"
  }
 },
 "nbformat": 4,
 "nbformat_minor": 2
}
