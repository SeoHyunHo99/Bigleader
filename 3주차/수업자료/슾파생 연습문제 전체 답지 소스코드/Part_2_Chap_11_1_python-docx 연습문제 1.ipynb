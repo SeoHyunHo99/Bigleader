{
 "cells": [
  {
   "cell_type": "code",
   "execution_count": 7,
   "metadata": {},
   "outputs": [],
   "source": [
    "from docx import Document\n",
    "\n",
    "#새로운 문서를 만들어서 제목을 입력함\n",
    "doc = Document()\n",
    "\n",
    "#제목을 위한 add_heading( '제목', 번호)함수 사용\n",
    "doc.add_heading('제목: 퇴근할 때 마트에서 살 목록', 0)\n",
    "doc.add_paragraph('============================================================')\n",
    "doc.add_paragraph('1. 친환경 콩나물 1봉지', style='List Bullet')\n",
    "doc.add_paragraph('2. 친환경 두부 1모', style='List Bullet')\n",
    "doc.add_paragraph('============================================================')\n",
    "\n",
    "table = doc.add_table(rows=4, cols=2)\n",
    "row = table.rows[0]                 \n",
    "row.cells[0].text = '품목'\n",
    "row.cells[1].text = '가격'\n",
    "\n",
    "row = table.rows[1]                 \n",
    "row.cells[0].text = '친환경 콩나물 1봉지'        \n",
    "row.cells[1].text = '1500'   \n",
    "\n",
    "row = table.rows[2]                 \n",
    "row.cells[0].text = '친환경 두부 1모'        \n",
    "row.cells[1].text = '500'   \n",
    "\n",
    "row = table.rows[3]                 \n",
    "row.cells[0].text = '합계가격'        \n",
    "row.cells[1].text = '2000'  \n",
    "\n",
    "table.style = 'LightShading-Accent1'\n",
    "\n",
    "doc.save('c:\\\\temp\\\\exam_1.docx')"
   ]
  },
  {
   "cell_type": "code",
   "execution_count": null,
   "metadata": {},
   "outputs": [],
   "source": []
  }
 ],
 "metadata": {
  "kernelspec": {
   "display_name": "Python 3",
   "language": "python",
   "name": "python3"
  },
  "language_info": {
   "codemirror_mode": {
    "name": "ipython",
    "version": 3
   },
   "file_extension": ".py",
   "mimetype": "text/x-python",
   "name": "python",
   "nbconvert_exporter": "python",
   "pygments_lexer": "ipython3",
   "version": "3.7.5"
  }
 },
 "nbformat": 4,
 "nbformat_minor": 4
}
