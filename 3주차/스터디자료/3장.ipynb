{
 "cells": [
  {
   "cell_type": "markdown",
   "id": "da03f31d",
   "metadata": {},
   "source": [
    "3장 스포츠센터의 인원수에대한 \n",
    "\n",
    "고객의 전체 모습을 파악할건데 \n",
    "\n",
    "1. use_log.csv 센터의 이용 이력 데이터 \n",
    "\n",
    "2. customer_master.csv => 2019년 3월 말 시점의 회원 데이터\n",
    "\n",
    "3. class_master.csv 회원 구분 데이터( 종일 주간 야간)\n",
    "\n",
    "4. campaign_mater.csv 행사 구분 데이터( 입회비 유무)\n",
    "\n",
    "\n",
    "\n",
    "-----------------------------------------------------------------\n",
    "\n",
    "## 전체적인 데이터를 한 눈에 보았을 때 \n",
    "\n",
    "1. 2018년 4월1일부터 2019년 3월31일까지 회원의 데이터를 분석하는 것이다. \n",
    "그러면 회원권이 끝난 사람, 지속적으로 이용하는 사람을 구별하고 \n",
    "\n",
    "2. campaign 데이터를 확인하고 입회비가 있는지,없는지 구별\n",
    "\n",
    "3. 어떤 회원들이 어떤 캠페인으로 이용하고있는지 \n",
    "\n",
    "4. 삭제된 회원들의 수를 분류하고 거기서 어떤 캠페인에 참여하는 사람들의 회원들을 분류 시켜보고\n",
    "\n",
    "5. 남아있는 회원들은 어떤 캠페인으로 이용하고 있을까?\n",
    "\n",
    "6. 어떤 종일 , 야간, 주간의 클래스도 확인"
   ]
  },
  {
   "cell_type": "code",
   "execution_count": null,
   "id": "f448b9ce",
   "metadata": {},
   "outputs": [],
   "source": []
  },
  {
   "cell_type": "code",
   "execution_count": null,
   "id": "4f709e47",
   "metadata": {},
   "outputs": [],
   "source": []
  },
  {
   "cell_type": "code",
   "execution_count": null,
   "id": "fa8ebcba",
   "metadata": {},
   "outputs": [],
   "source": []
  },
  {
   "cell_type": "code",
   "execution_count": null,
   "id": "b6ed2f5c",
   "metadata": {},
   "outputs": [],
   "source": []
  },
  {
   "cell_type": "code",
   "execution_count": null,
   "id": "55930fd0",
   "metadata": {},
   "outputs": [],
   "source": []
  },
  {
   "cell_type": "code",
   "execution_count": null,
   "id": "a9f36fd3",
   "metadata": {},
   "outputs": [],
   "source": []
  },
  {
   "cell_type": "code",
   "execution_count": null,
   "id": "8abb0d38",
   "metadata": {},
   "outputs": [],
   "source": []
  },
  {
   "cell_type": "code",
   "execution_count": null,
   "id": "70e63722",
   "metadata": {},
   "outputs": [],
   "source": []
  },
  {
   "cell_type": "code",
   "execution_count": null,
   "id": "f4691deb",
   "metadata": {},
   "outputs": [],
   "source": []
  },
  {
   "cell_type": "code",
   "execution_count": null,
   "id": "d3c2074a",
   "metadata": {},
   "outputs": [],
   "source": []
  },
  {
   "cell_type": "code",
   "execution_count": null,
   "id": "8657a62d",
   "metadata": {},
   "outputs": [],
   "source": []
  }
 ],
 "metadata": {
  "kernelspec": {
   "display_name": "Python 3",
   "language": "python",
   "name": "python3"
  },
  "language_info": {
   "codemirror_mode": {
    "name": "ipython",
    "version": 3
   },
   "file_extension": ".py",
   "mimetype": "text/x-python",
   "name": "python",
   "nbconvert_exporter": "python",
   "pygments_lexer": "ipython3",
   "version": "3.8.8"
  },
  "toc": {
   "base_numbering": 1,
   "nav_menu": {},
   "number_sections": true,
   "sideBar": true,
   "skip_h1_title": false,
   "title_cell": "Table of Contents",
   "title_sidebar": "Contents",
   "toc_cell": false,
   "toc_position": {},
   "toc_section_display": true,
   "toc_window_display": false
  },
  "varInspector": {
   "cols": {
    "lenName": 16,
    "lenType": 16,
    "lenVar": 40
   },
   "kernels_config": {
    "python": {
     "delete_cmd_postfix": "",
     "delete_cmd_prefix": "del ",
     "library": "var_list.py",
     "varRefreshCmd": "print(var_dic_list())"
    },
    "r": {
     "delete_cmd_postfix": ") ",
     "delete_cmd_prefix": "rm(",
     "library": "var_list.r",
     "varRefreshCmd": "cat(var_dic_list()) "
    }
   },
   "types_to_exclude": [
    "module",
    "function",
    "builtin_function_or_method",
    "instance",
    "_Feature"
   ],
   "window_display": false
  }
 },
 "nbformat": 4,
 "nbformat_minor": 5
}
