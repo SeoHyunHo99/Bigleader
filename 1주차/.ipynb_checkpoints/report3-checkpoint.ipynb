{
 "cells": [
  {
   "cell_type": "markdown",
   "metadata": {},
   "source": [
    "## 1"
   ]
  },
  {
   "cell_type": "code",
   "execution_count": 2,
   "metadata": {},
   "outputs": [
    {
     "name": "stdout",
     "output_type": "stream",
     "text": [
      "1번째 숫자12\n",
      "2번째 숫자13\n",
      "3번째 숫자14\n",
      "4번째 숫자15\n",
      "5번째 숫자16\n",
      "6번째 숫자17\n",
      "7번째 숫자18\n",
      "8번째 숫자19\n",
      "9번째 숫자20\n",
      "10번째 숫자21\n",
      "num_list: [12, 13, 14, 15, 16, 17, 18, 19, 20, 21]\n"
     ]
    }
   ],
   "source": [
    "num_list = []\n",
    "for i in range(0,10):\n",
    "    num = int(input(str(i+1) + \"번째 숫자\"))\n",
    "    num_list.append(num)\n",
    "print(\"num_list:\", num_list)    "
   ]
  },
  {
   "cell_type": "markdown",
   "metadata": {},
   "source": [
    "## 2"
   ]
  },
  {
   "cell_type": "code",
   "execution_count": 4,
   "metadata": {},
   "outputs": [
    {
     "name": "stdout",
     "output_type": "stream",
     "text": [
      "3의 배수= [12, 15, 18, 21]\n"
     ]
    }
   ],
   "source": [
    "three_times_list = []\n",
    "for i in num_list:\n",
    "    if i % 3 ==0:\n",
    "        three_times_list.append(i)\n",
    "print(\"3의 배수=\", three_times_list)      "
   ]
  },
  {
   "cell_type": "markdown",
   "metadata": {},
   "source": [
    "## 3"
   ]
  },
  {
   "cell_type": "code",
   "execution_count": 100,
   "metadata": {},
   "outputs": [
    {
     "name": "stdout",
     "output_type": "stream",
     "text": [
      "alphabet_list= ['A', 'B', 'C', 'D', 'E', 'F', 'G', 'H', 'I', 'J', 'K', 'L', 'M', 'N', 'O', 'P', 'Q', 'R', 'S', 'T', 'U', 'V', 'W', 'X', 'Y', 'Z']\n"
     ]
    }
   ],
   "source": [
    "alphabet='ABCDEFGHIJKLMNOPQRSTUVWXYZ'\n",
    "alphabet_list=list(alphabet)\n",
    "print(\"alphabet_list=\", alphabet_list)"
   ]
  },
  {
   "cell_type": "markdown",
   "metadata": {},
   "source": [
    "## 4"
   ]
  },
  {
   "cell_type": "code",
   "execution_count": 101,
   "metadata": {},
   "outputs": [
    {
     "name": "stdout",
     "output_type": "stream",
     "text": [
      "['B', 'C', 'E', 'F', 'G', 'H', 'I', 'J', 'K', 'L', 'M', 'O', 'P', 'Q', 'R', 'T', 'V', 'W', 'X', 'Z', 'S', 'U', 'N', 'D', 'A', 'Y']\n"
     ]
    }
   ],
   "source": [
    "alphabet_list.extend([alphabet_list.pop(alphabet_list.index('S')),alphabet_list.pop(alphabet_list.index('U')),\n",
    "                      alphabet_list.pop(alphabet_list.index('N')),alphabet_list.pop(alphabet_list.index('D')),\n",
    "                      alphabet_list.pop(alphabet_list.index('A')),alphabet_list.pop(alphabet_list.index('Y'))])                                                      \n",
    "                                                                            \n",
    "print(alphabet_list)"
   ]
  },
  {
   "cell_type": "code",
   "execution_count": 102,
   "metadata": {},
   "outputs": [
    {
     "name": "stdout",
     "output_type": "stream",
     "text": [
      "['Y', 'A', 'D', 'N', 'U', 'S']\n"
     ]
    }
   ],
   "source": [
    "alphabet_sunday = []\n",
    "for i in range(6):\n",
    "    alphabet_sunday.append(alphabet_list.pop())\n",
    "print(alphabet_sunday)"
   ]
  },
  {
   "cell_type": "code",
   "execution_count": 103,
   "metadata": {},
   "outputs": [
    {
     "name": "stdout",
     "output_type": "stream",
     "text": [
      "['S', 'U', 'N', 'D', 'A', 'Y']\n"
     ]
    }
   ],
   "source": [
    "alphabet_sunday.reverse()\n",
    "print(alphabet_sunday)"
   ]
  },
  {
   "cell_type": "code",
   "execution_count": 104,
   "metadata": {},
   "outputs": [
    {
     "name": "stdout",
     "output_type": "stream",
     "text": [
      "SUNDAY\n"
     ]
    }
   ],
   "source": [
    "sunday_word = \"\".join(alphabet_sunday)\n",
    "print(sunday_word)"
   ]
  },
  {
   "cell_type": "code",
   "execution_count": 105,
   "metadata": {},
   "outputs": [
    {
     "data": {
      "text/plain": [
       "'Sunday'"
      ]
     },
     "execution_count": 105,
     "metadata": {},
     "output_type": "execute_result"
    }
   ],
   "source": [
    "sunday_word.capitalize()"
   ]
  },
  {
   "cell_type": "code",
   "execution_count": 106,
   "metadata": {},
   "outputs": [
    {
     "name": "stdout",
     "output_type": "stream",
     "text": [
      "['B', 'C', 'E', 'F', 'G', 'H', 'I', 'J', 'K', 'L', 'M', 'O', 'P', 'Q', 'R', 'T', 'V', 'W', 'X', 'Z']\n"
     ]
    }
   ],
   "source": [
    "print(alphabet_list)"
   ]
  },
  {
   "cell_type": "markdown",
   "metadata": {},
   "source": [
    "## 5"
   ]
  },
  {
   "cell_type": "code",
   "execution_count": 107,
   "metadata": {},
   "outputs": [
    {
     "name": "stdout",
     "output_type": "stream",
     "text": [
      "alphabet_list= ['A', 'B', 'C', 'D', 'E', 'F', 'G', 'H', 'I', 'J', 'K', 'L', 'M', 'N', 'O', 'P', 'Q', 'R', 'S', 'T', 'U', 'V', 'W', 'X', 'Y', 'Z']\n"
     ]
    }
   ],
   "source": [
    "alphabet='ABCDEFGHIJKLMNOPQRSTUVWXYZ'\n",
    "alphabet_list=list(alphabet)\n",
    "print(\"alphabet_list=\", alphabet_list)"
   ]
  },
  {
   "cell_type": "code",
   "execution_count": 108,
   "metadata": {},
   "outputs": [
    {
     "name": "stdout",
     "output_type": "stream",
     "text": [
      "SUNDAY\n"
     ]
    }
   ],
   "source": [
    "Sunday_word = ''.join([alphabet_list[alphabet_list.index('S')],alphabet_list[alphabet_list.index('U')],\n",
    "                       alphabet_list[alphabet_list.index('N')],alphabet_list[alphabet_list.index('D')],\n",
    "                       alphabet_list[alphabet_list.index('A')],alphabet_list[alphabet_list.index('Y')]])\n",
    "\n",
    "print(Sunday_word)\n"
   ]
  },
  {
   "cell_type": "code",
   "execution_count": 109,
   "metadata": {},
   "outputs": [
    {
     "data": {
      "text/plain": [
       "'Sunday'"
      ]
     },
     "execution_count": 109,
     "metadata": {},
     "output_type": "execute_result"
    }
   ],
   "source": [
    "sunday_word.capitalize()"
   ]
  },
  {
   "cell_type": "code",
   "execution_count": 110,
   "metadata": {},
   "outputs": [
    {
     "name": "stdout",
     "output_type": "stream",
     "text": [
      "['A', 'B', 'C', 'D', 'E', 'F', 'G', 'H', 'I', 'J', 'K', 'L', 'M', 'N', 'O', 'P', 'Q', 'R', 'S', 'T', 'U', 'V', 'W', 'X', 'Y', 'Z']\n"
     ]
    }
   ],
   "source": [
    "print(alphabet_list)"
   ]
  },
  {
   "cell_type": "markdown",
   "metadata": {},
   "source": [
    "## 6"
   ]
  },
  {
   "cell_type": "code",
   "execution_count": 113,
   "metadata": {},
   "outputs": [
    {
     "name": "stdout",
     "output_type": "stream",
     "text": [
      "1번째 항목소주\n",
      "2번째 항목사과\n",
      "3번째 항목맥주\n",
      "4번째 항목사이다\n",
      "5번째 항목빵\n",
      "6번째 항목사과\n",
      "7번째 항목소주\n",
      "8번째 항목빵\n",
      "9번째 항목사과\n",
      "10번째 항목소주\n",
      "item_list: ['소주', '사과', '맥주', '사이다', '빵', '사과', '소주', '빵', '사과', '소주']\n"
     ]
    }
   ],
   "source": [
    "item_list = []\n",
    "for i in range(0,10):\n",
    "    item = input(str(i+1) + \"번째 항목\")\n",
    "    item_list.append(item)\n",
    "print(\"item_list:\", item_list)   "
   ]
  },
  {
   "cell_type": "markdown",
   "metadata": {},
   "source": [
    "## 7"
   ]
  },
  {
   "cell_type": "code",
   "execution_count": 118,
   "metadata": {},
   "outputs": [
    {
     "name": "stdout",
     "output_type": "stream",
     "text": [
      "각 항목의 개수 = Counter({'소주': 3, '사과': 3, '빵': 2, '맥주': 1, '사이다': 1})\n"
     ]
    }
   ],
   "source": [
    "import collections as coll\n",
    "item_dict = []\n",
    "for i in  item_list:\n",
    "    item_dict.append(i)               \n",
    "print(\"각 항목의 개수 =\", coll.Counter(item_dict))        "
   ]
  },
  {
   "cell_type": "markdown",
   "metadata": {},
   "source": [
    "## 8"
   ]
  },
  {
   "cell_type": "code",
   "execution_count": 1,
   "metadata": {},
   "outputs": [
    {
     "name": "stdout",
     "output_type": "stream",
     "text": [
      "s_list의 분산: = 73.156\n",
      "s_list의 표준편차: = 8.553\n"
     ]
    }
   ],
   "source": [
    "s_list = [168,153,163,157,152,168,149,163,168,145]\n",
    "n_obs = len(s_list)\n",
    "s_list_sum = sum(s_list)\n",
    "s_list_mean = s_list_sum/n_obs \n",
    "deviation_sq = [round((num-s_list_mean)**2,3) for num in s_list]\n",
    "deviation_sq_sum = sum(deviation_sq)\n",
    "s_list_var = deviation_sq_sum/(n_obs-1)\n",
    "print(\"s_list의 분산: =\",round(s_list_var,3))\n",
    "import math\n",
    "print(\"s_list의 표준편차: =\",round(math.sqrt(s_list_var),3)) "
   ]
  },
  {
   "cell_type": "code",
   "execution_count": null,
   "metadata": {},
   "outputs": [],
   "source": []
  }
 ],
 "metadata": {
  "kernelspec": {
   "display_name": "Python 3",
   "language": "python",
   "name": "python3"
  },
  "language_info": {
   "codemirror_mode": {
    "name": "ipython",
    "version": 3
   },
   "file_extension": ".py",
   "mimetype": "text/x-python",
   "name": "python",
   "nbconvert_exporter": "python",
   "pygments_lexer": "ipython3",
   "version": "3.6.10"
  }
 },
 "nbformat": 4,
 "nbformat_minor": 2
}
