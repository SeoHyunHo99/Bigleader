{
 "cells": [
  {
   "cell_type": "code",
   "execution_count": 1,
   "id": "d643ce35",
   "metadata": {},
   "outputs": [],
   "source": [
    "import numpy as np\n",
    "import cv2\n",
    "import matplotlib.pyplot as plt"
   ]
  },
  {
   "cell_type": "code",
   "execution_count": 2,
   "id": "e87ef4dc",
   "metadata": {},
   "outputs": [
    {
     "ename": "error",
     "evalue": "OpenCV(4.5.2) C:\\Users\\runneradmin\\AppData\\Local\\Temp\\pip-req-build-fgndhvyk\\opencv\\modules\\imgproc\\src\\histogram.cpp:160: error: (-215:Assertion failed) j < nimages in function 'cv::histPrepareImages'\n",
     "output_type": "error",
     "traceback": [
      "\u001b[1;31m---------------------------------------------------------------------------\u001b[0m",
      "\u001b[1;31merror\u001b[0m                                     Traceback (most recent call last)",
      "\u001b[1;32m<ipython-input-2-5f0b0af0ad95>\u001b[0m in \u001b[0;36m<module>\u001b[1;34m\u001b[0m\n\u001b[0;32m     56\u001b[0m \u001b[1;33m\u001b[0m\u001b[0m\n\u001b[0;32m     57\u001b[0m \u001b[0mimage\u001b[0m \u001b[1;33m=\u001b[0m \u001b[0mcv2\u001b[0m\u001b[1;33m.\u001b[0m\u001b[0mimread\u001b[0m\u001b[1;33m(\u001b[0m\u001b[1;34m'test_hsv.jpg '\u001b[0m\u001b[1;33m)\u001b[0m\u001b[1;33m\u001b[0m\u001b[1;33m\u001b[0m\u001b[0m\n\u001b[1;32m---> 58\u001b[1;33m \u001b[0mhist_color\u001b[0m \u001b[1;33m=\u001b[0m \u001b[0mhist_color_img\u001b[0m\u001b[1;33m(\u001b[0m\u001b[0mimage\u001b[0m\u001b[1;33m)\u001b[0m\u001b[1;33m\u001b[0m\u001b[1;33m\u001b[0m\u001b[0m\n\u001b[0m\u001b[0;32m     59\u001b[0m \u001b[1;33m\u001b[0m\u001b[0m\n\u001b[0;32m     60\u001b[0m \u001b[0mimage_eq_V\u001b[0m \u001b[1;33m=\u001b[0m \u001b[0mequalize_hist_color_hsv_V\u001b[0m\u001b[1;33m(\u001b[0m\u001b[0mimage\u001b[0m\u001b[1;33m)\u001b[0m\u001b[1;33m\u001b[0m\u001b[1;33m\u001b[0m\u001b[0m\n",
      "\u001b[1;32m<ipython-input-2-5f0b0af0ad95>\u001b[0m in \u001b[0;36mhist_color_img\u001b[1;34m(img)\u001b[0m\n\u001b[0;32m     19\u001b[0m     \u001b[0mhistr\u001b[0m \u001b[1;33m=\u001b[0m \u001b[1;33m[\u001b[0m\u001b[1;33m]\u001b[0m\u001b[1;33m\u001b[0m\u001b[1;33m\u001b[0m\u001b[0m\n\u001b[0;32m     20\u001b[0m     \u001b[0mhistr\u001b[0m\u001b[1;33m.\u001b[0m\u001b[0mappend\u001b[0m\u001b[1;33m(\u001b[0m\u001b[0mcv2\u001b[0m\u001b[1;33m.\u001b[0m\u001b[0mcalcHist\u001b[0m\u001b[1;33m(\u001b[0m\u001b[1;33m[\u001b[0m\u001b[0mimg\u001b[0m\u001b[1;33m]\u001b[0m\u001b[1;33m,\u001b[0m \u001b[1;33m[\u001b[0m\u001b[1;36m0\u001b[0m\u001b[1;33m]\u001b[0m\u001b[1;33m,\u001b[0m \u001b[1;32mNone\u001b[0m\u001b[1;33m,\u001b[0m \u001b[1;33m[\u001b[0m\u001b[1;36m256\u001b[0m\u001b[1;33m]\u001b[0m\u001b[1;33m,\u001b[0m \u001b[1;33m[\u001b[0m\u001b[1;36m0\u001b[0m\u001b[1;33m,\u001b[0m \u001b[1;36m256\u001b[0m\u001b[1;33m]\u001b[0m\u001b[1;33m)\u001b[0m\u001b[1;33m)\u001b[0m\u001b[1;33m\u001b[0m\u001b[1;33m\u001b[0m\u001b[0m\n\u001b[1;32m---> 21\u001b[1;33m     \u001b[0mhistr\u001b[0m\u001b[1;33m.\u001b[0m\u001b[0mappend\u001b[0m\u001b[1;33m(\u001b[0m\u001b[0mcv2\u001b[0m\u001b[1;33m.\u001b[0m\u001b[0mcalcHist\u001b[0m\u001b[1;33m(\u001b[0m\u001b[1;33m[\u001b[0m\u001b[0mimg\u001b[0m\u001b[1;33m]\u001b[0m\u001b[1;33m,\u001b[0m \u001b[1;33m[\u001b[0m\u001b[1;36m1\u001b[0m\u001b[1;33m]\u001b[0m\u001b[1;33m,\u001b[0m \u001b[1;32mNone\u001b[0m\u001b[1;33m,\u001b[0m \u001b[1;33m[\u001b[0m\u001b[1;36m256\u001b[0m\u001b[1;33m]\u001b[0m\u001b[1;33m,\u001b[0m \u001b[1;33m[\u001b[0m\u001b[1;36m0\u001b[0m\u001b[1;33m,\u001b[0m \u001b[1;36m256\u001b[0m\u001b[1;33m]\u001b[0m\u001b[1;33m)\u001b[0m\u001b[1;33m)\u001b[0m\u001b[1;33m\u001b[0m\u001b[1;33m\u001b[0m\u001b[0m\n\u001b[0m\u001b[0;32m     22\u001b[0m     \u001b[0mhistr\u001b[0m\u001b[1;33m.\u001b[0m\u001b[0mappend\u001b[0m\u001b[1;33m(\u001b[0m\u001b[0mcv2\u001b[0m\u001b[1;33m.\u001b[0m\u001b[0mcalcHist\u001b[0m\u001b[1;33m(\u001b[0m\u001b[1;33m[\u001b[0m\u001b[0mimg\u001b[0m\u001b[1;33m]\u001b[0m\u001b[1;33m,\u001b[0m \u001b[1;33m[\u001b[0m\u001b[1;36m2\u001b[0m\u001b[1;33m]\u001b[0m\u001b[1;33m,\u001b[0m \u001b[1;32mNone\u001b[0m\u001b[1;33m,\u001b[0m \u001b[1;33m[\u001b[0m\u001b[1;36m256\u001b[0m\u001b[1;33m]\u001b[0m\u001b[1;33m,\u001b[0m \u001b[1;33m[\u001b[0m\u001b[1;36m0\u001b[0m\u001b[1;33m,\u001b[0m \u001b[1;36m256\u001b[0m\u001b[1;33m]\u001b[0m\u001b[1;33m)\u001b[0m\u001b[1;33m)\u001b[0m\u001b[1;33m\u001b[0m\u001b[1;33m\u001b[0m\u001b[0m\n\u001b[0;32m     23\u001b[0m \u001b[1;33m\u001b[0m\u001b[0m\n",
      "\u001b[1;31merror\u001b[0m: OpenCV(4.5.2) C:\\Users\\runneradmin\\AppData\\Local\\Temp\\pip-req-build-fgndhvyk\\opencv\\modules\\imgproc\\src\\histogram.cpp:160: error: (-215:Assertion failed) j < nimages in function 'cv::histPrepareImages'\n"
     ]
    },
    {
     "data": {
      "text/plain": [
       "<Figure size 720x1008 with 0 Axes>"
      ]
     },
     "metadata": {},
     "output_type": "display_data"
    }
   ],
   "source": [
    "def show_img_with_matplotlib(color_img, title, pos):\n",
    "    img_RGB = color_img[:, :, ::-1]\n",
    "    \n",
    "    ax = plt.subplot(3, 4, pos)\n",
    "    plt.imshow(img_RGB)\n",
    "    plt.title(title)\n",
    "    plt.axis('off')\n",
    "\n",
    "def show_hist_with_matplotlib_rgb(hist, title, pos, color):\n",
    "    ax = plt.subplot(3, 4, pos)\n",
    "    plt.xlabel('bins')\n",
    "    plt.ylabel('number of pixels')\n",
    "    plt.xlim([0, 256])\n",
    "    \n",
    "    for h, c in zip(hist, color):\n",
    "        plt.plot(h, color = c)\n",
    "\n",
    "def hist_color_img(img):\n",
    "    histr = []\n",
    "    histr.append(cv2.calcHist([img], [0], None, [256], [0, 256]))\n",
    "    histr.append(cv2.calcHist([img], [1], None, [256], [0, 256]))\n",
    "    histr.append(cv2.calcHist([img], [2], None, [256], [0, 256]))\n",
    "    \n",
    "    return histr\n",
    "\n",
    "def equalize_hist_color_hsv_V(img):\n",
    "    H, S, V = cv2.split(cv2.cvtColor(img, cv2.COLOR_RGB2HSV))\n",
    "    eq_V = cv2.equalizeHist(V)\n",
    "    eq_image = cv2.cvtColor(cv2.merge([H, S, eq_V]), cv2.COLOR_HSV2RGB)\n",
    "    \n",
    "    return eq_image\n",
    "\n",
    "def equalize_hist_color_hsv_H(img):\n",
    "    H, S, V = cv2.split(cv2.cvtColor(img, cv2.COLOR_RGB2HSV))\n",
    "    eq_H = cv2.equalizeHist(H)\n",
    "    eq_image = cv2.cvtColor(cv2.merge([eq_H, S, V]), cv2.COLOR_HSV2RGB)\n",
    "    return eq_image\n",
    "\n",
    "def equalize_hist_color_hsv_SV(img):\n",
    "    H, S, V = cv2.split(cv2.cvtColor(img, cv2.COLOR_RGB2HSV))\n",
    "    eq_S = cv2.equalizeHist(S)\n",
    "    eq_V = cv2.equalizeHist(V)\n",
    "    eq_image = cv2.cvtColor(cv2.merge([H, eq_S, eq_V]), cv2.COLOR_HSV2RGB)\n",
    "    return eq_image\n",
    "\n",
    "def equalize_hist_color_hsv_HSV(img):\n",
    "    H, S, V = cv2.split(cv2.cvtColor(img, cv2.COLOR_RGB2HSV))\n",
    "    eq_H = cv2.equalizeHist(H)\n",
    "    eq_S = cv2.equalizeHist(S)\n",
    "    eq_V = cv2.equalizeHist(V)\n",
    "    eq_image = cv2.cvtColor(cv2.merge([eq_H, eq_S, eq_V]), cv2.COLOR_HSV2RGB)\n",
    "    return eq_image\n",
    "\n",
    "plt.figure(figsize=(10, 14))\n",
    "plt.suptitle('hsv value equal histogram')\n",
    "\n",
    "image = cv2.imread('test_hsv.jpg ')\n",
    "hist_color = hist_color_img(image)\n",
    "\n",
    "image_eq_V = equalize_hist_color_hsv_V(image)\n",
    "hist_color_eq_V = hist_color_img(image_eq_V)\n",
    "\n",
    "image_eq_SV = equalize_hist_color_hsv_SV(image)\n",
    "hist_color_eq_SV = hist_color_img(image_eq_SV)\n",
    "\n",
    "image_eq_HSV = equalize_hist_color_hsv_HSV(image)\n",
    "hist_color_eq_HSV = hist_color_img(image_eq_HSV)\n",
    "\n",
    "show_img_with_matplotlib(image, 'image', 1)\n",
    "show_hist_with_matplotlib_rgb(hist_color, 'color histogram', 2, ['b', 'g', 'r'])\n",
    "show_img_with_matplotlib(image_eq_V, 'image eq V', 3)\n",
    "show_hist_with_matplotlib_rgb(hist_color_eq_V, 'color histogram', 4, ['b', 'g', 'r'])\n",
    "show_img_with_matplotlib(image_eq_SV, 'image eq SV', 5)\n",
    "show_hist_with_matplotlib_rgb(hist_color_eq_SV, 'color histogram', 6, ['b', 'g', 'r'])\n",
    "show_img_with_matplotlib(image_eq_HSV, 'image eq HSV', 7)\n",
    "show_hist_with_matplotlib_rgb(hist_color_eq_HSV, 'color histogram', 8, ['b', 'g', 'r'])\n",
    "\n",
    "plt.show()"
   ]
  },
  {
   "cell_type": "code",
   "execution_count": null,
   "id": "4b21a42d",
   "metadata": {},
   "outputs": [],
   "source": []
  }
 ],
 "metadata": {
  "kernelspec": {
   "display_name": "Python 3",
   "language": "python",
   "name": "python3"
  },
  "language_info": {
   "codemirror_mode": {
    "name": "ipython",
    "version": 3
   },
   "file_extension": ".py",
   "mimetype": "text/x-python",
   "name": "python",
   "nbconvert_exporter": "python",
   "pygments_lexer": "ipython3",
   "version": "3.6.13"
  }
 },
 "nbformat": 4,
 "nbformat_minor": 5
}
