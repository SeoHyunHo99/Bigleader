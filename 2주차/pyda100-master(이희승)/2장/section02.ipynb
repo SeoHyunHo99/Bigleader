{
 "cells": [
  {
   "cell_type": "markdown",
   "metadata": {},
   "source": [
    "# 고객 정보 관리를 엑셀로 관리를 할 때 \n",
    "\n",
    "## keyword 장사가 자라되고 매출도 안정적이다. \n",
    "\n",
    "## 여러가지 발견을 해보자\n"
   ]
  },
  {
   "cell_type": "code",
   "execution_count": 1,
   "metadata": {},
   "outputs": [
    {
     "data": {
      "text/html": [
       "<div>\n",
       "<style scoped>\n",
       "    .dataframe tbody tr th:only-of-type {\n",
       "        vertical-align: middle;\n",
       "    }\n",
       "\n",
       "    .dataframe tbody tr th {\n",
       "        vertical-align: top;\n",
       "    }\n",
       "\n",
       "    .dataframe thead th {\n",
       "        text-align: right;\n",
       "    }\n",
       "</style>\n",
       "<table border=\"1\" class=\"dataframe\">\n",
       "  <thead>\n",
       "    <tr style=\"text-align: right;\">\n",
       "      <th></th>\n",
       "      <th>purchase_date</th>\n",
       "      <th>item_name</th>\n",
       "      <th>item_price</th>\n",
       "      <th>customer_name</th>\n",
       "    </tr>\n",
       "  </thead>\n",
       "  <tbody>\n",
       "    <tr>\n",
       "      <th>0</th>\n",
       "      <td>2019-06-13 18:02</td>\n",
       "      <td>상품A</td>\n",
       "      <td>100.0</td>\n",
       "      <td>김가온</td>\n",
       "    </tr>\n",
       "    <tr>\n",
       "      <th>1</th>\n",
       "      <td>2019-07-13 13:05</td>\n",
       "      <td>상 품 S</td>\n",
       "      <td>NaN</td>\n",
       "      <td>김우찬</td>\n",
       "    </tr>\n",
       "    <tr>\n",
       "      <th>2</th>\n",
       "      <td>2019-05-11 19:42</td>\n",
       "      <td>상 품 a</td>\n",
       "      <td>NaN</td>\n",
       "      <td>김유찬</td>\n",
       "    </tr>\n",
       "    <tr>\n",
       "      <th>3</th>\n",
       "      <td>2019-02-12 23:40</td>\n",
       "      <td>상품Z</td>\n",
       "      <td>2600.0</td>\n",
       "      <td>김재현</td>\n",
       "    </tr>\n",
       "    <tr>\n",
       "      <th>4</th>\n",
       "      <td>2019-04-22 3:09</td>\n",
       "      <td>상품a</td>\n",
       "      <td>NaN</td>\n",
       "      <td>김강현</td>\n",
       "    </tr>\n",
       "  </tbody>\n",
       "</table>\n",
       "</div>"
      ],
      "text/plain": [
       "      purchase_date item_name  item_price customer_name\n",
       "0  2019-06-13 18:02       상품A       100.0           김가온\n",
       "1  2019-07-13 13:05     상 품 S         NaN           김우찬\n",
       "2  2019-05-11 19:42     상 품 a         NaN           김유찬\n",
       "3  2019-02-12 23:40       상품Z      2600.0           김재현\n",
       "4   2019-04-22 3:09       상품a         NaN           김강현"
      ]
     },
     "execution_count": 1,
     "metadata": {},
     "output_type": "execute_result"
    }
   ],
   "source": [
    "import pandas as pd \n",
    "\n",
    "uriage_data = pd.read_csv('uriage.csv')\n",
    "uriage_data.head()\n",
    "# uriage_data.tail()"
   ]
  },
  {
   "cell_type": "code",
   "execution_count": 2,
   "metadata": {},
   "outputs": [],
   "source": [
    "kokyaku_data = pd.read_excel('kokyaku_daicho.xlsx', engine='openpyxl')"
   ]
  },
  {
   "cell_type": "code",
   "execution_count": 3,
   "metadata": {},
   "outputs": [
    {
     "data": {
      "text/html": [
       "<div>\n",
       "<style scoped>\n",
       "    .dataframe tbody tr th:only-of-type {\n",
       "        vertical-align: middle;\n",
       "    }\n",
       "\n",
       "    .dataframe tbody tr th {\n",
       "        vertical-align: top;\n",
       "    }\n",
       "\n",
       "    .dataframe thead th {\n",
       "        text-align: right;\n",
       "    }\n",
       "</style>\n",
       "<table border=\"1\" class=\"dataframe\">\n",
       "  <thead>\n",
       "    <tr style=\"text-align: right;\">\n",
       "      <th></th>\n",
       "      <th>고객이름</th>\n",
       "      <th>지역</th>\n",
       "      <th>등록일</th>\n",
       "    </tr>\n",
       "  </thead>\n",
       "  <tbody>\n",
       "    <tr>\n",
       "      <th>0</th>\n",
       "      <td>김 현성</td>\n",
       "      <td>H시</td>\n",
       "      <td>2018-01-04 00:00:00</td>\n",
       "    </tr>\n",
       "    <tr>\n",
       "      <th>1</th>\n",
       "      <td>김 도윤</td>\n",
       "      <td>E시</td>\n",
       "      <td>42782</td>\n",
       "    </tr>\n",
       "    <tr>\n",
       "      <th>2</th>\n",
       "      <td>김 지한</td>\n",
       "      <td>A시</td>\n",
       "      <td>2018-01-07 00:00:00</td>\n",
       "    </tr>\n",
       "    <tr>\n",
       "      <th>3</th>\n",
       "      <td>김 하윤</td>\n",
       "      <td>F시</td>\n",
       "      <td>42872</td>\n",
       "    </tr>\n",
       "    <tr>\n",
       "      <th>4</th>\n",
       "      <td>김 시온</td>\n",
       "      <td>E시</td>\n",
       "      <td>43127</td>\n",
       "    </tr>\n",
       "  </tbody>\n",
       "</table>\n",
       "</div>"
      ],
      "text/plain": [
       "   고객이름  지역                  등록일\n",
       "0  김 현성  H시  2018-01-04 00:00:00\n",
       "1  김 도윤  E시                42782\n",
       "2  김 지한  A시  2018-01-07 00:00:00\n",
       "3  김 하윤  F시                42872\n",
       "4  김 시온  E시                43127"
      ]
     },
     "execution_count": 3,
     "metadata": {},
     "output_type": "execute_result"
    }
   ],
   "source": [
    "kokyaku_data.head()"
   ]
  },
  {
   "cell_type": "code",
   "execution_count": 4,
   "metadata": {},
   "outputs": [
    {
     "data": {
      "text/html": [
       "<div>\n",
       "<style scoped>\n",
       "    .dataframe tbody tr th:only-of-type {\n",
       "        vertical-align: middle;\n",
       "    }\n",
       "\n",
       "    .dataframe tbody tr th {\n",
       "        vertical-align: top;\n",
       "    }\n",
       "\n",
       "    .dataframe thead th {\n",
       "        text-align: right;\n",
       "    }\n",
       "</style>\n",
       "<table border=\"1\" class=\"dataframe\">\n",
       "  <thead>\n",
       "    <tr style=\"text-align: right;\">\n",
       "      <th></th>\n",
       "      <th>고객이름</th>\n",
       "      <th>지역</th>\n",
       "      <th>등록일</th>\n",
       "    </tr>\n",
       "  </thead>\n",
       "  <tbody>\n",
       "    <tr>\n",
       "      <th>195</th>\n",
       "      <td>김 재희</td>\n",
       "      <td>G시</td>\n",
       "      <td>2017-06-20 00:00:00</td>\n",
       "    </tr>\n",
       "    <tr>\n",
       "      <th>196</th>\n",
       "      <td>김 도영</td>\n",
       "      <td>E시</td>\n",
       "      <td>2018-06-20 00:00:00</td>\n",
       "    </tr>\n",
       "    <tr>\n",
       "      <th>197</th>\n",
       "      <td>김 이안</td>\n",
       "      <td>F시</td>\n",
       "      <td>2017-04-29 00:00:00</td>\n",
       "    </tr>\n",
       "    <tr>\n",
       "      <th>198</th>\n",
       "      <td>김 시현</td>\n",
       "      <td>H시</td>\n",
       "      <td>2019-04-19 00:00:00</td>\n",
       "    </tr>\n",
       "    <tr>\n",
       "      <th>199</th>\n",
       "      <td>김 서우</td>\n",
       "      <td>D시</td>\n",
       "      <td>2019-04-23 00:00:00</td>\n",
       "    </tr>\n",
       "  </tbody>\n",
       "</table>\n",
       "</div>"
      ],
      "text/plain": [
       "     고객이름  지역                  등록일\n",
       "195  김 재희  G시  2017-06-20 00:00:00\n",
       "196  김 도영  E시  2018-06-20 00:00:00\n",
       "197  김 이안  F시  2017-04-29 00:00:00\n",
       "198  김 시현  H시  2019-04-19 00:00:00\n",
       "199  김 서우  D시  2019-04-23 00:00:00"
      ]
     },
     "execution_count": 4,
     "metadata": {},
     "output_type": "execute_result"
    }
   ],
   "source": [
    "kokyaku_data.tail()"
   ]
  },
  {
   "cell_type": "code",
   "execution_count": 5,
   "metadata": {},
   "outputs": [
    {
     "data": {
      "text/plain": [
       "purchase_date     object\n",
       "item_name         object\n",
       "item_price       float64\n",
       "customer_name     object\n",
       "dtype: object"
      ]
     },
     "execution_count": 5,
     "metadata": {},
     "output_type": "execute_result"
    }
   ],
   "source": [
    "# 각 데이터 별 형 타입 이해하기 \n",
    "\n",
    "uriage_data.dtypes"
   ]
  },
  {
   "cell_type": "code",
   "execution_count": 6,
   "metadata": {},
   "outputs": [
    {
     "data": {
      "text/plain": [
       "고객이름    object\n",
       "지역      object\n",
       "등록일     object\n",
       "dtype: object"
      ]
     },
     "execution_count": 6,
     "metadata": {},
     "output_type": "execute_result"
    }
   ],
   "source": [
    "kokyaku_data.dtypes"
   ]
  },
  {
   "cell_type": "markdown",
   "metadata": {},
   "source": [
    " * uriage의 purchase date 는 object, kokyaku의 데이터는 object라는 것을 볼 수 있다. \n",
    " \n",
    " * 그 다음 item _name에서 오류가 보이는 것을 볼 수 있다. 상 품 s  뭐 이런 식으로 이런거 관리를 해줘얒\n",
    " \n",
    " * 이 관리가 데이터 전처리의 일종 이라고 보면된다. "
   ]
  },
  {
   "cell_type": "code",
   "execution_count": 7,
   "metadata": {},
   "outputs": [
    {
     "data": {
      "text/plain": [
       "0      상품A\n",
       "1    상 품 S\n",
       "2    상 품 a\n",
       "3      상품Z\n",
       "4      상품a\n",
       "Name: item_name, dtype: object"
      ]
     },
     "execution_count": 7,
     "metadata": {},
     "output_type": "execute_result"
    }
   ],
   "source": [
    "uriage_data['item_name'].head()"
   ]
  },
  {
   "cell_type": "code",
   "execution_count": 8,
   "metadata": {},
   "outputs": [
    {
     "data": {
      "text/plain": [
       "0     100.0\n",
       "1       NaN\n",
       "2       NaN\n",
       "3    2600.0\n",
       "4       NaN\n",
       "Name: item_price, dtype: float64"
      ]
     },
     "execution_count": 8,
     "metadata": {},
     "output_type": "execute_result"
    }
   ],
   "source": [
    "uriage_data['item_price'].head()"
   ]
  },
  {
   "cell_type": "markdown",
   "metadata": {},
   "source": [
    "# 요상한 데이터 처리하기 \n",
    "\n",
    "### item_name에서 상품 A , 상 품 S , 상 품 a 상품Z 상품a**********이렇게 볼 수 있다. 우리가 처리해야할 것은 일관성있게 처리해야한다.\n",
    "\n",
    "### item_price는 NaN값들이 막 있는 것이 보인다. 그런것들을 어떻게 처리할건지 짱구를 굴려봐야한다. 알겠냐?"
   ]
  },
  {
   "cell_type": "markdown",
   "metadata": {},
   "source": [
    "# 데이터에 오류가 있는 상태로 집계를 해보기 \n",
    "\n",
    "데이터의 정합성이 얼마나 중요한가?\n",
    "\n"
   ]
  },
  {
   "cell_type": "markdown",
   "metadata": {},
   "source": [
    "uriage_data[\"purchase_date\"] = pd.to_datetime(uriage_data[\"purchase_date\"]\n",
    "\n",
    "uriage_data[\"purchase_month\"] = uriage_data[\"purchase_date].dt.strftime(\"%Y%M\")\n",
    "\n",
    "res = uriage_data.pivot_table(index=\"purchase_month\",columns = \"item_name\",aggfunc= \"size\", fill_value=0)\n"
   ]
  },
  {
   "cell_type": "code",
   "execution_count": 9,
   "metadata": {
    "scrolled": true
   },
   "outputs": [],
   "source": [
    "# uriage_data[\"purchase_date\"] = pd.to_datetime(uriage_data[\"purchase_date\"])\n",
    "\n",
    "# uriage_data[\"purchase_month\"] = uriage_data[\"purchase_date\"].dt.strftime(\"%Y%M\")\n",
    "\n",
    "# res = uriage_data.pivot_table(index=\"purchase_month\",columns = \"item_name\",aggfunc= \"size\", fill_value=0)\n",
    "\n",
    "# res\n"
   ]
  },
  {
   "cell_type": "code",
   "execution_count": 10,
   "metadata": {},
   "outputs": [
    {
     "data": {
      "text/plain": [
       "0       상품A\n",
       "1       상품S\n",
       "2       상품A\n",
       "3       상품Z\n",
       "4       상품A\n",
       "       ... \n",
       "2994    상품Y\n",
       "2995    상품M\n",
       "2996    상품Q\n",
       "2997    상품H\n",
       "2998    상품D\n",
       "Name: item_name, Length: 2999, dtype: object"
      ]
     },
     "execution_count": 10,
     "metadata": {},
     "output_type": "execute_result"
    }
   ],
   "source": [
    "#1. item_name 의 이름을 바꿔준다 어떻게? 통일성있게. str.upper , \n",
    "\n",
    "uriage_data[\"item_name\"] = uriage_data[\"item_name\"].str.upper()\n",
    "\n",
    "uriage_data[\"item_name\"] = uriage_data[\"item_name\"].str.replace(\" \", \"\")\n",
    "\n",
    "uriage_data[\"item_name\"]"
   ]
  },
  {
   "cell_type": "code",
   "execution_count": 11,
   "metadata": {},
   "outputs": [
    {
     "data": {
      "text/plain": [
       "0      김현성\n",
       "1      김도윤\n",
       "2      김지한\n",
       "3      김하윤\n",
       "4      김시온\n",
       "      ... \n",
       "195    김재희\n",
       "196    김도영\n",
       "197    김이안\n",
       "198    김시현\n",
       "199    김서우\n",
       "Name: 고객이름, Length: 200, dtype: object"
      ]
     },
     "execution_count": 11,
     "metadata": {},
     "output_type": "execute_result"
    }
   ],
   "source": [
    "kokyaku_data[\"고객이름\"] = kokyaku_data[\"고객이름\"].str.replace(\" \",\"\")\n",
    "\n",
    "\n",
    "kokyaku_data[\"고객이름\"]"
   ]
  },
  {
   "cell_type": "code",
   "execution_count": 12,
   "metadata": {},
   "outputs": [
    {
     "data": {
      "text/plain": [
       "<bound method DataFrame.info of          purchase_date item_name  item_price customer_name\n",
       "0     2019-06-13 18:02       상품A       100.0           김가온\n",
       "1     2019-07-13 13:05       상품S         NaN           김우찬\n",
       "2     2019-05-11 19:42       상품A         NaN           김유찬\n",
       "3     2019-02-12 23:40       상품Z      2600.0           김재현\n",
       "4      2019-04-22 3:09       상품A         NaN           김강현\n",
       "...                ...       ...         ...           ...\n",
       "2994   2019-02-15 2:56       상품Y      2500.0           김정민\n",
       "2995   2019-06-22 4:03       상품M      1300.0           김재원\n",
       "2996  2019-03-29 11:14       상품Q         NaN           김지율\n",
       "2997  2019-07-14 12:56       상품H         NaN           김승주\n",
       "2998   2019-07-21 0:31       상품D       400.0           정준기\n",
       "\n",
       "[2999 rows x 4 columns]>"
      ]
     },
     "execution_count": 12,
     "metadata": {},
     "output_type": "execute_result"
    }
   ],
   "source": [
    "uriage_data.info"
   ]
  },
  {
   "cell_type": "code",
   "execution_count": 13,
   "metadata": {},
   "outputs": [
    {
     "name": "stdout",
     "output_type": "stream",
     "text": [
      "<class 'pandas.core.frame.DataFrame'>\n",
      "RangeIndex: 2999 entries, 0 to 2998\n",
      "Data columns (total 4 columns):\n",
      " #   Column         Non-Null Count  Dtype  \n",
      "---  ------         --------------  -----  \n",
      " 0   purchase_date  2999 non-null   object \n",
      " 1   item_name      2999 non-null   object \n",
      " 2   item_price     2612 non-null   float64\n",
      " 3   customer_name  2999 non-null   object \n",
      "dtypes: float64(1), object(3)\n",
      "memory usage: 93.8+ KB\n"
     ]
    }
   ],
   "source": [
    "uriage_data.info([\"item_price\"])"
   ]
  },
  {
   "cell_type": "code",
   "execution_count": 14,
   "metadata": {},
   "outputs": [
    {
     "data": {
      "text/plain": [
       "0       False\n",
       "1        True\n",
       "2        True\n",
       "3       False\n",
       "4        True\n",
       "        ...  \n",
       "2994    False\n",
       "2995    False\n",
       "2996     True\n",
       "2997     True\n",
       "2998    False\n",
       "Name: item_price, Length: 2999, dtype: bool"
      ]
     },
     "execution_count": 14,
     "metadata": {},
     "output_type": "execute_result"
    }
   ],
   "source": [
    "find_Nan = uriage_data[\"item_price\"].isnull()\n",
    "\n",
    "find_Nan"
   ]
  },
  {
   "cell_type": "code",
   "execution_count": 15,
   "metadata": {
    "scrolled": true
   },
   "outputs": [
    {
     "data": {
      "text/html": [
       "<div>\n",
       "<style scoped>\n",
       "    .dataframe tbody tr th:only-of-type {\n",
       "        vertical-align: middle;\n",
       "    }\n",
       "\n",
       "    .dataframe tbody tr th {\n",
       "        vertical-align: top;\n",
       "    }\n",
       "\n",
       "    .dataframe thead th {\n",
       "        text-align: right;\n",
       "    }\n",
       "</style>\n",
       "<table border=\"1\" class=\"dataframe\">\n",
       "  <thead>\n",
       "    <tr style=\"text-align: right;\">\n",
       "      <th></th>\n",
       "      <th>purchase_date</th>\n",
       "      <th>item_name</th>\n",
       "      <th>item_price</th>\n",
       "      <th>customer_name</th>\n",
       "    </tr>\n",
       "  </thead>\n",
       "  <tbody>\n",
       "    <tr>\n",
       "      <th>0</th>\n",
       "      <td>2019-06-13 18:02</td>\n",
       "      <td>상품A</td>\n",
       "      <td>100.0</td>\n",
       "      <td>김가온</td>\n",
       "    </tr>\n",
       "    <tr>\n",
       "      <th>3</th>\n",
       "      <td>2019-02-12 23:40</td>\n",
       "      <td>상품Z</td>\n",
       "      <td>2600.0</td>\n",
       "      <td>김재현</td>\n",
       "    </tr>\n",
       "    <tr>\n",
       "      <th>5</th>\n",
       "      <td>2019-03-20 19:16</td>\n",
       "      <td>상품S</td>\n",
       "      <td>1900.0</td>\n",
       "      <td>김우진</td>\n",
       "    </tr>\n",
       "    <tr>\n",
       "      <th>7</th>\n",
       "      <td>2019-04-18 0:14</td>\n",
       "      <td>상품V</td>\n",
       "      <td>2200.0</td>\n",
       "      <td>김민혁</td>\n",
       "    </tr>\n",
       "    <tr>\n",
       "      <th>8</th>\n",
       "      <td>2019-01-10 15:51</td>\n",
       "      <td>상품O</td>\n",
       "      <td>1500.0</td>\n",
       "      <td>김선우</td>\n",
       "    </tr>\n",
       "    <tr>\n",
       "      <th>...</th>\n",
       "      <td>...</td>\n",
       "      <td>...</td>\n",
       "      <td>...</td>\n",
       "      <td>...</td>\n",
       "    </tr>\n",
       "    <tr>\n",
       "      <th>2991</th>\n",
       "      <td>2019-02-18 14:36</td>\n",
       "      <td>상품W</td>\n",
       "      <td>2300.0</td>\n",
       "      <td>김우빈</td>\n",
       "    </tr>\n",
       "    <tr>\n",
       "      <th>2993</th>\n",
       "      <td>2019-01-25 3:57</td>\n",
       "      <td>상품C</td>\n",
       "      <td>300.0</td>\n",
       "      <td>김이안</td>\n",
       "    </tr>\n",
       "    <tr>\n",
       "      <th>2994</th>\n",
       "      <td>2019-02-15 2:56</td>\n",
       "      <td>상품Y</td>\n",
       "      <td>2500.0</td>\n",
       "      <td>김정민</td>\n",
       "    </tr>\n",
       "    <tr>\n",
       "      <th>2995</th>\n",
       "      <td>2019-06-22 4:03</td>\n",
       "      <td>상품M</td>\n",
       "      <td>1300.0</td>\n",
       "      <td>김재원</td>\n",
       "    </tr>\n",
       "    <tr>\n",
       "      <th>2998</th>\n",
       "      <td>2019-07-21 0:31</td>\n",
       "      <td>상품D</td>\n",
       "      <td>400.0</td>\n",
       "      <td>정준기</td>\n",
       "    </tr>\n",
       "  </tbody>\n",
       "</table>\n",
       "<p>2612 rows × 4 columns</p>\n",
       "</div>"
      ],
      "text/plain": [
       "         purchase_date item_name  item_price customer_name\n",
       "0     2019-06-13 18:02       상품A       100.0           김가온\n",
       "3     2019-02-12 23:40       상품Z      2600.0           김재현\n",
       "5     2019-03-20 19:16       상품S      1900.0           김우진\n",
       "7      2019-04-18 0:14       상품V      2200.0           김민혁\n",
       "8     2019-01-10 15:51       상품O      1500.0           김선우\n",
       "...                ...       ...         ...           ...\n",
       "2991  2019-02-18 14:36       상품W      2300.0           김우빈\n",
       "2993   2019-01-25 3:57       상품C       300.0           김이안\n",
       "2994   2019-02-15 2:56       상품Y      2500.0           김정민\n",
       "2995   2019-06-22 4:03       상품M      1300.0           김재원\n",
       "2998   2019-07-21 0:31       상품D       400.0           정준기\n",
       "\n",
       "[2612 rows x 4 columns]"
      ]
     },
     "execution_count": 15,
     "metadata": {},
     "output_type": "execute_result"
    }
   ],
   "source": [
    "find_Nan = uriage_data[\"item_price\"].isnull()\n",
    "find_price = uriage_data[find_Nan==False]\n",
    "# find_Nan\n",
    "find_price"
   ]
  },
  {
   "cell_type": "code",
   "execution_count": 16,
   "metadata": {},
   "outputs": [
    {
     "data": {
      "text/plain": [
       "0       False\n",
       "1        True\n",
       "2        True\n",
       "3       False\n",
       "4        True\n",
       "        ...  \n",
       "2994    False\n",
       "2995    False\n",
       "2996     True\n",
       "2997     True\n",
       "2998    False\n",
       "Name: item_price, Length: 2999, dtype: bool"
      ]
     },
     "execution_count": 16,
     "metadata": {},
     "output_type": "execute_result"
    }
   ],
   "source": [
    "find_Nan"
   ]
  },
  {
   "cell_type": "code",
   "execution_count": 17,
   "metadata": {},
   "outputs": [
    {
     "data": {
      "text/html": [
       "<div>\n",
       "<style scoped>\n",
       "    .dataframe tbody tr th:only-of-type {\n",
       "        vertical-align: middle;\n",
       "    }\n",
       "\n",
       "    .dataframe tbody tr th {\n",
       "        vertical-align: top;\n",
       "    }\n",
       "\n",
       "    .dataframe thead th {\n",
       "        text-align: right;\n",
       "    }\n",
       "</style>\n",
       "<table border=\"1\" class=\"dataframe\">\n",
       "  <thead>\n",
       "    <tr style=\"text-align: right;\">\n",
       "      <th></th>\n",
       "      <th>purchase_date</th>\n",
       "      <th>item_name</th>\n",
       "      <th>item_price</th>\n",
       "      <th>customer_name</th>\n",
       "    </tr>\n",
       "  </thead>\n",
       "  <tbody>\n",
       "    <tr>\n",
       "      <th>0</th>\n",
       "      <td>2019-06-13 18:02</td>\n",
       "      <td>상품A</td>\n",
       "      <td>100.0</td>\n",
       "      <td>김가온</td>\n",
       "    </tr>\n",
       "    <tr>\n",
       "      <th>3</th>\n",
       "      <td>2019-02-12 23:40</td>\n",
       "      <td>상품Z</td>\n",
       "      <td>2600.0</td>\n",
       "      <td>김재현</td>\n",
       "    </tr>\n",
       "    <tr>\n",
       "      <th>5</th>\n",
       "      <td>2019-03-20 19:16</td>\n",
       "      <td>상품S</td>\n",
       "      <td>1900.0</td>\n",
       "      <td>김우진</td>\n",
       "    </tr>\n",
       "    <tr>\n",
       "      <th>7</th>\n",
       "      <td>2019-04-18 0:14</td>\n",
       "      <td>상품V</td>\n",
       "      <td>2200.0</td>\n",
       "      <td>김민혁</td>\n",
       "    </tr>\n",
       "    <tr>\n",
       "      <th>8</th>\n",
       "      <td>2019-01-10 15:51</td>\n",
       "      <td>상품O</td>\n",
       "      <td>1500.0</td>\n",
       "      <td>김선우</td>\n",
       "    </tr>\n",
       "    <tr>\n",
       "      <th>...</th>\n",
       "      <td>...</td>\n",
       "      <td>...</td>\n",
       "      <td>...</td>\n",
       "      <td>...</td>\n",
       "    </tr>\n",
       "    <tr>\n",
       "      <th>2991</th>\n",
       "      <td>2019-02-18 14:36</td>\n",
       "      <td>상품W</td>\n",
       "      <td>2300.0</td>\n",
       "      <td>김우빈</td>\n",
       "    </tr>\n",
       "    <tr>\n",
       "      <th>2993</th>\n",
       "      <td>2019-01-25 3:57</td>\n",
       "      <td>상품C</td>\n",
       "      <td>300.0</td>\n",
       "      <td>김이안</td>\n",
       "    </tr>\n",
       "    <tr>\n",
       "      <th>2994</th>\n",
       "      <td>2019-02-15 2:56</td>\n",
       "      <td>상품Y</td>\n",
       "      <td>2500.0</td>\n",
       "      <td>김정민</td>\n",
       "    </tr>\n",
       "    <tr>\n",
       "      <th>2995</th>\n",
       "      <td>2019-06-22 4:03</td>\n",
       "      <td>상품M</td>\n",
       "      <td>1300.0</td>\n",
       "      <td>김재원</td>\n",
       "    </tr>\n",
       "    <tr>\n",
       "      <th>2998</th>\n",
       "      <td>2019-07-21 0:31</td>\n",
       "      <td>상품D</td>\n",
       "      <td>400.0</td>\n",
       "      <td>정준기</td>\n",
       "    </tr>\n",
       "  </tbody>\n",
       "</table>\n",
       "<p>2612 rows × 4 columns</p>\n",
       "</div>"
      ],
      "text/plain": [
       "         purchase_date item_name  item_price customer_name\n",
       "0     2019-06-13 18:02       상품A       100.0           김가온\n",
       "3     2019-02-12 23:40       상품Z      2600.0           김재현\n",
       "5     2019-03-20 19:16       상품S      1900.0           김우진\n",
       "7      2019-04-18 0:14       상품V      2200.0           김민혁\n",
       "8     2019-01-10 15:51       상품O      1500.0           김선우\n",
       "...                ...       ...         ...           ...\n",
       "2991  2019-02-18 14:36       상품W      2300.0           김우빈\n",
       "2993   2019-01-25 3:57       상품C       300.0           김이안\n",
       "2994   2019-02-15 2:56       상품Y      2500.0           김정민\n",
       "2995   2019-06-22 4:03       상품M      1300.0           김재원\n",
       "2998   2019-07-21 0:31       상품D       400.0           정준기\n",
       "\n",
       "[2612 rows x 4 columns]"
      ]
     },
     "execution_count": 17,
     "metadata": {},
     "output_type": "execute_result"
    }
   ],
   "source": [
    "find_price"
   ]
  },
  {
   "cell_type": "code",
   "execution_count": 18,
   "metadata": {},
   "outputs": [
    {
     "data": {
      "text/plain": [
       "100.0"
      ]
     },
     "execution_count": 18,
     "metadata": {},
     "output_type": "execute_result"
    }
   ],
   "source": [
    "find_price.loc[(uriage_data[\"item_name\"] == '상품A'),'item_price'].iloc[0]"
   ]
  },
  {
   "cell_type": "code",
   "execution_count": 19,
   "metadata": {},
   "outputs": [
    {
     "data": {
      "text/plain": [
       "1900.0"
      ]
     },
     "execution_count": 19,
     "metadata": {},
     "output_type": "execute_result"
    }
   ],
   "source": [
    "find_price.loc[(find_price[\"item_name\"] == '상품S'),'item_price'].iloc[0]"
   ]
  },
  {
   "cell_type": "code",
   "execution_count": 20,
   "metadata": {},
   "outputs": [
    {
     "name": "stderr",
     "output_type": "stream",
     "text": [
      "C:\\Users\\shh28\\Anaconda3\\lib\\site-packages\\pandas\\core\\indexing.py:670: SettingWithCopyWarning: \n",
      "A value is trying to be set on a copy of a slice from a DataFrame\n",
      "\n",
      "See the caveats in the documentation: https://pandas.pydata.org/pandas-docs/stable/user_guide/indexing.html#returning-a-view-versus-a-copy\n",
      "  iloc._setitem_with_indexer(indexer, value)\n"
     ]
    }
   ],
   "source": [
    "for e in list(uriage_data.loc[find_Nan , \"item_name\"].unique()):\n",
    "    \n",
    "     #print(e)\n",
    "\n",
    "    ad= find_price.loc[(find_price[\"item_name\"] == e),'item_price'].iloc[0]\n",
    "    \n",
    "     #print(ad)\n",
    "    \n",
    "    uriage_data[\"item_price\"].loc[(find_Nan) & (uriage_data[\"item_name\"]==e)] = ad\n",
    "    \n",
    "    uriage_data\n"
   ]
  },
  {
   "cell_type": "code",
   "execution_count": 21,
   "metadata": {},
   "outputs": [
    {
     "data": {
      "text/html": [
       "<div>\n",
       "<style scoped>\n",
       "    .dataframe tbody tr th:only-of-type {\n",
       "        vertical-align: middle;\n",
       "    }\n",
       "\n",
       "    .dataframe tbody tr th {\n",
       "        vertical-align: top;\n",
       "    }\n",
       "\n",
       "    .dataframe thead th {\n",
       "        text-align: right;\n",
       "    }\n",
       "</style>\n",
       "<table border=\"1\" class=\"dataframe\">\n",
       "  <thead>\n",
       "    <tr style=\"text-align: right;\">\n",
       "      <th></th>\n",
       "      <th>고객이름</th>\n",
       "      <th>지역</th>\n",
       "      <th>등록일</th>\n",
       "    </tr>\n",
       "  </thead>\n",
       "  <tbody>\n",
       "    <tr>\n",
       "      <th>0</th>\n",
       "      <td>김현성</td>\n",
       "      <td>H시</td>\n",
       "      <td>2018-01-04 00:00:00</td>\n",
       "    </tr>\n",
       "    <tr>\n",
       "      <th>1</th>\n",
       "      <td>김도윤</td>\n",
       "      <td>E시</td>\n",
       "      <td>42782</td>\n",
       "    </tr>\n",
       "    <tr>\n",
       "      <th>2</th>\n",
       "      <td>김지한</td>\n",
       "      <td>A시</td>\n",
       "      <td>2018-01-07 00:00:00</td>\n",
       "    </tr>\n",
       "    <tr>\n",
       "      <th>3</th>\n",
       "      <td>김하윤</td>\n",
       "      <td>F시</td>\n",
       "      <td>42872</td>\n",
       "    </tr>\n",
       "    <tr>\n",
       "      <th>4</th>\n",
       "      <td>김시온</td>\n",
       "      <td>E시</td>\n",
       "      <td>43127</td>\n",
       "    </tr>\n",
       "    <tr>\n",
       "      <th>...</th>\n",
       "      <td>...</td>\n",
       "      <td>...</td>\n",
       "      <td>...</td>\n",
       "    </tr>\n",
       "    <tr>\n",
       "      <th>195</th>\n",
       "      <td>김재희</td>\n",
       "      <td>G시</td>\n",
       "      <td>2017-06-20 00:00:00</td>\n",
       "    </tr>\n",
       "    <tr>\n",
       "      <th>196</th>\n",
       "      <td>김도영</td>\n",
       "      <td>E시</td>\n",
       "      <td>2018-06-20 00:00:00</td>\n",
       "    </tr>\n",
       "    <tr>\n",
       "      <th>197</th>\n",
       "      <td>김이안</td>\n",
       "      <td>F시</td>\n",
       "      <td>2017-04-29 00:00:00</td>\n",
       "    </tr>\n",
       "    <tr>\n",
       "      <th>198</th>\n",
       "      <td>김시현</td>\n",
       "      <td>H시</td>\n",
       "      <td>2019-04-19 00:00:00</td>\n",
       "    </tr>\n",
       "    <tr>\n",
       "      <th>199</th>\n",
       "      <td>김서우</td>\n",
       "      <td>D시</td>\n",
       "      <td>2019-04-23 00:00:00</td>\n",
       "    </tr>\n",
       "  </tbody>\n",
       "</table>\n",
       "<p>200 rows × 3 columns</p>\n",
       "</div>"
      ],
      "text/plain": [
       "    고객이름  지역                  등록일\n",
       "0    김현성  H시  2018-01-04 00:00:00\n",
       "1    김도윤  E시                42782\n",
       "2    김지한  A시  2018-01-07 00:00:00\n",
       "3    김하윤  F시                42872\n",
       "4    김시온  E시                43127\n",
       "..   ...  ..                  ...\n",
       "195  김재희  G시  2017-06-20 00:00:00\n",
       "196  김도영  E시  2018-06-20 00:00:00\n",
       "197  김이안  F시  2017-04-29 00:00:00\n",
       "198  김시현  H시  2019-04-19 00:00:00\n",
       "199  김서우  D시  2019-04-23 00:00:00\n",
       "\n",
       "[200 rows x 3 columns]"
      ]
     },
     "execution_count": 21,
     "metadata": {},
     "output_type": "execute_result"
    }
   ],
   "source": [
    "kokyaku_data"
   ]
  },
  {
   "cell_type": "code",
   "execution_count": 22,
   "metadata": {},
   "outputs": [],
   "source": [
    "a =kokyaku_data['등록일'][0]"
   ]
  },
  {
   "cell_type": "code",
   "execution_count": 23,
   "metadata": {},
   "outputs": [],
   "source": [
    "b = kokyaku_data['등록일'][1]"
   ]
  },
  {
   "cell_type": "code",
   "execution_count": 24,
   "metadata": {},
   "outputs": [
    {
     "data": {
      "text/plain": [
       "datetime.datetime"
      ]
     },
     "execution_count": 24,
     "metadata": {},
     "output_type": "execute_result"
    }
   ],
   "source": [
    "type(a)"
   ]
  },
  {
   "cell_type": "code",
   "execution_count": 25,
   "metadata": {},
   "outputs": [
    {
     "data": {
      "text/plain": [
       "int"
      ]
     },
     "execution_count": 25,
     "metadata": {},
     "output_type": "execute_result"
    }
   ],
   "source": [
    "type(b)"
   ]
  },
  {
   "cell_type": "code",
   "execution_count": 26,
   "metadata": {},
   "outputs": [
    {
     "data": {
      "text/plain": [
       "int"
      ]
     },
     "execution_count": 26,
     "metadata": {},
     "output_type": "execute_result"
    }
   ],
   "source": [
    "type(kokyaku_data['등록일'].iloc[3])"
   ]
  },
  {
   "cell_type": "code",
   "execution_count": 27,
   "metadata": {},
   "outputs": [
    {
     "name": "stdout",
     "output_type": "stream",
     "text": [
      "2017-02-18\n",
      "2017-05-19\n",
      "2018-01-29\n",
      "2017-07-06\n",
      "2017-06-17\n",
      "2017-01-08\n",
      "2017-07-15\n",
      "2017-04-10\n",
      "2018-03-31\n",
      "2018-01-12\n",
      "2017-06-01\n",
      "2018-06-05\n",
      "2018-01-31\n",
      "2018-04-18\n",
      "2017-05-27\n",
      "2017-03-26\n",
      "2017-01-21\n",
      "2018-03-24\n",
      "2017-01-10\n",
      "2017-07-26\n",
      "2018-07-15\n",
      "2018-06-10\n"
     ]
    }
   ],
   "source": [
    "from datetime import timedelta, datetime \n",
    "import datetime\n",
    "\n",
    "day1 = datetime.date(1900, 1, 1)\n",
    "\n",
    "for i in range(len(kokyaku_data['등록일'])):\n",
    "    if type(kokyaku_data['등록일'].iloc[i]) == int:\n",
    "        a = day1 + timedelta(days = kokyaku_data['등록일'].iloc[i])\n",
    "        #i= time.strftime('%Y-%m-%d %H:%M:%S', time.localtime(i))\n",
    "        kokyaku_data['등록일'].iloc[i] = a\n",
    "        print(a)"
   ]
  },
  {
   "cell_type": "code",
   "execution_count": 28,
   "metadata": {},
   "outputs": [
    {
     "data": {
      "text/plain": [
       "0      2018-01-04 00:00:00\n",
       "1               2017-02-18\n",
       "2      2018-01-07 00:00:00\n",
       "3               2017-05-19\n",
       "4               2018-01-29\n",
       "              ...         \n",
       "195    2017-06-20 00:00:00\n",
       "196    2018-06-20 00:00:00\n",
       "197    2017-04-29 00:00:00\n",
       "198    2019-04-19 00:00:00\n",
       "199    2019-04-23 00:00:00\n",
       "Name: 등록일, Length: 200, dtype: object"
      ]
     },
     "execution_count": 28,
     "metadata": {},
     "output_type": "execute_result"
    }
   ],
   "source": [
    "kokyaku_data['등록일']"
   ]
  },
  {
   "cell_type": "code",
   "execution_count": null,
   "metadata": {},
   "outputs": [],
   "source": []
  }
 ],
 "metadata": {
  "kernelspec": {
   "display_name": "Python 3",
   "language": "python",
   "name": "python3"
  },
  "language_info": {
   "codemirror_mode": {
    "name": "ipython",
    "version": 3
   },
   "file_extension": ".py",
   "mimetype": "text/x-python",
   "name": "python",
   "nbconvert_exporter": "python",
   "pygments_lexer": "ipython3",
   "version": "3.6.13"
  }
 },
 "nbformat": 4,
 "nbformat_minor": 4
}
