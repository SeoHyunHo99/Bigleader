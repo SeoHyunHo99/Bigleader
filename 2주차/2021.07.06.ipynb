{
 "cells": [
  {
   "cell_type": "code",
   "execution_count": 27,
   "id": "a9da29b4",
   "metadata": {},
   "outputs": [],
   "source": [
    "import numpy as np \n",
    "import matplotlib.pyplot as plt\n",
    "\n",
    "x1 = np.array([1.1, -0.9, 0.1])\n",
    "y1 = np.array([2.1, 5.7, 1.2])\n",
    "\n",
    "x2 = np.array([-2.9, 2.1, 4.0])\n",
    "y2 = np.array([35.4, 19.7, 41.5])"
   ]
  },
  {
   "cell_type": "code",
   "execution_count": 28,
   "id": "310317b3",
   "metadata": {},
   "outputs": [
    {
     "name": "stdout",
     "output_type": "stream",
     "text": [
      "[[ 1.21  1.1   1.  ]\n",
      " [ 0.81 -0.9   1.  ]\n",
      " [ 0.01  0.1   1.  ]]\n",
      "[[ 8.41 -2.9   1.  ]\n",
      " [ 4.41  2.1   1.  ]\n",
      " [16.    4.    1.  ]]\n"
     ]
    }
   ],
   "source": [
    "A = np.vstack([x1**2, x1, np.ones(len(x1))]).T #수직 방향으로 배열 합치기, np.ones에 1을 넣어 주려고\n",
    "print(A)\n",
    "B = np.vstack([x2**2, x2, np.ones(len(x2))]).T #수직 방향으로 배열 합치기, np.ones에 1을 넣어 주려고\n",
    "print(B)"
   ]
  },
  {
   "cell_type": "code",
   "execution_count": 29,
   "id": "f00d1880",
   "metadata": {},
   "outputs": [
    {
     "data": {
      "text/plain": [
       "(2.7000000000000006, -2.34, 1.4069999999999991)"
      ]
     },
     "execution_count": 29,
     "metadata": {},
     "output_type": "execute_result"
    }
   ],
   "source": [
    "a1, b1, c1 = np.linalg.lstsq(A, y1, rcond=None)[0] #역행렬 없이 계수 구하기\n",
    "a1, b1, c1"
   ]
  },
  {
   "cell_type": "code",
   "execution_count": 30,
   "id": "977504b4",
   "metadata": {},
   "outputs": [
    {
     "data": {
      "text/plain": [
       "(2.1179252479023654, -1.4456598016781053, 13.395835240274593)"
      ]
     },
     "execution_count": 30,
     "metadata": {},
     "output_type": "execute_result"
    }
   ],
   "source": [
    "a2, b2, c2 = np.linalg.lstsq(B, y2, rcond=None)[0]\n",
    "a2, b2, c2 "
   ]
  },
  {
   "cell_type": "code",
   "execution_count": 31,
   "id": "6ddb5959",
   "metadata": {},
   "outputs": [
    {
     "name": "stdout",
     "output_type": "stream",
     "text": [
      "[[ 0.5    0.5   -1.   ]\n",
      " [ 0.4   -0.6    0.2  ]\n",
      " [-0.045  0.055  0.99 ]]\n",
      "[[ 0.02898551 -0.10526316  0.07627765]\n",
      " [-0.17681159  0.11578947  0.06102212]\n",
      " [ 0.24347826  1.22105263 -0.46453089]]\n"
     ]
    },
    {
     "data": {
      "text/plain": [
       "array([ 2.11792525, -1.4456598 , 13.39583524])"
      ]
     },
     "execution_count": 31,
     "metadata": {},
     "output_type": "execute_result"
    }
   ],
   "source": [
    "AI = np.linalg.inv(A) #np.linalg.inv의 역행렬\n",
    "print(AI)\n",
    "np.dot(AI, y1) #행렬의 곱\n",
    "\n",
    "AI_2 = np.linalg.inv(B) #np.linalg.inv의 역행렬\n",
    "print(AI_2)\n",
    "np.dot(AI_2, y2) #행렬의 곱"
   ]
  },
  {
   "cell_type": "code",
   "execution_count": 32,
   "id": "753e97a5",
   "metadata": {},
   "outputs": [
    {
     "data": {
      "image/png": "[encoded data removed]",
      "text/plain": [
       "<Figure size 432x288 with 1 Axes>"
      ]
     },
     "metadata": {
      "needs_background": "light"
     },
     "output_type": "display_data"
    }
   ],
   "source": [
    "x = np.linspace(-20,20,200) #구간이 안 정해져 있음\n",
    "y1 = a1*x*x + b1*x + c1\n",
    "plt.plot(x,y1) #그래프1\n",
    "\n",
    "x = np.linspace(-20,20,200)\n",
    "y2 = a2*x*x + b2*x + c2\n",
    "plt.plot(x,y2) #그래프2\n",
    "plt.show()"
   ]
  },
  {
   "cell_type": "code",
   "execution_count": null,
   "id": "f7a3174f",
   "metadata": {},
   "outputs": [],
   "source": []
  }
 ],
 "metadata": {
  "kernelspec": {
   "display_name": "Python 3",
   "language": "python",
   "name": "python3"
  },
  "language_info": {
   "codemirror_mode": {
    "name": "ipython",
    "version": 3
   },
   "file_extension": ".py",
   "mimetype": "text/x-python",
   "name": "python",
   "nbconvert_exporter": "python",
   "pygments_lexer": "ipython3",
   "version": "3.6.13"
  }
 },
 "nbformat": 4,
 "nbformat_minor": 5
}
