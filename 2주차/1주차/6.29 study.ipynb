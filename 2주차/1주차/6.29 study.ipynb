{
 "cells": [
  {
   "cell_type": "markdown",
   "metadata": {},
   "source": [
    "#  #1"
   ]
  },
  {
   "cell_type": "code",
   "execution_count": 4,
   "metadata": {
    "scrolled": true
   },
   "outputs": [
    {
     "name": "stdout",
     "output_type": "stream",
     "text": [
      "1번째 숫자1\n",
      "2번째 숫자2\n",
      "3번째 숫자3\n",
      "4번째 숫자4\n",
      "5번째 숫자5\n",
      "6번째 숫자6\n",
      "7번째 숫자7\n",
      "8번째 숫자8\n",
      "9번째 숫자9\n",
      "10번째 숫자10\n",
      "[1, 2, 3, 4, 5, 6, 7, 8, 9, 10]\n"
     ]
    }
   ],
   "source": [
    "l1 =[]\n",
    "for i in range(0, 10):\n",
    "    num = int(input(str(i+1)+ \"번째 숫자\"))\n",
    "    l1.append(num)\n",
    "print(l1)"
   ]
  },
  {
   "cell_type": "markdown",
   "metadata": {},
   "source": [
    "# #2"
   ]
  },
  {
   "cell_type": "code",
   "execution_count": 6,
   "metadata": {},
   "outputs": [
    {
     "name": "stdout",
     "output_type": "stream",
     "text": [
      "[3, 6, 9]\n"
     ]
    }
   ],
   "source": [
    "l2 = []\n",
    "for i in l1:\n",
    "    if i%3 == 0:\n",
    "        l2.append(i)\n",
    "print(l2)"
   ]
  },
  {
   "cell_type": "markdown",
   "metadata": {},
   "source": [
    "# #3"
   ]
  },
  {
   "cell_type": "code",
   "execution_count": 7,
   "metadata": {},
   "outputs": [
    {
     "name": "stdout",
     "output_type": "stream",
     "text": [
      "['A', 'B', 'C', 'D', 'E', 'F', 'G', 'H', 'I', 'J', 'K', 'L', 'M', 'N', 'O', 'P', 'Q', 'R', 'S', 'T', 'U', 'V', 'W', 'X', 'Y', 'Z']\n"
     ]
    }
   ],
   "source": [
    "str1 = \"ABCDEFGHIJKLMNOPQRSTUVWXYZ\"\n",
    "l3 = []\n",
    "for s in str1:\n",
    "    l3.append(s)\n",
    "print(l3)"
   ]
  },
  {
   "cell_type": "markdown",
   "metadata": {},
   "source": [
    "# #4"
   ]
  },
  {
   "cell_type": "code",
   "execution_count": 19,
   "metadata": {},
   "outputs": [
    {
     "name": "stdout",
     "output_type": "stream",
     "text": [
      "['Sunday']\n"
     ]
    }
   ],
   "source": [
    "l4 = []\n",
    "str1 = str1.replace(str1, \"Sunday\")\n",
    "l4.append(str1)\n",
    "print(l4)"
   ]
  },
  {
   "cell_type": "markdown",
   "metadata": {},
   "source": [
    "# #5"
   ]
  },
  {
   "cell_type": "code",
   "execution_count": 47,
   "metadata": {},
   "outputs": [
    {
     "name": "stdout",
     "output_type": "stream",
     "text": [
      "['Sunday']\n"
     ]
    }
   ],
   "source": [
    "str1 = \"ABCDEFGHIJKLMNOPQRSTUVWXYZ\"\n",
    "l5 = []\n",
    "l5.append(str1)\n",
    "l5[0] = \"Sunday\"\n",
    "print(l5)"
   ]
  },
  {
   "cell_type": "markdown",
   "metadata": {},
   "source": [
    "# #6"
   ]
  },
  {
   "cell_type": "code",
   "execution_count": 66,
   "metadata": {
    "scrolled": true
   },
   "outputs": [
    {
     "name": "stdout",
     "output_type": "stream",
     "text": [
      "소주\n",
      "사과\n",
      "맥주\n",
      "사이다\n",
      "빵\n",
      "사과\n",
      "소주\n",
      "빵\n",
      "사과\n",
      "소주\n",
      "['소주', '사과', '맥주', '사이다', '빵', '사과', '소주', '빵', '사과', '소주']\n"
     ]
    }
   ],
   "source": [
    "l6 =[]\n",
    "for i in range(10):\n",
    "    a = input()\n",
    "    l6.append(a)\n",
    "print(l6)"
   ]
  },
  {
   "cell_type": "code",
   "execution_count": 81,
   "metadata": {},
   "outputs": [
    {
     "name": "stdout",
     "output_type": "stream",
     "text": [
      "소주 맥주 사과\n",
      "['소주', '맥주', '사과']\n"
     ]
    }
   ],
   "source": [
    "l7 = []\n",
    "l7 = input().split()\n",
    "print(l7)"
   ]
  },
  {
   "cell_type": "markdown",
   "metadata": {},
   "source": [
    "# #7"
   ]
  },
  {
   "cell_type": "code",
   "execution_count": 86,
   "metadata": {},
   "outputs": [
    {
     "name": "stdout",
     "output_type": "stream",
     "text": [
      "각 항목의 개수 = Counter({'소주':3, '사과':3,'빵':2,'맥주':1,'사이다':1})\n"
     ]
    }
   ],
   "source": [
    "print(\"각 항목의 개수 = Counter({'소주':%d, '사과':%d,'빵':%d,'맥주':%d,'사이다':%d})\" %(l6.count(\"소주\"), l6.count(\"사과\"), l6.count(\"빵\"), l6.count(\"맥주\"), l6.count(\"사이다\")))"
   ]
  },
  {
   "cell_type": "markdown",
   "metadata": {},
   "source": [
    "# #8"
   ]
  },
  {
   "cell_type": "code",
   "execution_count": 105,
   "metadata": {},
   "outputs": [
    {
     "name": "stdout",
     "output_type": "stream",
     "text": [
      "평균 : 158.6\n",
      "분산 : 65.84\n",
      "표준편차 : 8.114185110040317\n"
     ]
    }
   ],
   "source": [
    "list = [168, 153, 163, 157, 152, 168, 149, 163, 168, 145]\n",
    "\n",
    "sum = 0\n",
    "for i in list:\n",
    "    sum += i\n",
    "aver = sum / len(list)\n",
    "print(f\"평균 : {aver}\") # 값들의 평균\n",
    "\n",
    "sum = 0\n",
    "for j in list:\n",
    "    j = (j-aver)**2\n",
    "    sum += j\n",
    "    \n",
    "aver = sum / len(list) # 분산\n",
    "std_sub = aver **(1/2) # 표준편차\n",
    "\n",
    "print(f\"분산 : {aver}\")\n",
    "print(f\"표준편차 : {std_sub}\")"
   ]
  },
  {
   "cell_type": "code",
   "execution_count": 117,
   "metadata": {},
   "outputs": [
    {
     "ename": "TypeError",
     "evalue": "'int' object is not callable",
     "output_type": "error",
     "traceback": [
      "\u001b[1;31m---------------------------------------------------------------------------\u001b[0m",
      "\u001b[1;31mTypeError\u001b[0m                                 Traceback (most recent call last)",
      "\u001b[1;32m<ipython-input-117-1a65a97c296c>\u001b[0m in \u001b[0;36m<module>\u001b[1;34m\u001b[0m\n\u001b[0;32m      1\u001b[0m \u001b[0ms_list\u001b[0m \u001b[1;33m=\u001b[0m \u001b[1;33m[\u001b[0m\u001b[1;36m168\u001b[0m\u001b[1;33m,\u001b[0m\u001b[1;36m153\u001b[0m\u001b[1;33m,\u001b[0m\u001b[1;36m163\u001b[0m\u001b[1;33m,\u001b[0m\u001b[1;36m157\u001b[0m\u001b[1;33m,\u001b[0m\u001b[1;36m152\u001b[0m\u001b[1;33m,\u001b[0m\u001b[1;36m168\u001b[0m\u001b[1;33m,\u001b[0m\u001b[1;36m149\u001b[0m\u001b[1;33m,\u001b[0m\u001b[1;36m163\u001b[0m\u001b[1;33m,\u001b[0m\u001b[1;36m168\u001b[0m\u001b[1;33m,\u001b[0m\u001b[1;36m145\u001b[0m\u001b[1;33m]\u001b[0m\u001b[1;33m\u001b[0m\u001b[1;33m\u001b[0m\u001b[0m\n\u001b[0;32m      2\u001b[0m \u001b[0mn_obs\u001b[0m \u001b[1;33m=\u001b[0m \u001b[0mlen\u001b[0m\u001b[1;33m(\u001b[0m\u001b[0ms_list\u001b[0m\u001b[1;33m)\u001b[0m\u001b[1;33m\u001b[0m\u001b[1;33m\u001b[0m\u001b[0m\n\u001b[1;32m----> 3\u001b[1;33m \u001b[0ms_list_sum\u001b[0m \u001b[1;33m=\u001b[0m \u001b[0msum\u001b[0m\u001b[1;33m(\u001b[0m\u001b[0ms_list\u001b[0m\u001b[1;33m)\u001b[0m\u001b[1;33m\u001b[0m\u001b[1;33m\u001b[0m\u001b[0m\n\u001b[0m\u001b[0;32m      4\u001b[0m \u001b[0ms_list_mean\u001b[0m \u001b[1;33m=\u001b[0m \u001b[0ms_list_sum\u001b[0m\u001b[1;33m/\u001b[0m\u001b[0mn_obs\u001b[0m\u001b[1;33m\u001b[0m\u001b[1;33m\u001b[0m\u001b[0m\n\u001b[0;32m      5\u001b[0m \u001b[0mdeviation_sq\u001b[0m \u001b[1;33m=\u001b[0m \u001b[1;33m[\u001b[0m\u001b[0mround\u001b[0m\u001b[1;33m(\u001b[0m\u001b[1;33m(\u001b[0m\u001b[0mnum\u001b[0m\u001b[1;33m-\u001b[0m\u001b[0ms_list_mean\u001b[0m\u001b[1;33m)\u001b[0m\u001b[1;33m**\u001b[0m\u001b[1;36m2\u001b[0m\u001b[1;33m,\u001b[0m\u001b[1;36m3\u001b[0m\u001b[1;33m)\u001b[0m \u001b[1;32mfor\u001b[0m \u001b[0mnum\u001b[0m \u001b[1;32min\u001b[0m \u001b[0ms_list\u001b[0m\u001b[1;33m]\u001b[0m\u001b[1;33m\u001b[0m\u001b[1;33m\u001b[0m\u001b[0m\n",
      "\u001b[1;31mTypeError\u001b[0m: 'int' object is not callable"
     ]
    }
   ],
   "source": [
    "s_list = [168,153,163,157,152,168,149,163,168,145]\n",
    "n_obs = len(s_list) # s_list 길이\n",
    "s_list_sum = sum(s_list) # s_list 요소들 합계\n",
    "s_list_mean = s_list_sum/n_obs # s_list 평균  \n",
    "deviation_sq = [round((num-s_list_mean)**2,3) for num in s_list] # 편차\n",
    "deviation_sq_sum = sum(deviation_sq) # 편차 합계 \n",
    "s_list_var = deviation_sq_sum/(n_obs-1) # 분산 \n",
    "print(\"s_list의 분산: =\",round(s_list_var,3)) \n",
    "import math\n",
    "print(\"s_list의 표준편차: =\",round(math.sqrt(s_list_var),3)) "
   ]
  },
  {
   "cell_type": "code",
   "execution_count": 121,
   "metadata": {},
   "outputs": [
    {
     "ename": "TypeError",
     "evalue": "'int' object is not callable",
     "output_type": "error",
     "traceback": [
      "\u001b[1;31m---------------------------------------------------------------------------\u001b[0m",
      "\u001b[1;31mTypeError\u001b[0m                                 Traceback (most recent call last)",
      "\u001b[1;32m<ipython-input-121-b60ac73fa046>\u001b[0m in \u001b[0;36m<module>\u001b[1;34m\u001b[0m\n\u001b[0;32m      1\u001b[0m \u001b[0mli\u001b[0m \u001b[1;33m=\u001b[0m \u001b[1;33m[\u001b[0m\u001b[1;36m1\u001b[0m\u001b[1;33m,\u001b[0m\u001b[1;36m2\u001b[0m\u001b[1;33m,\u001b[0m\u001b[1;36m3\u001b[0m\u001b[1;33m]\u001b[0m\u001b[1;33m\u001b[0m\u001b[1;33m\u001b[0m\u001b[0m\n\u001b[1;32m----> 2\u001b[1;33m \u001b[0msum\u001b[0m\u001b[1;33m(\u001b[0m\u001b[0mli\u001b[0m\u001b[1;33m)\u001b[0m\u001b[1;33m\u001b[0m\u001b[1;33m\u001b[0m\u001b[0m\n\u001b[0m",
      "\u001b[1;31mTypeError\u001b[0m: 'int' object is not callable"
     ]
    }
   ],
   "source": [
    "li = [1,2,3]\n",
    "sum(li)"
   ]
  }
 ],
 "metadata": {
  "kernelspec": {
   "display_name": "Python 3",
   "language": "python",
   "name": "python3"
  },
  "language_info": {
   "codemirror_mode": {
    "name": "ipython",
    "version": 3
   },
   "file_extension": ".py",
   "mimetype": "text/x-python",
   "name": "python",
   "nbconvert_exporter": "python",
   "pygments_lexer": "ipython3",
   "version": "3.6.10"
  }
 },
 "nbformat": 4,
 "nbformat_minor": 4
}
