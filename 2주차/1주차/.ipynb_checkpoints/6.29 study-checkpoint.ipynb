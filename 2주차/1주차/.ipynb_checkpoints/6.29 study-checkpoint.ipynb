{
 "cells": [
  {
   "cell_type": "markdown",
   "metadata": {},
   "source": [
    "#  #1"
   ]
  },
  {
   "cell_type": "code",
   "execution_count": 4,
   "metadata": {
    "scrolled": true
   },
   "outputs": [
    {
     "name": "stdout",
     "output_type": "stream",
     "text": [
      "1번째 숫자1\n",
      "2번째 숫자2\n",
      "3번째 숫자3\n",
      "4번째 숫자4\n",
      "5번째 숫자5\n",
      "6번째 숫자6\n",
      "7번째 숫자7\n",
      "8번째 숫자8\n",
      "9번째 숫자9\n",
      "10번째 숫자10\n",
      "[1, 2, 3, 4, 5, 6, 7, 8, 9, 10]\n"
     ]
    }
   ],
   "source": [
    "l1 =[]\n",
    "for i in range(0, 10):\n",
    "    num = int(input(str(i+1)+ \"번째 숫자\"))\n",
    "    l1.append(num)\n",
    "print(l1)"
   ]
  },
  {
   "cell_type": "markdown",
   "metadata": {},
   "source": [
    "# #2"
   ]
  },
  {
   "cell_type": "code",
   "execution_count": 6,
   "metadata": {},
   "outputs": [
    {
     "name": "stdout",
     "output_type": "stream",
     "text": [
      "[3, 6, 9]\n"
     ]
    }
   ],
   "source": [
    "l2 = []\n",
    "for i in l1:\n",
    "    if i%3 == 0:\n",
    "        l2.append(i)\n",
    "print(l2)"
   ]
  },
  {
   "cell_type": "markdown",
   "metadata": {},
   "source": [
    "# #3"
   ]
  },
  {
   "cell_type": "code",
   "execution_count": 7,
   "metadata": {},
   "outputs": [
    {
     "name": "stdout",
     "output_type": "stream",
     "text": [
      "['A', 'B', 'C', 'D', 'E', 'F', 'G', 'H', 'I', 'J', 'K', 'L', 'M', 'N', 'O', 'P', 'Q', 'R', 'S', 'T', 'U', 'V', 'W', 'X', 'Y', 'Z']\n"
     ]
    }
   ],
   "source": [
    "str1 = \"ABCDEFGHIJKLMNOPQRSTUVWXYZ\"\n",
    "l3 = []\n",
    "for s in str1:\n",
    "    l3.append(s)\n",
    "print(l3)"
   ]
  },
  {
   "cell_type": "markdown",
   "metadata": {},
   "source": [
    "# #4"
   ]
  },
  {
   "cell_type": "code",
   "execution_count": 19,
   "metadata": {},
   "outputs": [
    {
     "name": "stdout",
     "output_type": "stream",
     "text": [
      "['Sunday']\n"
     ]
    }
   ],
   "source": [
    "l4 = []\n",
    "str1 = str1.replace(str1, \"Sunday\")\n",
    "l4.append(str1)\n",
    "print(l4)"
   ]
  },
  {
   "cell_type": "markdown",
   "metadata": {},
   "source": [
    "# #5"
   ]
  },
  {
   "cell_type": "code",
   "execution_count": 47,
   "metadata": {},
   "outputs": [
    {
     "name": "stdout",
     "output_type": "stream",
     "text": [
      "['Sunday']\n"
     ]
    }
   ],
   "source": [
    "str1 = \"ABCDEFGHIJKLMNOPQRSTUVWXYZ\"\n",
    "l5 = []\n",
    "l5.append(str1)\n",
    "l5[0] = \"Sunday\"\n",
    "print(l5)"
   ]
  },
  {
   "cell_type": "markdown",
   "metadata": {},
   "source": [
    "# #6"
   ]
  },
  {
   "cell_type": "code",
   "execution_count": 66,
   "metadata": {
    "scrolled": true
   },
   "outputs": [
    {
     "name": "stdout",
     "output_type": "stream",
     "text": [
      "소주\n",
      "사과\n",
      "맥주\n",
      "사이다\n",
      "빵\n",
      "사과\n",
      "소주\n",
      "빵\n",
      "사과\n",
      "소주\n",
      "['소주', '사과', '맥주', '사이다', '빵', '사과', '소주', '빵', '사과', '소주']\n"
     ]
    }
   ],
   "source": [
    "l6 =[]\n",
    "for i in range(10):\n",
    "    a = input()\n",
    "    l6.append(a)\n",
    "print(l6)"
   ]
  },
  {
   "cell_type": "code",
   "execution_count": 81,
   "metadata": {},
   "outputs": [
    {
     "name": "stdout",
     "output_type": "stream",
     "text": [
      "소주 맥주 사과\n",
      "['소주', '맥주', '사과']\n"
     ]
    }
   ],
   "source": [
    "l7 = []\n",
    "l7 = input().split()\n",
    "print(l7)"
   ]
  },
  {
   "cell_type": "markdown",
   "metadata": {},
   "source": [
    "                             확률및통계 과제3\n",
    "\n",
    "**주어진 문제를 jupyter notebook로 풀고, 그 결과를 notebook 파일 즉 *.ipynb 파일로 저장하고, 그 파일을 e-campus 과제 폴드에 upload 할 것**\n",
    "Python을 이용하여 다음의 문제를 풀어라. \n",
    "1. 사용자가  정수 10개를 화면으로 입력 받아 리스트를 만들어라.\n",
    "(힌트: for i in range(0,10):\n",
    "             num = int(input(str(i+1) + \"번째 숫자\"))  \n",
    "\n",
    "2. 1번에서 만든 리스트를 이용해서 입력한 숫자 중에서 3의 배수를 찾아서 새로운 리스트를 만들어라.(for 문을 이용하라.)\n",
    "\n",
    "3. 알파벳 대문자 ABCDEFGHIJKLMNOPQRSTUVWXYZ를 이용하여 문자열을 만들고, 그 문자열을 리스트로 만들어라. \n",
    "\n",
    "4. 리스트 함수를 이용하여 3번에서 만든 문자열을 Sunday로 바꾸어라. 그리고 리스트를 출력해보라.\n",
    "\n",
    "5. 리스트 인덱싱을 이용하여 3번에서 만든 문자열을 Sunday로 바꾸어라. 그리고 리스트를 출력해보라. \n",
    "\n",
    "6. 다음 10개의 항목을 화면으로 입력받아 다음과 같은 리스트를 만들어라.\n",
    " ['소주', '사과', '맥주', '사이다', '빵', '사과', '소주', '빵', '사과', '소주'] \n",
    "\n",
    "7. 6번에서 만든 리스트를 이용하여 각 항목의 개수를 구하고, 다음과 같은 형태로 출력하라.\n",
    "\n",
    "각 항목의 개수 = Counter({'소주': 3, '사과': 3, '빵': 2, '맥주': 1, '사이다': 1})\n",
    "\n",
    "8. 다음 자료에 대한 분산과 표준편차를 구하라.(리스트 축약 이용)\n",
    "\n",
    " 168, 153, 163, 157, 152, 168, 149, 163, 168, 145\n"
   ]
  },
  {
   "cell_type": "markdown",
   "metadata": {},
   "source": [
    "# #7"
   ]
  },
  {
   "cell_type": "code",
   "execution_count": 86,
   "metadata": {},
   "outputs": [
    {
     "name": "stdout",
     "output_type": "stream",
     "text": [
      "각 항목의 개수 = Counter({'소주':3, '사과':3,'빵':2,'맥주':1,'사이다':1})\n"
     ]
    }
   ],
   "source": [
    "print(\"각 항목의 개수 = Counter({'소주':%d, '사과':%d,'빵':%d,'맥주':%d,'사이다':%d})\" %(l6.count(\"소주\"), l6.count(\"사과\"), l6.count(\"빵\"), l6.count(\"맥주\"), l6.count(\"사이다\")))"
   ]
  },
  {
   "cell_type": "markdown",
   "metadata": {},
   "source": [
    "# #8"
   ]
  },
  {
   "cell_type": "code",
   "execution_count": 102,
   "metadata": {},
   "outputs": [
    {
     "name": "stdout",
     "output_type": "stream",
     "text": [
      "평균 : 158.6\n",
      "분산 : 65.84\n",
      "표준편차 : 8.114185110040317\n"
     ]
    }
   ],
   "source": [
    "list = [168, 153, 163, 157, 152, 168, 149, 163, 168, 145]\n",
    "\n",
    "sum = 0\n",
    "for i in list:\n",
    "    sum += i\n",
    "aver = sum / len(list)\n",
    "print(f\"평균 : {aver}\") # 값들의 평균\n",
    "\n",
    "sum = 0\n",
    "for j in list:\n",
    "    j = (j-aver)**2\n",
    "    sum += j\n",
    "    \n",
    "aver = sum / len(list) # 분산\n",
    "std_sub = aver **(1/2) # 표준편차\n",
    "\n",
    "print(f\"분산 : {aver}\")\n",
    "print(f\"표준편차 : {std_sub}\")"
   ]
  },
  {
   "cell_type": "code",
   "execution_count": null,
   "metadata": {},
   "outputs": [],
   "source": [
    "list = [168, 153, 163, 157, 152, 168, 149, 163, 168, 145]\n",
    "\n"
   ]
  }
 ],
 "metadata": {
  "kernelspec": {
   "display_name": "Python 3",
   "language": "python",
   "name": "python3"
  },
  "language_info": {
   "codemirror_mode": {
    "name": "ipython",
    "version": 3
   },
   "file_extension": ".py",
   "mimetype": "text/x-python",
   "name": "python",
   "nbconvert_exporter": "python",
   "pygments_lexer": "ipython3",
   "version": "3.6.10"
  }
 },
 "nbformat": 4,
 "nbformat_minor": 4
}
