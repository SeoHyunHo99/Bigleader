{
 "cells": [
  {
   "cell_type": "markdown",
   "id": "76ddbd8d",
   "metadata": {},
   "source": [
    "# 6.1 데이터 수집"
   ]
  },
  {
   "cell_type": "markdown",
   "id": "0321205f",
   "metadata": {},
   "source": [
    "## 6.1.1 크롤링을 이용한 서울시 스타벅스 매장 목록 데이터 생성"
   ]
  },
  {
   "cell_type": "code",
   "execution_count": 2,
   "id": "cc8739d7",
   "metadata": {},
   "outputs": [],
   "source": [
    "# 예제 6-1  라이브러리 임포트\n",
    "\n",
    "from selenium import webdriver\n",
    "from bs4 import BeautifulSoup\n",
    "import pandas as np"
   ]
  },
  {
   "cell_type": "code",
   "execution_count": 5,
   "id": "fc119322",
   "metadata": {},
   "outputs": [],
   "source": [
    "# 예제 6-2  webdriver 실행 후 스타벅스의 지역별 매장 검색 화면에 접속\n",
    "\n",
    "driver = webdriver.Chrome('C:/temp/chromedriver_91/chromedriver.exe')\n",
    "# driver = webdriver.Chrome('../chromedriver')\n",
    "url = 'https://www.istarbucks.co.kr/store/store_map.do?disp=locale'\n",
    "driver.get(url)"
   ]
  },
  {
   "cell_type": "code",
   "execution_count": 6,
   "id": "0c06b402",
   "metadata": {},
   "outputs": [],
   "source": [
    "# 예제 6-3 webdriver로 ‘서울’ 버튼 요소를 찾아 클릭\n",
    "\n",
    "seoul_btn = '#container > div > form > fieldset > div > section > article.find_store_cont > article > article:nth-child(4) > div.loca_step1 > div.loca_step1_cont > ul > li:nth-child(1) > a'\n",
    "driver.find_element_by_css_selector(seoul_btn).click()"
   ]
  },
  {
   "cell_type": "code",
   "execution_count": 7,
   "id": "cd9b2231",
   "metadata": {},
   "outputs": [],
   "source": [
    "# 예제 6-4  webdriver로 ‘전체’ 버튼 요소를 찾아 클릭\n",
    "\n",
    "all_btn = '#mCSB_2_container > ul > li:nth-child(1) > a'\n",
    "driver.find_element_by_css_selector(all_btn).click()"
   ]
  },
  {
   "cell_type": "code",
   "execution_count": 8,
   "id": "b399fbc0",
   "metadata": {},
   "outputs": [],
   "source": [
    "# 예제 6-5  BeautifulSoup으로 HTML 파서 만들기\n",
    "\n",
    "html = driver.page_source\n",
    "soup = BeautifulSoup(html, 'html.parser')"
   ]
  },
  {
   "cell_type": "code",
   "execution_count": 9,
   "id": "586c2896",
   "metadata": {},
   "outputs": [
    {
     "name": "stdout",
     "output_type": "stream",
     "text": [
      "556\n"
     ]
    }
   ],
   "source": [
    "# 예제 6-6  select()를 이용해 원하는 HTML 태그를 모두 찾아오기\n",
    "\n",
    "starbucks_soup_list = soup.select('li.quickResultLstCon')\n",
    "print(len(starbucks_soup_list))"
   ]
  },
  {
   "cell_type": "code",
   "execution_count": 10,
   "id": "7f560379",
   "metadata": {},
   "outputs": [
    {
     "data": {
      "text/plain": [
       "<li class=\"quickResultLstCon\" data-code=\"3762\" data-hlytag=\"null\" data-index=\"0\" data-lat=\"37.501087\" data-long=\"127.043069\" data-name=\"역삼아레나빌딩\" data-storecd=\"1509\" style=\"background:#fff\"> <strong data-my_siren_order_store_yn=\"N\" data-name=\"역삼아레나빌딩\" data-store=\"1509\" data-yn=\"N\">역삼아레나빌딩  </strong> <p class=\"result_details\">서울특별시 강남구 언주로 425 (역삼동)<br/>1522-3232</p> <i class=\"pin_general\">리저브 매장 2번</i></li>"
      ]
     },
     "execution_count": 10,
     "metadata": {},
     "output_type": "execute_result"
    }
   ],
   "source": [
    "# 예제 6-7  태그 문자열 살펴보기\n",
    "\n",
    "starbucks_soup_list[0]"
   ]
  },
  {
   "cell_type": "code",
   "execution_count": null,
   "id": "01f23cf4",
   "metadata": {},
   "outputs": [],
   "source": [
    "# 예제 6-8 스타벅스 매장 정보 샘플 확인\n",
    "\n",
    "startbucks_store = starbucks_soup_list[0]\n",
    "name = startbucks_store.select('strong')[0].text.strip()\n",
    "lat = startbucks_store['data-lat'].strip()\n",
    "lng = startbucks_store['data-long'].strip()\n",
    "store_type = startbucks_store.select('i')[0]['class'][0][4:]\n",
    "address = str(startbucks_store.select('p.result_details')[0]).split('<br/>')[0].split('>')[1]\n",
    "tel = str(startbucks_store.select('p.result_details')[0]).split('<br/>')[1].split('<')[0]\n",
    "\n",
    "print(name)         # 매장명\n",
    "print(lat)          # 위도\n",
    "print(lng)          # 경도\n",
    "print(store_type)   # 매장 타입\n",
    "print(address)      # 주소\n",
    "print(tel)          # 전화번호"
   ]
  }
 ],
 "metadata": {
  "kernelspec": {
   "display_name": "Python 3",
   "language": "python",
   "name": "python3"
  },
  "language_info": {
   "codemirror_mode": {
    "name": "ipython",
    "version": 3
   },
   "file_extension": ".py",
   "mimetype": "text/x-python",
   "name": "python",
   "nbconvert_exporter": "python",
   "pygments_lexer": "ipython3",
   "version": "3.6.13"
  }
 },
 "nbformat": 4,
 "nbformat_minor": 5
}
