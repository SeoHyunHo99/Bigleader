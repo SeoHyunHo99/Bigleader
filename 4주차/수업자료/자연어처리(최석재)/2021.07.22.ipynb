{
 "cells": [
  {
   "cell_type": "code",
   "execution_count": 1,
   "id": "764c4951",
   "metadata": {},
   "outputs": [
    {
     "name": "stdout",
     "output_type": "stream",
     "text": [
      "filepath:  C:\\Users\\shh28\\Anaconda3\\lib\\site-packages\n",
      "classpath:  C:\\Users\\shh28\\Anaconda3\\lib\\site-packages\\rhinoMorph/lib/rhino.jar\n",
      "RHINO started!\n"
     ]
    }
   ],
   "source": [
    "import rhinoMorph\n",
    "rn = rhinoMorph.startRhino()"
   ]
  },
  {
   "cell_type": "code",
   "execution_count": 3,
   "id": "c23045c9",
   "metadata": {},
   "outputs": [
    {
     "name": "stdout",
     "output_type": "stream",
     "text": [
      "sample data: ['한글', '테스트', '글', '을', '남기', '어', '주', '시', '어요']\n"
     ]
    }
   ],
   "source": [
    "# 예문 분석\n",
    "text = \"한글테스트 글을 남겨주세요\"\n",
    "sample_data = rhinoMorph.onlyMorph_list(rn, text)\n",
    "print('sample data:', sample_data)"
   ]
  },
  {
   "cell_type": "code",
   "execution_count": 5,
   "id": "9e7f2de3",
   "metadata": {},
   "outputs": [
    {
     "name": "stdout",
     "output_type": "stream",
     "text": [
      "filepath:  C:\\Users\\shh28\\Anaconda3\\lib\\site-packages\n",
      "classpath:  C:\\Users\\shh28\\Anaconda3\\lib\\site-packages\\rhinoMorph/lib/rhino.jar\n",
      "JVM is already started~\n",
      "RHINO started!\n",
      "\n",
      "1. 형태소 분석 결과: ['한글', '로', '되', 'ㄴ', '한글', '텍스트', '를', '분석', '하', '는', '것', '은', '즐겁', '다', '.']\n"
     ]
    }
   ],
   "source": [
    "import rhinoMorph\n",
    "rn = rhinoMorph.startRhino()\n",
    "text = \"한글로 된 한글텍스트를 분석하는 것은 즐겁다.\"\n",
    "\n",
    "# 사용 1 : 모든 형태소 보이기\n",
    "text_analyzed = rhinoMorph.onlyMorph_list(rn, text)\n",
    "print('\\n1. 형태소 분석 결과:', text_analyzed)"
   ]
  },
  {
   "cell_type": "code",
   "execution_count": 6,
   "id": "25041daa",
   "metadata": {},
   "outputs": [
    {
     "name": "stdout",
     "output_type": "stream",
     "text": [
      "\n",
      "2. 형태소 분석 결과: ['한글', '되', '한글', '텍스트', '분석', '즐겁']\n"
     ]
    }
   ],
   "source": [
    "# 사용 2 : 실질형태소만, 동사의 어말어미는 제외\n",
    "text_analyzed = rhinoMorph.onlyMorph_list(rn, text, pos=['NNG', 'NNP', 'NP', \n",
    "'VV', 'VA', 'XR', 'IC', 'MM', 'MAG', 'MAJ'])\n",
    "print('\\n2. 형태소 분석 결과:', text_analyzed)"
   ]
  },
  {
   "cell_type": "code",
   "execution_count": 7,
   "id": "686c5162",
   "metadata": {},
   "outputs": [
    {
     "name": "stdout",
     "output_type": "stream",
     "text": [
      "\n",
      "3. 형태소 분석 결과: ['한글', '되다', '한글', '텍스트', '분석', '즐겁다']\n"
     ]
    }
   ],
   "source": [
    "# 사용 3 : 실질형태소만, 동사의 어말어미 포함\n",
    "text_analyzed = rhinoMorph.onlyMorph_list(rn, text, pos=['NNG', 'NNP', 'NP', \n",
    "'VV', 'VA', 'XR', 'IC', 'MM', 'MAG', 'MAJ'], eomi=True)\n",
    "print('\\n3. 형태소 분석 결과:', text_analyzed)"
   ]
  },
  {
   "cell_type": "code",
   "execution_count": 8,
   "id": "0331bb25",
   "metadata": {},
   "outputs": [
    {
     "name": "stdout",
     "output_type": "stream",
     "text": [
      "\n",
      "4. 형태소 분석 결과:\n",
      "morphs: ['한글', '로', '되', 'ㄴ', '한글', '텍스트', '를', '분석', '하', '는', '것', '은', '즐겁', '다', '.']\n",
      "poses: ['NNG', 'JKB', 'VV', 'ETM', 'NNG', 'NNG', 'JKO', 'XR', 'XSV', 'ETM', 'NNB', 'JX', 'VA', 'EF', 'SF']\n"
     ]
    }
   ],
   "source": [
    "# 사용 4 : 전체형태소, 품사정보도 가져 오기\n",
    "morphs, poses = rhinoMorph.wholeResult_list(rn, text)\n",
    "print('\\n4. 형태소 분석 결과:')\n",
    "print('morphs:', morphs)\n",
    "print('poses:', poses)"
   ]
  },
  {
   "cell_type": "code",
   "execution_count": 9,
   "id": "d38b551f",
   "metadata": {},
   "outputs": [
    {
     "name": "stdout",
     "output_type": "stream",
     "text": [
      "\n",
      "5. 형태소 분석 결과:\n",
      " 한글로\t한글/NNG + 로/JKB\r\n",
      "된\t되/VV + ㄴ/ETM\r\n",
      "한글텍스트를\t한글/NNG + 텍스트/NNG + 를/JKO\r\n",
      "분석하는\t분석/XR + 하/XSV + 는/ETM\r\n",
      "것은\t것/NNB + 은/JX\r\n",
      "즐겁다\t즐겁/VA + 다/EF\r\n",
      ".\t./SF\r\n",
      "\n"
     ]
    }
   ],
   "source": [
    "# 사용 5 : 원문의 어절 정보를 같이 가져 오기\n",
    "text_analyzed = rhinoMorph.wholeResult_text(rn, text)\n",
    "print('\\n5. 형태소 분석 결과:\\n', text_analyzed)"
   ]
  },
  {
   "cell_type": "code",
   "execution_count": 10,
   "id": "664e0efc",
   "metadata": {},
   "outputs": [
    {
     "name": "stdout",
     "output_type": "stream",
     "text": [
      "\n",
      "6. 형태소 분석 결과:\n",
      " ['한글', '되', '한글텍스트', '분석', '즐겁']\n",
      "\n",
      "7. 형태소 분석 결과: \n",
      "morphs:  ['한글', '로', '되', 'ㄴ', '한글텍스트', '를', '분석', '하', '는', '것', '은', '즐겁', '다', '.']\n",
      "poses:  ['NNG', 'JKB', 'VV', 'ETM', 'NNG', 'JKO', 'XR', 'XSV', 'ETM', 'NNB', 'JX', 'VA', 'EF', 'SF']\n"
     ]
    }
   ],
   "source": [
    "# 사용 6, 7 : 한 어절에서 연결된 명사를 하나의 명사로 결합하기\n",
    "# onlyMorph_list와 wholeResult_list에서 사용 가능하다\n",
    "text_analyzed = rhinoMorph.onlyMorph_list(rn, text, pos=['NNG', 'NNP', 'NP', \n",
    "'VV', 'VA', 'XR', 'IC', 'MM', 'MAG', 'MAJ'], combineN=True)\n",
    "print('\\n6. 형태소 분석 결과:\\n', text_analyzed)\n",
    "morphs, poses = rhinoMorph.wholeResult_list(rn, text, combineN=True)\n",
    "print('\\n7. 형태소 분석 결과: ')\n",
    "print('morphs: ', morphs)\n",
    "print('poses: ', poses)"
   ]
  },
  {
   "cell_type": "code",
   "execution_count": null,
   "id": "30122e33",
   "metadata": {},
   "outputs": [],
   "source": []
  }
 ],
 "metadata": {
  "kernelspec": {
   "display_name": "Python 3",
   "language": "python",
   "name": "python3"
  },
  "language_info": {
   "codemirror_mode": {
    "name": "ipython",
    "version": 3
   },
   "file_extension": ".py",
   "mimetype": "text/x-python",
   "name": "python",
   "nbconvert_exporter": "python",
   "pygments_lexer": "ipython3",
   "version": "3.6.13"
  }
 },
 "nbformat": 4,
 "nbformat_minor": 5
}
